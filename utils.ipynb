{
 "cells": [
  {
   "cell_type": "code",
   "execution_count": 3,
   "metadata": {},
   "outputs": [],
   "source": [
    "import time\n",
    "def tic():\n",
    "    tic.start = time.perf_counter()\n",
    "\n",
    "def toc():\n",
    "    elapsed_seconds = time.perf_counter() - tic.start\n",
    "    return elapsed_seconds # fractional"
   ]
  },
  {
   "cell_type": "code",
   "execution_count": 6,
   "metadata": {},
   "outputs": [
    {
     "name": "stdout",
     "output_type": "stream",
     "text": [
      "3.002594506018795\n"
     ]
    }
   ],
   "source": [
    "# tic()\n",
    "# time.sleep(3)\n",
    "# print(toc())"
   ]
  },
  {
   "cell_type": "markdown",
   "metadata": {},
   "source": [
    "### Order the following CONFIG blocks so the selected one is last"
   ]
  },
  {
   "cell_type": "code",
   "execution_count": 4,
   "metadata": {},
   "outputs": [],
   "source": [
    "# DEV config\n",
    "natroot = 'http://localhost:8020' # DEV (images contain one pixel or JSON)\n",
    "ra = 0\n",
    "dec = -0.7\n",
    "size=1.0\n",
    "selectedRow = 2\n",
    "testUserEmail = 'nobody999@noao.edu'\n",
    "testUserPassword = 'test-user-password'\n",
    "testProposal = 'test-prop'\n",
    "publicFileId = 'f0222309429aafe8cb8c701942fc9af3'\n",
    "proprietaryFileId = '00011e9a2b1a96d292be2b59a729cfdc'\n"
   ]
  },
  {
   "cell_type": "code",
   "execution_count": 3,
   "metadata": {},
   "outputs": [],
   "source": [
    "# STAGE config\n",
    "natroot = 'https://marsnat1.stage.dm.noao.edu' \n",
    "ra = 184.5\n",
    "dec = -31.5\n",
    "size = 1.0\n",
    "selectedRow = 3\n",
    "publicFileId = '0000004ab27d9e427bb93c640b358633'"
   ]
  },
  {
   "cell_type": "code",
   "execution_count": 1,
   "metadata": {},
   "outputs": [],
   "source": [
    "# PAT config\n",
    "natroot = 'https://marsnat2.pat.dm.noao.edu' \n",
    "ra = 184.5\n",
    "dec = -31.5\n",
    "size = 1.0\n",
    "selectedRow = 3\n",
    "publicFileId = '0000298c7e0b3ce96b3fff51515a6100'\n",
    "proprietaryFileId = 'a96e55509a4cf89ebcc3126bef2e6aa7' # from S&F\n",
    "proprietaryArch   = 'c4d_140725_004418_ooi_g_v1.fits.fz' # from S&F"
   ]
  },
  {
   "cell_type": "code",
   "execution_count": null,
   "metadata": {},
   "outputs": [],
   "source": []
  }
 ],
 "metadata": {
  "kernelspec": {
   "display_name": "Python 3",
   "language": "python",
   "name": "python3"
  },
  "language_info": {
   "codemirror_mode": {
    "name": "ipython",
    "version": 3
   },
   "file_extension": ".py",
   "mimetype": "text/x-python",
   "name": "python",
   "nbconvert_exporter": "python",
   "pygments_lexer": "ipython3",
   "version": "3.6.9"
  }
 },
 "nbformat": 4,
 "nbformat_minor": 2
}
