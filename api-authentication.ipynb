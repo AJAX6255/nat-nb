{
 "cells": [
  {
   "cell_type": "markdown",
   "metadata": {},
   "source": [
    "[go here](#here)"
   ]
  },
  {
   "cell_type": "markdown",
   "metadata": {},
   "source": [
    "# [NSF's OIR Lab](https://nationalastro.org/) Astro Archive: Advanced Search\n",
    "\n",
    "[Community Science and Data Center](https://nationalastro.org/programs/csdc/)"
   ]
  },
  {
   "cell_type": "markdown",
   "metadata": {},
   "source": [
    "## Table Of Contents:\n",
    "* [Goals & notebook summary](#goals)\n",
    "* [Imports and setup](#init)\n",
    "* [Details](#details)\n",
    "* [Documentation](#doc)"
   ]
  },
  {
   "cell_type": "markdown",
   "metadata": {},
   "source": [
    "<a class=\"anchor\" id=\"goals\"></a>\n",
    "# Goals\n",
    "Instructions and examples for using Advanced Search API for accessing OIRLab Archive metadata.\n",
    "\n",
    "# Notebook Summary\n",
    "We show you how to use the API to search the Archive for FITS files by **any** field in the FITS headers."
   ]
  },
  {
   "cell_type": "markdown",
   "metadata": {},
   "source": [
    "## Imports and setup <a id=\"init\">\n",
    "Some of these imports are just for presentation in the juypter notebook.  You may not need it all."
   ]
  },
  {
   "cell_type": "code",
   "execution_count": 1,
   "metadata": {},
   "outputs": [
    {
     "name": "stdout",
     "output_type": "stream",
     "text": [
      "Using Python version: 3.6.9 (default, Nov  7 2019, 10:44:02) \n",
      "[GCC 8.3.0]\n"
     ]
    }
   ],
   "source": [
    "import sys\n",
    "import pandas as pd\n",
    "import matplotlib.pyplot as plt\n",
    "import matplotlib\n",
    "import numpy as np\n",
    "import astropy.io.fits as pyfits\n",
    "import astropy.utils as autils\n",
    "import requests\n",
    "import json\n",
    "from pprint import pprint as pp\n",
    "\n",
    "print(f'Using Python version: {sys.version}')"
   ]
  },
  {
   "cell_type": "code",
   "execution_count": 12,
   "metadata": {},
   "outputs": [
    {
     "data": {
      "text/plain": [
       "'https://marsnat2.pat.dm.noao.edu/api/adv_search'"
      ]
     },
     "execution_count": 12,
     "metadata": {},
     "output_type": "execute_result"
    }
   ],
   "source": [
    "%run utils.ipynb\n",
    "tic()\n",
    "\n",
    "adsurl = f'{natroot}/api/adv_search'\n",
    "adsurl"
   ]
  },
  {
   "cell_type": "markdown",
   "metadata": {},
   "source": [
    "## Details <a id=\"details\">\n",
    "\n",
    "* [Successful proprietary file retrieve with authentication](#good_auth)\n",
    "* [Unsuccessful proprietary file retrieve with BAD authentication](#bad_auth)\n",
    "* [Unsuccessful proprietary file retrieve with NO authentication](#no_auth)\n"
   ]
  },
  {
   "cell_type": "markdown",
   "metadata": {},
   "source": [
    "### Find some proprietary files\n",
    "\n"
   ]
  },
  {
   "cell_type": "code",
   "execution_count": 3,
   "metadata": {},
   "outputs": [
    {
     "name": "stdout",
     "output_type": "stream",
     "text": [
      "Using API url: https://marsnat1.stage.dm.noao.edu/api/adv_search/fasearch/?limit=9\n"
     ]
    },
    {
     "data": {
      "text/html": [
       "<div>\n",
       "<style scoped>\n",
       "    .dataframe tbody tr th:only-of-type {\n",
       "        vertical-align: middle;\n",
       "    }\n",
       "\n",
       "    .dataframe tbody tr th {\n",
       "        vertical-align: top;\n",
       "    }\n",
       "\n",
       "    .dataframe thead th {\n",
       "        text-align: right;\n",
       "    }\n",
       "</style>\n",
       "<table border=\"1\" class=\"dataframe\">\n",
       "  <thead>\n",
       "    <tr style=\"text-align: right;\">\n",
       "      <th></th>\n",
       "      <th>archive_filename</th>\n",
       "      <th>instrument</th>\n",
       "      <th>md5sum</th>\n",
       "      <th>obs_type</th>\n",
       "      <th>proposal</th>\n",
       "      <th>release_date</th>\n",
       "      <th>telescope</th>\n",
       "      <th>url</th>\n",
       "    </tr>\n",
       "  </thead>\n",
       "  <tbody>\n",
       "    <tr>\n",
       "      <th>0</th>\n",
       "      <td>/net/archive/mtn/20181129/ct4m/2012B-0001/c4d_...</td>\n",
       "      <td>decam</td>\n",
       "      <td>00001e23920e44bc3ce9c6c3e03a5549</td>\n",
       "      <td>object</td>\n",
       "      <td>2012B-0001</td>\n",
       "      <td>2020-05-22</td>\n",
       "      <td>ct4m</td>\n",
       "      <td>https://marsnat1.stage.dm.noao.edu/api/adv_sea...</td>\n",
       "    </tr>\n",
       "    <tr>\n",
       "      <th>1</th>\n",
       "      <td>/net/archive/pipe/20190518/ct4m/2019A-0325/c4d...</td>\n",
       "      <td>decam</td>\n",
       "      <td>0000283b256063676c71fa4603f9b609</td>\n",
       "      <td>object</td>\n",
       "      <td>2019A-0325</td>\n",
       "      <td>2020-11-08</td>\n",
       "      <td>ct4m</td>\n",
       "      <td>https://marsnat1.stage.dm.noao.edu/api/adv_sea...</td>\n",
       "    </tr>\n",
       "    <tr>\n",
       "      <th>2</th>\n",
       "      <td>/net/archive/pipe/20190407/ct4m/2017A-0281/c4d...</td>\n",
       "      <td>decam</td>\n",
       "      <td>00002d25d6e826209dfcd2ad6f9ebc0d</td>\n",
       "      <td>object</td>\n",
       "      <td>2017A-0281</td>\n",
       "      <td>2020-09-28</td>\n",
       "      <td>ct4m</td>\n",
       "      <td>https://marsnat1.stage.dm.noao.edu/api/adv_sea...</td>\n",
       "    </tr>\n",
       "    <tr>\n",
       "      <th>3</th>\n",
       "      <td>/net/archive/pipe/20190205/ct4m/2014B-0404/c4d...</td>\n",
       "      <td>decam</td>\n",
       "      <td>00002e92e8772d5134433c47e6278af2</td>\n",
       "      <td>object</td>\n",
       "      <td>2014B-0404</td>\n",
       "      <td>2020-07-29</td>\n",
       "      <td>ct4m</td>\n",
       "      <td>https://marsnat1.stage.dm.noao.edu/api/adv_sea...</td>\n",
       "    </tr>\n",
       "    <tr>\n",
       "      <th>4</th>\n",
       "      <td>/net/archive/pipe/20181127/ct4m/2012B-0001/c4d...</td>\n",
       "      <td>decam</td>\n",
       "      <td>0000364628e7f179919d08faadadbe01</td>\n",
       "      <td>object</td>\n",
       "      <td>2012B-0001</td>\n",
       "      <td>2020-05-20</td>\n",
       "      <td>ct4m</td>\n",
       "      <td>https://marsnat1.stage.dm.noao.edu/api/adv_sea...</td>\n",
       "    </tr>\n",
       "    <tr>\n",
       "      <th>5</th>\n",
       "      <td>/net/archive/pipe/20190327/ct4m/2019A-0101/c4d...</td>\n",
       "      <td>decam</td>\n",
       "      <td>000056a42693a62daccbf84671e08d0a</td>\n",
       "      <td>object</td>\n",
       "      <td>2019A-0101</td>\n",
       "      <td>2020-09-17</td>\n",
       "      <td>ct4m</td>\n",
       "      <td>https://marsnat1.stage.dm.noao.edu/api/adv_sea...</td>\n",
       "    </tr>\n",
       "    <tr>\n",
       "      <th>6</th>\n",
       "      <td>/net/archive/mtn/20190214/ct4m/2019A-0325/c4d_...</td>\n",
       "      <td>decam</td>\n",
       "      <td>000084ab7f1c312e70cf38a6cc7afcdb</td>\n",
       "      <td>object</td>\n",
       "      <td>2019A-0325</td>\n",
       "      <td>2020-08-07</td>\n",
       "      <td>ct4m</td>\n",
       "      <td>https://marsnat1.stage.dm.noao.edu/api/adv_sea...</td>\n",
       "    </tr>\n",
       "    <tr>\n",
       "      <th>7</th>\n",
       "      <td>/net/archive/pipe/20190322/ct4m/2019A-0101/c4d...</td>\n",
       "      <td>decam</td>\n",
       "      <td>00008e47581a9e627460a96fe6da9742</td>\n",
       "      <td>object</td>\n",
       "      <td>2019A-0101</td>\n",
       "      <td>2020-09-12</td>\n",
       "      <td>ct4m</td>\n",
       "      <td>https://marsnat1.stage.dm.noao.edu/api/adv_sea...</td>\n",
       "    </tr>\n",
       "    <tr>\n",
       "      <th>8</th>\n",
       "      <td>/net/archive/pipe/20181009/ct4m/2012B-0001/c4d...</td>\n",
       "      <td>decam</td>\n",
       "      <td>0000bd84610434f7c60b484b58cfce6c</td>\n",
       "      <td>object</td>\n",
       "      <td>2012B-0001</td>\n",
       "      <td>2020-04-01</td>\n",
       "      <td>ct4m</td>\n",
       "      <td>https://marsnat1.stage.dm.noao.edu/api/adv_sea...</td>\n",
       "    </tr>\n",
       "  </tbody>\n",
       "</table>\n",
       "</div>"
      ],
      "text/plain": [
       "                                    archive_filename instrument  \\\n",
       "0  /net/archive/mtn/20181129/ct4m/2012B-0001/c4d_...      decam   \n",
       "1  /net/archive/pipe/20190518/ct4m/2019A-0325/c4d...      decam   \n",
       "2  /net/archive/pipe/20190407/ct4m/2017A-0281/c4d...      decam   \n",
       "3  /net/archive/pipe/20190205/ct4m/2014B-0404/c4d...      decam   \n",
       "4  /net/archive/pipe/20181127/ct4m/2012B-0001/c4d...      decam   \n",
       "5  /net/archive/pipe/20190327/ct4m/2019A-0101/c4d...      decam   \n",
       "6  /net/archive/mtn/20190214/ct4m/2019A-0325/c4d_...      decam   \n",
       "7  /net/archive/pipe/20190322/ct4m/2019A-0101/c4d...      decam   \n",
       "8  /net/archive/pipe/20181009/ct4m/2012B-0001/c4d...      decam   \n",
       "\n",
       "                             md5sum obs_type    proposal release_date  \\\n",
       "0  00001e23920e44bc3ce9c6c3e03a5549   object  2012B-0001   2020-05-22   \n",
       "1  0000283b256063676c71fa4603f9b609   object  2019A-0325   2020-11-08   \n",
       "2  00002d25d6e826209dfcd2ad6f9ebc0d   object  2017A-0281   2020-09-28   \n",
       "3  00002e92e8772d5134433c47e6278af2   object  2014B-0404   2020-07-29   \n",
       "4  0000364628e7f179919d08faadadbe01   object  2012B-0001   2020-05-20   \n",
       "5  000056a42693a62daccbf84671e08d0a   object  2019A-0101   2020-09-17   \n",
       "6  000084ab7f1c312e70cf38a6cc7afcdb   object  2019A-0325   2020-08-07   \n",
       "7  00008e47581a9e627460a96fe6da9742   object  2019A-0101   2020-09-12   \n",
       "8  0000bd84610434f7c60b484b58cfce6c   object  2012B-0001   2020-04-01   \n",
       "\n",
       "  telescope                                                url  \n",
       "0      ct4m  https://marsnat1.stage.dm.noao.edu/api/adv_sea...  \n",
       "1      ct4m  https://marsnat1.stage.dm.noao.edu/api/adv_sea...  \n",
       "2      ct4m  https://marsnat1.stage.dm.noao.edu/api/adv_sea...  \n",
       "3      ct4m  https://marsnat1.stage.dm.noao.edu/api/adv_sea...  \n",
       "4      ct4m  https://marsnat1.stage.dm.noao.edu/api/adv_sea...  \n",
       "5      ct4m  https://marsnat1.stage.dm.noao.edu/api/adv_sea...  \n",
       "6      ct4m  https://marsnat1.stage.dm.noao.edu/api/adv_sea...  \n",
       "7      ct4m  https://marsnat1.stage.dm.noao.edu/api/adv_sea...  \n",
       "8      ct4m  https://marsnat1.stage.dm.noao.edu/api/adv_sea...  "
      ]
     },
     "execution_count": 3,
     "metadata": {},
     "output_type": "execute_result"
    }
   ],
   "source": [
    "jj = {\n",
    "    \"outfields\" : [\n",
    "        \"md5sum\",\n",
    "        \"archive_filename\",\n",
    "        \"telescope\",\n",
    "        \"instrument\",\n",
    "        \"obs_type\",\n",
    "        \"release_date\",\n",
    "        \"proposal\",\n",
    "    ],\n",
    "    \"search\" : [\n",
    "        [\"release_date\", '2020-02-18','2020-11-18'], # proprietary\n",
    "        [\"obs_type\", 'object'],\n",
    "    ]\n",
    "}\n",
    "apiurl = f'{adsurl}/fasearch/?limit=9'\n",
    "print(f'Using API url: {apiurl}')\n",
    "ads_df = pd.read_json(json.dumps(requests.post(apiurl,json=jj).json()))\n",
    "ads_df"
   ]
  },
  {
   "cell_type": "markdown",
   "metadata": {},
   "source": [
    "### Get PUBLIC file"
   ]
  },
  {
   "cell_type": "code",
   "execution_count": 13,
   "metadata": {},
   "outputs": [
    {
     "name": "stdout",
     "output_type": "stream",
     "text": [
      "Retrieve (download) file by id with:\n",
      "\thttps://marsnat2.pat.dm.noao.edu/api/retrieve/0000298c7e0b3ce96b3fff51515a6100\n",
      "You can also click on this link.\n"
     ]
    },
    {
     "data": {
      "text/plain": [
       "(2112, 2112)"
      ]
     },
     "execution_count": 13,
     "metadata": {},
     "output_type": "execute_result"
    },
    {
     "data": {
      "image/png": "[encoded data removed]",
      "text/plain": [
       "<Figure size 1152x648 with 1 Axes>"
      ]
     },
     "metadata": {
      "needs_background": "light"
     },
     "output_type": "display_data"
    }
   ],
   "source": [
    "fileid = publicFileId\n",
    "fileurl = f'{natroot}/api/retrieve/{fileid}'\n",
    "print(f'Retrieve (download) file by id with:\\n\\t{fileurl}')\n",
    "print('You can also click on this link.')\n",
    "zimage = pyfits.getdata(autils.data.download_file(fileurl,cache=True,show_progress=False,timeout=120))\n",
    "plt.rcParams[\"figure.figsize\"] = [16,9]\n",
    "plt.imshow(zimage,cmap=matplotlib.cm.gray_r)\n",
    "zimage.shape"
   ]
  },
  {
   "cell_type": "markdown",
   "metadata": {},
   "source": [
    "# HERE !!! <a id=\"here\">"
   ]
  },
  {
   "cell_type": "markdown",
   "metadata": {},
   "source": [
    "### Attempt to get PROPRIETARY file with invalid credentials"
   ]
  },
  {
   "cell_type": "code",
   "execution_count": 17,
   "metadata": {},
   "outputs": [
    {
     "name": "stdout",
     "output_type": "stream",
     "text": [
      "fileurl=https://marsnat2.pat.dm.noao.edu/api/retrieve/00011e9a2b1a96d292be2b59a729cfdc\n",
      "tokurl=https://marsnat2.pat.dm.noao.edu/api/get_token/\n",
      "auth={'email': 'bas@noao.edu', 'password': 'joe-hacker'}\n"
     ]
    }
   ],
   "source": [
    "token = None\n",
    "headers = dict()\n",
    "fileid = proprietaryFileId\n",
    "fileurl = f'{natroot}/api/retrieve/{fileid}'\n",
    "tokurl = f'{natroot}/api/get_token/'\n",
    "auth = dict(email='bas@noao.edu', password='joe-hacker')\n",
    "print(f'fileurl={fileurl}\\ntokurl={tokurl}\\nauth={auth}')"
   ]
  },
  {
   "cell_type": "code",
   "execution_count": 18,
   "metadata": {},
   "outputs": [
    {
     "name": "stdout",
     "output_type": "stream",
     "text": [
      "headers={'Authorization': '{\"detail\": \"No active account found with the given credentials\"}'}\n",
      "This file is not available until 2020-06-12\n"
     ]
    }
   ],
   "source": [
    "r = requests.post(tokurl, json=auth)\n",
    "if r.status_code == 200:\n",
    "    token = r.content.decode(\"utf-8\")\n",
    "    headers = dict(Authorization=token)\n",
    "    print(f'headers={headers}')\n",
    "    r2 = requests.get(fileurl,headers=headers)\n",
    "    if r2.status_code == 200:\n",
    "        print(f'token={token} file-size={len(r2.content):,} fileurl={fileurl} ')\n",
    "    else:\n",
    "        print(r2.json()['message'])\n",
    "else:\n",
    "    print(token['detail'])"
   ]
  },
  {
   "cell_type": "code",
   "execution_count": null,
   "metadata": {},
   "outputs": [],
   "source": []
  },
  {
   "cell_type": "code",
   "execution_count": 14,
   "metadata": {},
   "outputs": [
    {
     "name": "stdout",
     "output_type": "stream",
     "text": [
      "fileurl=https://marsnat2.pat.dm.noao.edu/api/retrieve/00011e9a2b1a96d292be2b59a729cfdc\n",
      "tokurl=https://marsnat2.pat.dm.noao.edu/api/get_token/\n",
      "auth={'email': 'nobody999@noao.edu', 'password': 'test-user-password'}\n"
     ]
    }
   ],
   "source": [
    "token = None\n",
    "headers = dict()\n",
    "fileid = proprietaryFileId\n",
    "fileurl = f'{natroot}/api/retrieve/{fileid}'\n",
    "tokurl = f'{natroot}/api/get_token/'\n",
    "auth = dict(email=testUserEmail, password=testUserPassword)\n",
    "print(f'fileurl={fileurl}\\ntokurl={tokurl}\\nauth={auth}')"
   ]
  },
  {
   "cell_type": "code",
   "execution_count": 15,
   "metadata": {},
   "outputs": [
    {
     "name": "stdout",
     "output_type": "stream",
     "text": [
      "headers={'Authorization': '{\"detail\": \"No active account found with the given credentials\"}'}\n",
      "This file is not available until 2020-06-12\n"
     ]
    }
   ],
   "source": [
    "r = requests.post(tokurl, json=auth)\n",
    "if r.status_code == 200:\n",
    "    token = r.content.decode(\"utf-8\")\n",
    "    headers = dict(Authorization=token)\n",
    "    print(f'headers={headers}')\n",
    "    r2 = requests.get(fileurl,headers=headers)\n",
    "    if r2.status_code == 200:\n",
    "        print(f'token={token} file-size={len(r2.content):,} fileurl={fileurl} ')\n",
    "    else:\n",
    "        print(r2.json()['message'])\n",
    "else:\n",
    "    print(token['detail'])"
   ]
  },
  {
   "cell_type": "code",
   "execution_count": null,
   "metadata": {},
   "outputs": [],
   "source": [
    "auth"
   ]
  },
  {
   "cell_type": "code",
   "execution_count": null,
   "metadata": {
    "scrolled": true
   },
   "outputs": [],
   "source": [
    "# Older versions of Astropy do not accept \"http_headers\" keyword\n",
    "#! zimage = pyfits.getdata(autils.data.download_file(fileurl,http_headers=headers,cache=True,show_progress=False,timeout=120))\n",
    "open('temp.fits', 'wb').write(r2.content) # write temp file\n",
    "zimage = pyfits.getdata('temp.fits')\n",
    "plt.rcParams[\"figure.figsize\"] = [16,9]\n",
    "plt.imshow(zimage,cmap=matplotlib.cm.gray_r)\n",
    "zimage.shape"
   ]
  },
  {
   "cell_type": "code",
   "execution_count": null,
   "metadata": {},
   "outputs": [],
   "source": [
    "plt.imshow(zimage[100:300, 0:200],cmap=matplotlib.cm.gray_r)"
   ]
  },
  {
   "cell_type": "markdown",
   "metadata": {},
   "source": [
    "### (Test file in PAT from Sean and Frank)"
   ]
  },
  {
   "cell_type": "code",
   "execution_count": null,
   "metadata": {},
   "outputs": [],
   "source": [
    "prfileid = 'a96e55509a4cf89ebcc3126bef2e6aa7'\n",
    "fileurl = f'{natroot}/api/natica/retrieve/{prfileid}'\n",
    "\n",
    "auth = dict(email='nobody@noao.edu', password='xyzzy')\n",
    "tokurl = f'{natroot}/api/get_token/'\n",
    "r = requests.post(tokurl, json=auth)\n",
    "token = r.content\n",
    "\n",
    "print(f'Got token=\"{token}\" using {tokurl}; fileurl={fileurl}')"
   ]
  },
  {
   "cell_type": "code",
   "execution_count": null,
   "metadata": {},
   "outputs": [],
   "source": [
    "r2 = requests.get(fileurl)\n",
    "print(f'HTTP-Status={r2.status_code} File-size={len(r2.content):,}')\n",
    "if r2.status_code == 200:\n",
    "    zimage = pyfits.getdata(autils.data.download_file(fileurl,cache=True,show_progress=False,timeout=120))\n",
    "    plt.rcParams[\"figure.figsize\"] = [32,18]\n",
    "    plt.imshow(zimage,cmap=matplotlib.cm.gray_r)\n",
    "    zimage.shape\n",
    "else:\n",
    "    print(r2.json())"
   ]
  },
  {
   "cell_type": "code",
   "execution_count": null,
   "metadata": {},
   "outputs": [],
   "source": [
    "import datetime\n",
    "elapsed = toc()\n",
    "print(f'Elapsed seconds={elapsed}')\n",
    "str(datetime.datetime.now())"
   ]
  },
  {
   "cell_type": "markdown",
   "metadata": {},
   "source": [
    "# Resources and references <a id=\"doc\" />\n",
    "\n",
    "[dal API](http://marsnat2.pat.dm.noao.edu:8000/api-docs/#/dal)\n",
    "We should look at fancy annotation to make this better. Programmers will want clear doc of what parameters can be passed to each service.\n",
    "\n",
    "[Data  Models](https://marsnat2.pat.dm.noao.edu:8000/admin/doc/models/)"
   ]
  }
 ],
 "metadata": {
  "kernelspec": {
   "display_name": "Python 3",
   "language": "python",
   "name": "python3"
  },
  "language_info": {
   "codemirror_mode": {
    "name": "ipython",
    "version": 3
   },
   "file_extension": ".py",
   "mimetype": "text/x-python",
   "name": "python",
   "nbconvert_exporter": "python",
   "pygments_lexer": "ipython3",
   "version": "3.6.9"
  }
 },
 "nbformat": 4,
 "nbformat_minor": 2
}
