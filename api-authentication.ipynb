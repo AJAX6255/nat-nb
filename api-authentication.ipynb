{
 "cells": [
  {
   "cell_type": "markdown",
   "metadata": {},
   "source": [
    "[go here](#here)"
   ]
  },
  {
   "cell_type": "markdown",
   "metadata": {},
   "source": [
    "# [NSF's OIR Lab](https://nationalastro.org/) Astro Archive: Advanced Search\n",
    "\n",
    "[Community Science and Data Center](https://nationalastro.org/programs/csdc/)"
   ]
  },
  {
   "cell_type": "markdown",
   "metadata": {},
   "source": [
    "## Table Of Contents:\n",
    "* [Goals & notebook summary](#goals)\n",
    "* [Imports and setup](#init)\n",
    "* [Details](#details)\n",
    "* [Documentation](#doc)"
   ]
  },
  {
   "cell_type": "markdown",
   "metadata": {},
   "source": [
    "<a class=\"anchor\" id=\"goals\"></a>\n",
    "# Goals\n",
    "Instructions and examples for using Advanced Search API for accessing OIRLab Archive metadata.\n",
    "\n",
    "# Notebook Summary\n",
    "We show you how to use the API to search the Archive for FITS files by **any** field in the FITS headers."
   ]
  },
  {
   "cell_type": "markdown",
   "metadata": {},
   "source": [
    "## Imports and setup <a id=\"init\">\n",
    "Some of these imports are just for presentation in the juypter notebook.  You may not need it all."
   ]
  },
  {
   "cell_type": "code",
   "execution_count": 1,
   "metadata": {},
   "outputs": [
    {
     "name": "stdout",
     "output_type": "stream",
     "text": [
      "Using Python version: 3.6.8 (default, Aug 10 2019, 06:52:10) \n",
      "[GCC 4.4.7 20120313 (Red Hat 4.4.7-23)]\n"
     ]
    }
   ],
   "source": [
    "import sys\n",
    "import pandas as pd\n",
    "import matplotlib.pyplot as plt\n",
    "import matplotlib\n",
    "import numpy as np\n",
    "import astropy.io.fits as pyfits\n",
    "import astropy.utils as autils\n",
    "import requests\n",
    "import json\n",
    "from pprint import pprint as pp\n",
    "\n",
    "print(f'Using Python version: {sys.version}')\n",
    "public_id = '0000298c7e0b3ce96b3fff51515a6100'\n",
    "proprietary_id = '00011e9a2b1a96d292be2b59a729cfdc'"
   ]
  },
  {
   "cell_type": "markdown",
   "metadata": {},
   "source": [
    "### Order the following CONFIG blocks so the selected one is last"
   ]
  },
  {
   "cell_type": "code",
   "execution_count": 2,
   "metadata": {},
   "outputs": [],
   "source": [
    "# DEV config\n",
    "natroot = 'http://localhost:8020' # DEV (images contain one pixel or JSON)"
   ]
  },
  {
   "cell_type": "code",
   "execution_count": 3,
   "metadata": {},
   "outputs": [],
   "source": [
    "# PAT config\n",
    "natroot = 'https://marsnat2.pat.dm.noao.edu' "
   ]
  },
  {
   "cell_type": "code",
   "execution_count": 4,
   "metadata": {},
   "outputs": [],
   "source": [
    "# STAGE config\n",
    "natroot = 'https://marsnat1.stage.dm.noao.edu' "
   ]
  },
  {
   "cell_type": "code",
   "execution_count": 5,
   "metadata": {},
   "outputs": [
    {
     "data": {
      "text/plain": [
       "'https://marsnat1.stage.dm.noao.edu/api/adv_search'"
      ]
     },
     "execution_count": 5,
     "metadata": {},
     "output_type": "execute_result"
    }
   ],
   "source": [
    "adsurl = f'{natroot}/api/adv_search'\n",
    "adsurl"
   ]
  },
  {
   "cell_type": "markdown",
   "metadata": {},
   "source": [
    "## Details <a id=\"details\">\n",
    "\n",
    "* [Successful proprietary file retrieve with authentication](#good_auth)\n",
    "* [Unsuccessful proprietary file retrieve with BAD authentication](#bad_auth)\n",
    "* [Unsuccessful proprietary file retrieve with NO authentication](#no_auth)\n"
   ]
  },
  {
   "cell_type": "markdown",
   "metadata": {},
   "source": [
    "### Find some proprietary files\n",
    "\n"
   ]
  },
  {
   "cell_type": "code",
   "execution_count": 6,
   "metadata": {},
   "outputs": [
    {
     "name": "stdout",
     "output_type": "stream",
     "text": [
      "Using API url: https://marsnat1.stage.dm.noao.edu/api/adv_search/fasearch/?limit=9\n"
     ]
    },
    {
     "data": {
      "text/html": [
       "<div>\n",
       "<style scoped>\n",
       "    .dataframe tbody tr th:only-of-type {\n",
       "        vertical-align: middle;\n",
       "    }\n",
       "\n",
       "    .dataframe tbody tr th {\n",
       "        vertical-align: top;\n",
       "    }\n",
       "\n",
       "    .dataframe thead th {\n",
       "        text-align: right;\n",
       "    }\n",
       "</style>\n",
       "<table border=\"1\" class=\"dataframe\">\n",
       "  <thead>\n",
       "    <tr style=\"text-align: right;\">\n",
       "      <th></th>\n",
       "      <th>archive_filename</th>\n",
       "      <th>instrument</th>\n",
       "      <th>md5sum</th>\n",
       "      <th>obs_type</th>\n",
       "      <th>proposal</th>\n",
       "      <th>release_date</th>\n",
       "      <th>telescope</th>\n",
       "      <th>url</th>\n",
       "    </tr>\n",
       "  </thead>\n",
       "  <tbody>\n",
       "    <tr>\n",
       "      <th>0</th>\n",
       "      <td>/net/archive/mtn/20181129/ct4m/2012B-0001/c4d_...</td>\n",
       "      <td>decam</td>\n",
       "      <td>00001e23920e44bc3ce9c6c3e03a5549</td>\n",
       "      <td>object</td>\n",
       "      <td>2012B-0001</td>\n",
       "      <td>2020-05-22</td>\n",
       "      <td>ct4m</td>\n",
       "      <td>https://marsnat1.stage.dm.noao.edu/api/adv_sea...</td>\n",
       "    </tr>\n",
       "    <tr>\n",
       "      <th>1</th>\n",
       "      <td>/net/archive/pipe/20190518/ct4m/2019A-0325/c4d...</td>\n",
       "      <td>decam</td>\n",
       "      <td>0000283b256063676c71fa4603f9b609</td>\n",
       "      <td>object</td>\n",
       "      <td>2019A-0325</td>\n",
       "      <td>2020-11-08</td>\n",
       "      <td>ct4m</td>\n",
       "      <td>https://marsnat1.stage.dm.noao.edu/api/adv_sea...</td>\n",
       "    </tr>\n",
       "    <tr>\n",
       "      <th>2</th>\n",
       "      <td>/net/archive/pipe/20190407/ct4m/2017A-0281/c4d...</td>\n",
       "      <td>decam</td>\n",
       "      <td>00002d25d6e826209dfcd2ad6f9ebc0d</td>\n",
       "      <td>object</td>\n",
       "      <td>2017A-0281</td>\n",
       "      <td>2020-09-28</td>\n",
       "      <td>ct4m</td>\n",
       "      <td>https://marsnat1.stage.dm.noao.edu/api/adv_sea...</td>\n",
       "    </tr>\n",
       "    <tr>\n",
       "      <th>3</th>\n",
       "      <td>/net/archive/pipe/20190205/ct4m/2014B-0404/c4d...</td>\n",
       "      <td>decam</td>\n",
       "      <td>00002e92e8772d5134433c47e6278af2</td>\n",
       "      <td>object</td>\n",
       "      <td>2014B-0404</td>\n",
       "      <td>2020-07-29</td>\n",
       "      <td>ct4m</td>\n",
       "      <td>https://marsnat1.stage.dm.noao.edu/api/adv_sea...</td>\n",
       "    </tr>\n",
       "    <tr>\n",
       "      <th>4</th>\n",
       "      <td>/net/archive/pipe/20181127/ct4m/2012B-0001/c4d...</td>\n",
       "      <td>decam</td>\n",
       "      <td>0000364628e7f179919d08faadadbe01</td>\n",
       "      <td>object</td>\n",
       "      <td>2012B-0001</td>\n",
       "      <td>2020-05-20</td>\n",
       "      <td>ct4m</td>\n",
       "      <td>https://marsnat1.stage.dm.noao.edu/api/adv_sea...</td>\n",
       "    </tr>\n",
       "    <tr>\n",
       "      <th>5</th>\n",
       "      <td>/net/archive/pipe/20190327/ct4m/2019A-0101/c4d...</td>\n",
       "      <td>decam</td>\n",
       "      <td>000056a42693a62daccbf84671e08d0a</td>\n",
       "      <td>object</td>\n",
       "      <td>2019A-0101</td>\n",
       "      <td>2020-09-17</td>\n",
       "      <td>ct4m</td>\n",
       "      <td>https://marsnat1.stage.dm.noao.edu/api/adv_sea...</td>\n",
       "    </tr>\n",
       "    <tr>\n",
       "      <th>6</th>\n",
       "      <td>/net/archive/mtn/20190214/ct4m/2019A-0325/c4d_...</td>\n",
       "      <td>decam</td>\n",
       "      <td>000084ab7f1c312e70cf38a6cc7afcdb</td>\n",
       "      <td>object</td>\n",
       "      <td>2019A-0325</td>\n",
       "      <td>2020-08-07</td>\n",
       "      <td>ct4m</td>\n",
       "      <td>https://marsnat1.stage.dm.noao.edu/api/adv_sea...</td>\n",
       "    </tr>\n",
       "    <tr>\n",
       "      <th>7</th>\n",
       "      <td>/net/archive/pipe/20190322/ct4m/2019A-0101/c4d...</td>\n",
       "      <td>decam</td>\n",
       "      <td>00008e47581a9e627460a96fe6da9742</td>\n",
       "      <td>object</td>\n",
       "      <td>2019A-0101</td>\n",
       "      <td>2020-09-12</td>\n",
       "      <td>ct4m</td>\n",
       "      <td>https://marsnat1.stage.dm.noao.edu/api/adv_sea...</td>\n",
       "    </tr>\n",
       "    <tr>\n",
       "      <th>8</th>\n",
       "      <td>/net/archive/pipe/20181009/ct4m/2012B-0001/c4d...</td>\n",
       "      <td>decam</td>\n",
       "      <td>0000bd84610434f7c60b484b58cfce6c</td>\n",
       "      <td>object</td>\n",
       "      <td>2012B-0001</td>\n",
       "      <td>2020-04-01</td>\n",
       "      <td>ct4m</td>\n",
       "      <td>https://marsnat1.stage.dm.noao.edu/api/adv_sea...</td>\n",
       "    </tr>\n",
       "  </tbody>\n",
       "</table>\n",
       "</div>"
      ],
      "text/plain": [
       "                                    archive_filename instrument  \\\n",
       "0  /net/archive/mtn/20181129/ct4m/2012B-0001/c4d_...      decam   \n",
       "1  /net/archive/pipe/20190518/ct4m/2019A-0325/c4d...      decam   \n",
       "2  /net/archive/pipe/20190407/ct4m/2017A-0281/c4d...      decam   \n",
       "3  /net/archive/pipe/20190205/ct4m/2014B-0404/c4d...      decam   \n",
       "4  /net/archive/pipe/20181127/ct4m/2012B-0001/c4d...      decam   \n",
       "5  /net/archive/pipe/20190327/ct4m/2019A-0101/c4d...      decam   \n",
       "6  /net/archive/mtn/20190214/ct4m/2019A-0325/c4d_...      decam   \n",
       "7  /net/archive/pipe/20190322/ct4m/2019A-0101/c4d...      decam   \n",
       "8  /net/archive/pipe/20181009/ct4m/2012B-0001/c4d...      decam   \n",
       "\n",
       "                             md5sum obs_type    proposal release_date  \\\n",
       "0  00001e23920e44bc3ce9c6c3e03a5549   object  2012B-0001   2020-05-22   \n",
       "1  0000283b256063676c71fa4603f9b609   object  2019A-0325   2020-11-08   \n",
       "2  00002d25d6e826209dfcd2ad6f9ebc0d   object  2017A-0281   2020-09-28   \n",
       "3  00002e92e8772d5134433c47e6278af2   object  2014B-0404   2020-07-29   \n",
       "4  0000364628e7f179919d08faadadbe01   object  2012B-0001   2020-05-20   \n",
       "5  000056a42693a62daccbf84671e08d0a   object  2019A-0101   2020-09-17   \n",
       "6  000084ab7f1c312e70cf38a6cc7afcdb   object  2019A-0325   2020-08-07   \n",
       "7  00008e47581a9e627460a96fe6da9742   object  2019A-0101   2020-09-12   \n",
       "8  0000bd84610434f7c60b484b58cfce6c   object  2012B-0001   2020-04-01   \n",
       "\n",
       "  telescope                                                url  \n",
       "0      ct4m  https://marsnat1.stage.dm.noao.edu/api/adv_sea...  \n",
       "1      ct4m  https://marsnat1.stage.dm.noao.edu/api/adv_sea...  \n",
       "2      ct4m  https://marsnat1.stage.dm.noao.edu/api/adv_sea...  \n",
       "3      ct4m  https://marsnat1.stage.dm.noao.edu/api/adv_sea...  \n",
       "4      ct4m  https://marsnat1.stage.dm.noao.edu/api/adv_sea...  \n",
       "5      ct4m  https://marsnat1.stage.dm.noao.edu/api/adv_sea...  \n",
       "6      ct4m  https://marsnat1.stage.dm.noao.edu/api/adv_sea...  \n",
       "7      ct4m  https://marsnat1.stage.dm.noao.edu/api/adv_sea...  \n",
       "8      ct4m  https://marsnat1.stage.dm.noao.edu/api/adv_sea...  "
      ]
     },
     "execution_count": 6,
     "metadata": {},
     "output_type": "execute_result"
    }
   ],
   "source": [
    "jj = {\n",
    "    \"outfields\" : [\n",
    "        \"md5sum\",\n",
    "        \"archive_filename\",\n",
    "        \"telescope\",\n",
    "        \"instrument\",\n",
    "        \"obs_type\",\n",
    "        \"release_date\",\n",
    "        \"proposal\",\n",
    "    ],\n",
    "    \"search\" : [\n",
    "        [\"release_date\", '2020-02-18','2020-11-18'], # proprietary\n",
    "        [\"obs_type\", 'object'],\n",
    "    ]\n",
    "}\n",
    "apiurl = f'{adsurl}/fasearch/?limit=9'\n",
    "print(f'Using API url: {apiurl}')\n",
    "ads_df = pd.read_json(json.dumps(requests.post(apiurl,json=jj).json()))\n",
    "ads_df"
   ]
  },
  {
   "cell_type": "code",
   "execution_count": 7,
   "metadata": {},
   "outputs": [
    {
     "name": "stdout",
     "output_type": "stream",
     "text": [
      "token=detail file-size=83 fileurl=https://marsnat1.stage.dm.noao.edu/api/natica/retrieve/00011e9a2b1a96d292be2b59a729cfdc \n"
     ]
    }
   ],
   "source": [
    "fileid = '00011e9a2b1a96d292be2b59a729cfdc' # proprietary file\n",
    "\n",
    "fileurl = f'{natroot}/api/natica/retrieve/{fileid}'\n",
    "tokurl = f'{natroot}/api/get_token/'\n",
    "auth = dict(email='nobody@noao.edu', password='xyzzy')\n",
    "r = requests.post(tokurl, json=auth)\n",
    "token = r.content.decode(\"utf-8\")\n",
    "headers = dict(Authorization=token)\n",
    "headers = dict(Authorization='dummy')\n",
    "r2 = requests.get(fileurl,headers=headers)\n",
    "\n",
    "print(f'token={token} file-size={len(r2.content):,} fileurl={fileurl} ')"
   ]
  },
  {
   "cell_type": "markdown",
   "metadata": {},
   "source": [
    "# HERE !!! <a id=\"here\">"
   ]
  },
  {
   "cell_type": "code",
   "execution_count": 8,
   "metadata": {
    "scrolled": true
   },
   "outputs": [
    {
     "ename": "OSError",
     "evalue": "Header missing END card.",
     "output_type": "error",
     "traceback": [
      "---------------------------------------------------------------------------",
      "Exception                                 Traceback (most recent call last)",
      "~/sandbox/jnotebooks/venv/lib64/python3.6/site-packages/astropy/io/fits/hdu/base.py in _readfrom_internal(cls, data, header, checksum, ignore_missing_end, **kwargs)\n    406                     # that are needed to build the HDU object.\n--> 407                     header_str, header = _BasicHeader.fromfile(data)\n    408                 except Exception:\n",
      "~/sandbox/jnotebooks/venv/lib64/python3.6/site-packages/astropy/io/fits/header.py in fromfile(cls, fileobj)\n   2080         try:\n-> 2081             header_str, cards = parse_header(fileobj)\n   2082             _check_padding(header_str, BLOCK_SIZE, False)\n",
      "astropy/io/fits/_utils.pyx in astropy.io.fits._utils.parse_header()\n",
      "Exception: ",
      "\nDuring handling of the above exception, another exception occurred:\n",
      "OSError                                   Traceback (most recent call last)",
      "<ipython-input-8-9ad89799e816> in <module>\n      2 #zimage = pyfits.getdata(autils.data.download_file(fileurl,http_headers=headers,cache=True,show_progress=False,timeout=120))\n      3 open('temp.fits', 'wb').write(r2.content) # write temp file\n----> 4 zimage = pyfits.getdata('temp.fits')\n      5 plt.rcParams[\"figure.figsize\"] = [16,9]\n      6 plt.imshow(zimage,cmap=matplotlib.cm.gray_r)\n",
      "~/sandbox/jnotebooks/venv/lib64/python3.6/site-packages/astropy/io/fits/convenience.py in getdata(filename, header, lower, upper, view, *args, **kwargs)\n    187     mode, closed = _get_file_mode(filename)\n    188 \n--> 189     hdulist, extidx = _getext(filename, mode, *args, **kwargs)\n    190     try:\n    191         hdu = hdulist[extidx]\n",
      "~/sandbox/jnotebooks/venv/lib64/python3.6/site-packages/astropy/io/fits/convenience.py in _getext(filename, mode, ext, extname, extver, *args, **kwargs)\n   1027         raise TypeError('extver alone cannot specify an extension.')\n   1028 \n-> 1029     hdulist = fitsopen(filename, mode=mode, **kwargs)\n   1030 \n   1031     return hdulist, ext\n",
      "~/sandbox/jnotebooks/venv/lib64/python3.6/site-packages/astropy/io/fits/hdu/hdulist.py in fitsopen(name, mode, memmap, save_backup, cache, lazy_load_hdus, **kwargs)\n    149 \n    150     return HDUList.fromfile(name, mode, memmap, save_backup, cache,\n--> 151                             lazy_load_hdus, **kwargs)\n    152 \n    153 \n",
      "~/sandbox/jnotebooks/venv/lib64/python3.6/site-packages/astropy/io/fits/hdu/hdulist.py in fromfile(cls, fileobj, mode, memmap, save_backup, cache, lazy_load_hdus, **kwargs)\n    388         return cls._readfrom(fileobj=fileobj, mode=mode, memmap=memmap,\n    389                              save_backup=save_backup, cache=cache,\n--> 390                              lazy_load_hdus=lazy_load_hdus, **kwargs)\n    391 \n    392     @classmethod\n",
      "~/sandbox/jnotebooks/venv/lib64/python3.6/site-packages/astropy/io/fits/hdu/hdulist.py in _readfrom(cls, fileobj, data, mode, memmap, save_backup, cache, lazy_load_hdus, **kwargs)\n   1062 \n   1063         # Make sure at least the PRIMARY HDU can be read\n-> 1064         read_one = hdulist._read_next_hdu()\n   1065 \n   1066         # If we're trying to read only and no header units were found,\n",
      "~/sandbox/jnotebooks/venv/lib64/python3.6/site-packages/astropy/io/fits/hdu/hdulist.py in _read_next_hdu(self)\n   1137                                 fileobj.seek(offset, os.SEEK_SET)\n   1138 \n-> 1139                         hdu = _BaseHDU.readfrom(fileobj, **kwargs)\n   1140                     except EOFError:\n   1141                         self._read_all = True\n",
      "~/sandbox/jnotebooks/venv/lib64/python3.6/site-packages/astropy/io/fits/hdu/base.py in readfrom(cls, fileobj, checksum, ignore_missing_end, **kwargs)\n    326         hdu = cls._readfrom_internal(fileobj, checksum=checksum,\n    327                                      ignore_missing_end=ignore_missing_end,\n--> 328                                      **kwargs)\n    329 \n    330         # If the checksum had to be checked the data may have already been read\n",
      "~/sandbox/jnotebooks/venv/lib64/python3.6/site-packages/astropy/io/fits/hdu/base.py in _readfrom_internal(cls, data, header, checksum, ignore_missing_end, **kwargs)\n    413                     data.seek(header_offset)\n    414                     header = Header.fromfile(data,\n--> 415                                              endcard=not ignore_missing_end)\n    416             hdu_fileobj = data\n    417             data_offset = data.tell()  # *after* reading the header\n",
      "~/sandbox/jnotebooks/venv/lib64/python3.6/site-packages/astropy/io/fits/header.py in fromfile(cls, fileobj, sep, endcard, padding)\n    512 \n    513             return cls._from_blocks(block_iter, is_binary, sep, endcard,\n--> 514                                     padding)[1]\n    515         finally:\n    516             if close_file:\n",
      "~/sandbox/jnotebooks/venv/lib64/python3.6/site-packages/astropy/io/fits/header.py in _from_blocks(cls, block_iter, is_binary, sep, endcard, padding)\n    594             # TODO: Pass this error to validation framework as an ERROR,\n    595             # rather than raising an exception\n--> 596             raise OSError('Header missing END card.')\n    597 \n    598         header_str = ''.join(read_blocks)\n",
      "OSError: Header missing END card."
     ]
    }
   ],
   "source": [
    "# Older versions of Astropy do not accept \"http_headers\" keyword\n",
    "#zimage = pyfits.getdata(autils.data.download_file(fileurl,http_headers=headers,cache=True,show_progress=False,timeout=120))\n",
    "open('temp.fits', 'wb').write(r2.content) # write temp file\n",
    "zimage = pyfits.getdata('temp.fits')\n",
    "plt.rcParams[\"figure.figsize\"] = [16,9]\n",
    "plt.imshow(zimage,cmap=matplotlib.cm.gray_r)\n",
    "zimage.shape"
   ]
  },
  {
   "cell_type": "code",
   "execution_count": null,
   "metadata": {},
   "outputs": [],
   "source": [
    "plt.imshow(zimage[100:300, 0:200],cmap=matplotlib.cm.gray_r)"
   ]
  },
  {
   "cell_type": "markdown",
   "metadata": {},
   "source": [
    "### (Test file in PAT from Sean and Frank)"
   ]
  },
  {
   "cell_type": "code",
   "execution_count": null,
   "metadata": {},
   "outputs": [],
   "source": [
    "prfileid = 'a96e55509a4cf89ebcc3126bef2e6aa7'\n",
    "fileurl = f'{natroot}/api/natica/retrieve/{prfileid}'\n",
    "\n",
    "auth = dict(email='nobody@noao.edu', password='xyzzy')\n",
    "tokurl = f'{natroot}/api/get_token/'\n",
    "r = requests.post(tokurl, json=auth)\n",
    "token = r.content\n",
    "\n",
    "print(f'Got token=\"{token}\" using {tokurl}; fileurl={fileurl}')"
   ]
  },
  {
   "cell_type": "code",
   "execution_count": null,
   "metadata": {},
   "outputs": [],
   "source": [
    "r2 = requests.get(fileurl)\n",
    "print(f'HTTP-Status={r2.status_code} File-size={len(r2.content):,}')\n",
    "if r2.status_code == 200:\n",
    "    zimage = pyfits.getdata(autils.data.download_file(fileurl,cache=True,show_progress=False,timeout=120))\n",
    "    plt.rcParams[\"figure.figsize\"] = [32,18]\n",
    "    plt.imshow(zimage,cmap=matplotlib.cm.gray_r)\n",
    "    zimage.shape\n",
    "else:\n",
    "    print(r2.json())"
   ]
  },
  {
   "cell_type": "code",
   "execution_count": null,
   "metadata": {},
   "outputs": [],
   "source": [
    "import datetime\n",
    "str(datetime.datetime.now())"
   ]
  },
  {
   "cell_type": "markdown",
   "metadata": {},
   "source": [
    "# Resources and references <a id=\"doc\" />\n",
    "\n",
    "[dal API](http://marsnat2.pat.dm.noao.edu:8000/api-docs/#/dal)\n",
    "We should look at fancy annotation to make this better. Programmers will want clear doc of what parameters can be passed to each service.\n",
    "\n",
    "[Data  Models](https://marsnat2.pat.dm.noao.edu:8000/admin/doc/models/)"
   ]
  }
 ],
 "metadata": {
  "kernelspec": {
   "display_name": "Python 3",
   "language": "python",
   "name": "python3"
  },
  "language_info": {
   "codemirror_mode": {
    "name": "ipython",
    "version": 3
   },
   "file_extension": ".py",
   "mimetype": "text/x-python",
   "name": "python",
   "nbconvert_exporter": "python",
   "pygments_lexer": "ipython3",
   "version": "3.6.8"
  }
 },
 "nbformat": 4,
 "nbformat_minor": 2
}
