{
 "cells": [
  {
   "cell_type": "markdown",
   "metadata": {},
   "source": [
    "[go here](#here)"
   ]
  },
  {
   "cell_type": "markdown",
   "metadata": {},
   "source": [
    "# [NSF's OIR Lab](https://nationalastro.org/) Astro Archive: Advanced Search\n",
    "\n",
    "[Community Science and Data Center](https://nationalastro.org/programs/csdc/)"
   ]
  },
  {
   "cell_type": "markdown",
   "metadata": {},
   "source": [
    "## Table Of Contents:\n",
    "* [Goals & notebook summary](#goals)\n",
    "* [Summary of this API (list of web services)](#summary)\n",
    "* [Imports and setup](#init)\n",
    "* [Details](#details); Example of every service. Special cases. Error Handling\n",
    "* [Documentation](#doc)\n",
    "* [Glossary](#glos)"
   ]
  },
  {
   "cell_type": "markdown",
   "metadata": {},
   "source": [
    "<a class=\"anchor\" id=\"goals\"></a>\n",
    "# Goals\n",
    "Instructions and examples for using Advanced Search API for accessing OIRLab Archive metadata.\n",
    "\n",
    "# Notebook Summary\n",
    "We show you how to use the API to search the Archive for FITS files by **any** field in the FITS headers."
   ]
  },
  {
   "cell_type": "markdown",
   "metadata": {},
   "source": [
    "#### Add \"about the current archive\"; give various stats (number of files, hdus in archive; period of time covered; most recently added; list of telescopes/insruments!!!"
   ]
  },
  {
   "cell_type": "markdown",
   "metadata": {},
   "source": [
    " ## Summary of this API (list of web services) <a id=\"summary\">\n",
    "For full list, see: [http://marsnat2.pat.dm.noao.edu:8000/api-docs/#/api](http://marsnat2.pat.dm.noao.edu:8000/api-docs/#/api)\n",
    "\n",
    "1. [GET] /api/natica/retrieve/{md5}/\n",
    "   Construct and Retrieve one FITS file from the Archive containing only\n",
    "1. [GET] /api/sia/vohdu\n",
    "   Get HDUs matching cone query.\n",
    "1. [GET] /api/sia/vohdu{format}\n",
    "   Get HDUs matching cone query.\n",
    "1. [GET] /api/sia/voimg\n",
    "   Get FITS Images matching cone/rectangle query.\n",
    "1. [GET] /api/sia/voimg{format}\n",
    "   Get FITS Images matching cone/rectangle query.\n"
   ]
  },
  {
   "cell_type": "markdown",
   "metadata": {},
   "source": [
    "## Imports and setup <a id=\"init\">\n",
    "Some of these imports are just for presentation in the juypter notebook.  You may not need it all."
   ]
  },
  {
   "cell_type": "code",
   "execution_count": 1,
   "metadata": {},
   "outputs": [
    {
     "name": "stdout",
     "output_type": "stream",
     "text": [
      "Using Python version: 3.6.8 (default, Aug 10 2019, 06:52:10) \n",
      "[GCC 4.4.7 20120313 (Red Hat 4.4.7-23)]\n"
     ]
    }
   ],
   "source": [
    "import sys\n",
    "import pandas as pd\n",
    "import matplotlib.pyplot as plt\n",
    "import matplotlib\n",
    "import numpy as np\n",
    "import astropy.io.fits as pyfits\n",
    "import astropy.utils as autils\n",
    "import requests\n",
    "import json\n",
    "from pprint import pprint as pp\n",
    "\n",
    "print(f'Using Python version: {sys.version}')"
   ]
  },
  {
   "cell_type": "markdown",
   "metadata": {},
   "source": [
    "### Order the following CONFIG blocks so the selected one is last"
   ]
  },
  {
   "cell_type": "code",
   "execution_count": 2,
   "metadata": {},
   "outputs": [],
   "source": [
    "# DEV config\n",
    "natroot = 'http://localhost:8020' # DEV (images contain one pixel or JSON)\n",
    "ra = 0\n",
    "dec = -0.7\n",
    "size=1.0\n",
    "selectedRow = 2"
   ]
  },
  {
   "cell_type": "code",
   "execution_count": 3,
   "metadata": {},
   "outputs": [],
   "source": [
    "# STAGE config\n",
    "natroot = 'https://marsnat1.stage.dm.noao.edu' \n",
    "ra = 184.5\n",
    "dec = -31.5\n",
    "size = 1.0\n",
    "selectedRow = 3"
   ]
  },
  {
   "cell_type": "code",
   "execution_count": 4,
   "metadata": {},
   "outputs": [],
   "source": [
    "# PAT config\n",
    "natroot = 'https://marsnat2.pat.dm.noao.edu' \n",
    "ra = 184.5\n",
    "dec = -31.5\n",
    "size = 1.0\n",
    "selectedRow = 3"
   ]
  },
  {
   "cell_type": "markdown",
   "metadata": {},
   "source": [
    "### Config selected. From here on, the code does not depend on config (NATICA server)"
   ]
  },
  {
   "cell_type": "code",
   "execution_count": 5,
   "metadata": {},
   "outputs": [
    {
     "name": "stdout",
     "output_type": "stream",
     "text": [
      "This notebook demonstrates services rooted at https://marsnat2.pat.dm.noao.edu/api/sia\n"
     ]
    }
   ],
   "source": [
    "baseurl=f'{natroot}/api/sia'\n",
    "print(f'This notebook demonstrates services rooted at {baseurl}')"
   ]
  },
  {
   "cell_type": "code",
   "execution_count": 6,
   "metadata": {},
   "outputs": [],
   "source": [
    "%run utils.ipynb\n",
    "tic()"
   ]
  },
  {
   "cell_type": "markdown",
   "metadata": {},
   "source": [
    "## Details <a id=\"details\">\n",
    "\n",
    "* [Allowed query string Parameters](#METADATA)\n",
    "* [Simple query against HDUs by Location](#vohdu)\n",
    "* [Get File](#retrieve) (authenticate for non-public files)\n",
    "\n",
    "* [Additional Documentation](#doc)"
   ]
  },
  {
   "cell_type": "markdown",
   "metadata": {},
   "source": [
    "### Get Parameters allowed in query string for VOHDU service. <a id=\"METADATA\" />"
   ]
  },
  {
   "cell_type": "code",
   "execution_count": 7,
   "metadata": {},
   "outputs": [
    {
     "data": {
      "text/html": [
       "<div>\n",
       "<style scoped>\n",
       "    .dataframe tbody tr th:only-of-type {\n",
       "        vertical-align: middle;\n",
       "    }\n",
       "\n",
       "    .dataframe tbody tr th {\n",
       "        vertical-align: top;\n",
       "    }\n",
       "\n",
       "    .dataframe thead th {\n",
       "        text-align: right;\n",
       "    }\n",
       "</style>\n",
       "<table border=\"1\" class=\"dataframe\">\n",
       "  <thead>\n",
       "    <tr style=\"text-align: right;\">\n",
       "      <th></th>\n",
       "      <th>DataType</th>\n",
       "      <th>DefaultValue</th>\n",
       "      <th>Doc</th>\n",
       "      <th>ParameterName</th>\n",
       "    </tr>\n",
       "  </thead>\n",
       "  <tbody>\n",
       "    <tr>\n",
       "      <th>0</th>\n",
       "      <td>char</td>\n",
       "      <td>NA</td>\n",
       "      <td>NA</td>\n",
       "      <td>INPUT:DATE</td>\n",
       "    </tr>\n",
       "    <tr>\n",
       "      <th>1</th>\n",
       "      <td>char</td>\n",
       "      <td>NA</td>\n",
       "      <td>NA</td>\n",
       "      <td>INPUT:FILENAME</td>\n",
       "    </tr>\n",
       "    <tr>\n",
       "      <th>2</th>\n",
       "      <td>char</td>\n",
       "      <td>text/html</td>\n",
       "      <td>Type of content</td>\n",
       "      <td>INPUT:FORMAT</td>\n",
       "    </tr>\n",
       "    <tr>\n",
       "      <th>3</th>\n",
       "      <td>char</td>\n",
       "      <td>ALL</td>\n",
       "      <td>Telescope used to collect raw image. one-of:['...</td>\n",
       "      <td>INPUT:telescope</td>\n",
       "    </tr>\n",
       "    <tr>\n",
       "      <th>4</th>\n",
       "      <td>char</td>\n",
       "      <td>ALL</td>\n",
       "      <td>Instrument used to collect raw image. one-of:[...</td>\n",
       "      <td>INPUT:instrument</td>\n",
       "    </tr>\n",
       "    <tr>\n",
       "      <th>5</th>\n",
       "      <td>char</td>\n",
       "      <td>ALL</td>\n",
       "      <td>Processing Type.  one-of:['instcal', 'masterca...</td>\n",
       "      <td>INPUT:proctype</td>\n",
       "    </tr>\n",
       "    <tr>\n",
       "      <th>6</th>\n",
       "      <td>char</td>\n",
       "      <td>ALL</td>\n",
       "      <td>Product Type.  one-of:['dqmask', 'expmap', 'gr...</td>\n",
       "      <td>INPUT:prodtype</td>\n",
       "    </tr>\n",
       "    <tr>\n",
       "      <th>7</th>\n",
       "      <td>char</td>\n",
       "      <td>ALL</td>\n",
       "      <td>Date of observation</td>\n",
       "      <td>INPUT:caldat</td>\n",
       "    </tr>\n",
       "    <tr>\n",
       "      <th>8</th>\n",
       "      <td>char</td>\n",
       "      <td>0.0,0.0</td>\n",
       "      <td>The position of the region of interest, expres...</td>\n",
       "      <td>INPUT:POS</td>\n",
       "    </tr>\n",
       "    <tr>\n",
       "      <th>9</th>\n",
       "      <td>double</td>\n",
       "      <td>0.05</td>\n",
       "      <td>Angular size of ROI given in decimal degrees</td>\n",
       "      <td>INPUT:SIZE</td>\n",
       "    </tr>\n",
       "    <tr>\n",
       "      <th>10</th>\n",
       "      <td>int</td>\n",
       "      <td>1</td>\n",
       "      <td>The level of information to be returned in the...</td>\n",
       "      <td>INPUT:VERB</td>\n",
       "    </tr>\n",
       "    <tr>\n",
       "      <th>11</th>\n",
       "      <td>int</td>\n",
       "      <td>100</td>\n",
       "      <td>Max number of records returned.</td>\n",
       "      <td>INPUT:limit</td>\n",
       "    </tr>\n",
       "    <tr>\n",
       "      <th>12</th>\n",
       "      <td>char</td>\n",
       "      <td>votable</td>\n",
       "      <td>Format of results. One of: csv, xml, json</td>\n",
       "      <td>INPUT:format</td>\n",
       "    </tr>\n",
       "  </tbody>\n",
       "</table>\n",
       "</div>"
      ],
      "text/plain": [
       "   DataType DefaultValue                                                Doc  \\\n",
       "0      char           NA                                                 NA   \n",
       "1      char           NA                                                 NA   \n",
       "2      char    text/html                                    Type of content   \n",
       "3      char          ALL  Telescope used to collect raw image. one-of:['...   \n",
       "4      char          ALL  Instrument used to collect raw image. one-of:[...   \n",
       "5      char          ALL  Processing Type.  one-of:['instcal', 'masterca...   \n",
       "6      char          ALL  Product Type.  one-of:['dqmask', 'expmap', 'gr...   \n",
       "7      char          ALL                                Date of observation   \n",
       "8      char      0.0,0.0  The position of the region of interest, expres...   \n",
       "9    double         0.05       Angular size of ROI given in decimal degrees   \n",
       "10      int            1  The level of information to be returned in the...   \n",
       "11      int          100                    Max number of records returned.   \n",
       "12     char      votable          Format of results. One of: csv, xml, json   \n",
       "\n",
       "       ParameterName  \n",
       "0         INPUT:DATE  \n",
       "1     INPUT:FILENAME  \n",
       "2       INPUT:FORMAT  \n",
       "3    INPUT:telescope  \n",
       "4   INPUT:instrument  \n",
       "5     INPUT:proctype  \n",
       "6     INPUT:prodtype  \n",
       "7       INPUT:caldat  \n",
       "8          INPUT:POS  \n",
       "9         INPUT:SIZE  \n",
       "10        INPUT:VERB  \n",
       "11       INPUT:limit  \n",
       "12      INPUT:format  "
      ]
     },
     "execution_count": 7,
     "metadata": {},
     "output_type": "execute_result"
    }
   ],
   "source": [
    "# Params allowed? JSON format (also: csv, xml, votable[default], json)\n",
    "pd.read_json(json.dumps(requests.get(f'{baseurl}/vohdu?FORMAT=METADATA&format=json').json()))"
   ]
  },
  {
   "cell_type": "markdown",
   "metadata": {},
   "source": [
    "## Simple query against HDUs by location (vohdu) <a id=\"vohdu\" />"
   ]
  },
  {
   "cell_type": "code",
   "execution_count": 8,
   "metadata": {},
   "outputs": [
    {
     "data": {
      "text/html": [
       "<div>\n",
       "<style scoped>\n",
       "    .dataframe tbody tr th:only-of-type {\n",
       "        vertical-align: middle;\n",
       "    }\n",
       "\n",
       "    .dataframe tbody tr th {\n",
       "        vertical-align: top;\n",
       "    }\n",
       "\n",
       "    .dataframe thead th {\n",
       "        text-align: right;\n",
       "    }\n",
       "</style>\n",
       "<table border=\"1\" class=\"dataframe\">\n",
       "  <thead>\n",
       "    <tr style=\"text-align: right;\">\n",
       "      <th></th>\n",
       "      <th>archive_filename</th>\n",
       "      <th>caldat</th>\n",
       "      <th>date_obs</th>\n",
       "      <th>dec</th>\n",
       "      <th>hdu_idx</th>\n",
       "      <th>instrument</th>\n",
       "      <th>md5sum</th>\n",
       "      <th>proc_type</th>\n",
       "      <th>prod_type</th>\n",
       "      <th>ra</th>\n",
       "      <th>telescope</th>\n",
       "    </tr>\n",
       "  </thead>\n",
       "  <tbody>\n",
       "    <tr>\n",
       "      <th>0</th>\n",
       "      <td>string</td>\n",
       "      <td>string</td>\n",
       "      <td>string</td>\n",
       "      <td>float</td>\n",
       "      <td>int</td>\n",
       "      <td>string</td>\n",
       "      <td>string</td>\n",
       "      <td>string</td>\n",
       "      <td>string</td>\n",
       "      <td>float</td>\n",
       "      <td>string</td>\n",
       "    </tr>\n",
       "    <tr>\n",
       "      <th>1</th>\n",
       "      <td>/net/archive/pipeline/Q20150402/DEC15A/2015033...</td>\n",
       "      <td>2015-03-30</td>\n",
       "      <td>2015-03-31</td>\n",
       "      <td>-31.9753</td>\n",
       "      <td>30</td>\n",
       "      <td>decam</td>\n",
       "      <td>e14c55597a0d4ce82b85551ba9007584</td>\n",
       "      <td>instcal</td>\n",
       "      <td>wtmap</td>\n",
       "      <td>184.325</td>\n",
       "      <td>ct4m</td>\n",
       "    </tr>\n",
       "    <tr>\n",
       "      <th>2</th>\n",
       "      <td>/net/archive/pipeline/Q20150402/DEC15A/2015033...</td>\n",
       "      <td>2015-03-30</td>\n",
       "      <td>2015-03-31</td>\n",
       "      <td>-31.9752</td>\n",
       "      <td>30</td>\n",
       "      <td>decam</td>\n",
       "      <td>591cd65015e6ee1cd765b4ce2b156be4</td>\n",
       "      <td>instcal</td>\n",
       "      <td>wtmap</td>\n",
       "      <td>184.327</td>\n",
       "      <td>ct4m</td>\n",
       "    </tr>\n",
       "    <tr>\n",
       "      <th>3</th>\n",
       "      <td>/net/archive/pipeline/Q20150412/DEC15A/2015033...</td>\n",
       "      <td>2015-03-30</td>\n",
       "      <td>2015-03-31</td>\n",
       "      <td>-31.9754</td>\n",
       "      <td>30</td>\n",
       "      <td>decam</td>\n",
       "      <td>7d91b6929d12f95fcc743729eec60eda</td>\n",
       "      <td>resampled</td>\n",
       "      <td>dqmask</td>\n",
       "      <td>184.328</td>\n",
       "      <td>ct4m</td>\n",
       "    </tr>\n",
       "  </tbody>\n",
       "</table>\n",
       "</div>"
      ],
      "text/plain": [
       "                                    archive_filename      caldat    date_obs  \\\n",
       "0                                             string      string      string   \n",
       "1  /net/archive/pipeline/Q20150402/DEC15A/2015033...  2015-03-30  2015-03-31   \n",
       "2  /net/archive/pipeline/Q20150402/DEC15A/2015033...  2015-03-30  2015-03-31   \n",
       "3  /net/archive/pipeline/Q20150412/DEC15A/2015033...  2015-03-30  2015-03-31   \n",
       "\n",
       "       dec hdu_idx instrument                            md5sum  proc_type  \\\n",
       "0    float     int     string                            string     string   \n",
       "1 -31.9753      30      decam  e14c55597a0d4ce82b85551ba9007584    instcal   \n",
       "2 -31.9752      30      decam  591cd65015e6ee1cd765b4ce2b156be4    instcal   \n",
       "3 -31.9754      30      decam  7d91b6929d12f95fcc743729eec60eda  resampled   \n",
       "\n",
       "  prod_type       ra telescope  \n",
       "0    string    float    string  \n",
       "1     wtmap  184.325      ct4m  \n",
       "2     wtmap  184.327      ct4m  \n",
       "3    dqmask  184.328      ct4m  "
      ]
     },
     "execution_count": 8,
     "metadata": {},
     "output_type": "execute_result"
    }
   ],
   "source": [
    "sia_df = pd.read_json(json.dumps(requests.get(f'{baseurl}/vohdu?POS={ra},{dec}&SIZE={size}&limit=3&format=json').json()))\n",
    "sia_df"
   ]
  },
  {
   "cell_type": "markdown",
   "metadata": {},
   "source": [
    "## Get FITS file containing single HDU and display it<a id=\"retrieve\" />"
   ]
  },
  {
   "cell_type": "code",
   "execution_count": 9,
   "metadata": {},
   "outputs": [
    {
     "name": "stdout",
     "output_type": "stream",
     "text": [
      "selectedRow=3\n",
      "7d91b6929d12f95fcc743729eec60eda 30\n"
     ]
    }
   ],
   "source": [
    "print(f'selectedRow={selectedRow}')\n",
    "fileid = sia_df['md5sum'][selectedRow]\n",
    "hduidx = sia_df['hdu_idx'][selectedRow]\n",
    "print(fileid,hduidx)"
   ]
  },
  {
   "cell_type": "code",
   "execution_count": 10,
   "metadata": {},
   "outputs": [
    {
     "data": {
      "text/plain": [
       "'https://marsnat2.pat.dm.noao.edu/api/natica/retrieve/7d91b6929d12f95fcc743729eec60eda/?hdus=30'"
      ]
     },
     "execution_count": 10,
     "metadata": {},
     "output_type": "execute_result"
    }
   ],
   "source": [
    "onehduurl = f'{natroot}/api/natica/retrieve/{fileid}/?hdus={hduidx}'\n",
    "onehduurl"
   ]
  },
  {
   "cell_type": "code",
   "execution_count": 11,
   "metadata": {
    "scrolled": false
   },
   "outputs": [
    {
     "name": "stderr",
     "output_type": "stream",
     "text": [
      "WARNING: The following header keyword is invalid or follows an unrecognized non-standard convention:\n",
      "DEC15A_20150330_882d575-g-20150331T005816_ri[S7,noinherit][3975,1994][real]: Hyd [astropy.io.fits.card]\n"
     ]
    },
    {
     "data": {
      "text/plain": [
       "(1994, 3975)"
      ]
     },
     "execution_count": 11,
     "metadata": {},
     "output_type": "execute_result"
    },
    {
     "data": {
      "image/png": "[encoded data removed]",
      "text/plain": [
       "<Figure size 1152x648 with 1 Axes>"
      ]
     },
     "metadata": {
      "needs_background": "light"
     },
     "output_type": "display_data"
    }
   ],
   "source": [
    "zimage = pyfits.getdata(autils.data.download_file(onehduurl,cache=True,show_progress=False,timeout=120))\n",
    "plt.rcParams[\"figure.figsize\"] = [16,9]\n",
    "plt.imshow(zimage,cmap=matplotlib.cm.gray_r)\n",
    "zimage.shape"
   ]
  },
  {
   "cell_type": "markdown",
   "metadata": {},
   "source": [
    "### Zoom in [yStart:yEnd, xStart:xEnd]"
   ]
  },
  {
   "cell_type": "code",
   "execution_count": 12,
   "metadata": {},
   "outputs": [
    {
     "data": {
      "text/plain": [
       "<matplotlib.image.AxesImage at 0x7f12a4e08b70>"
      ]
     },
     "execution_count": 12,
     "metadata": {},
     "output_type": "execute_result"
    },
    {
     "data": {
      "image/png": "[encoded data removed]",
      "text/plain": [
       "<Figure size 1152x648 with 1 Axes>"
      ]
     },
     "metadata": {
      "needs_background": "light"
     },
     "output_type": "display_data"
    }
   ],
   "source": [
    "plt.imshow(zimage[1100:1250, 600:900],cmap=matplotlib.cm.gray_r)"
   ]
  },
  {
   "cell_type": "markdown",
   "metadata": {},
   "source": [
    "# HERE !!! <a id=\"here\">"
   ]
  },
  {
   "cell_type": "markdown",
   "metadata": {},
   "source": [
    "## Error Conditions <a id=\"errors\" />\n",
    "- Unknown query string params are ignored\n",
    "- non-float SIZE\n",
    "\n",
    "### Parameter error: Negative size given"
   ]
  },
  {
   "cell_type": "code",
   "execution_count": 21,
   "metadata": {},
   "outputs": [
    {
     "name": "stdout",
     "output_type": "stream",
     "text": [
      "b'[BADPRM] SIZE must be positive (got \"-1.0\")'\n"
     ]
    }
   ],
   "source": [
    "#url=f'{baseurl}/vohdu?POS={ra},{dec}&SIZE=-1.0&limit=3&format=json'\n",
    "#print(f'url={url}')\n",
    "#requests.get(url).json()\n",
    "\n",
    "apiurl=f'{baseurl}/vohdu?POS={ra},{dec}&SIZE=-1.0&limit=3&format=json'\n",
    "response = requests.get(apiurl)\n",
    "if response.status_code == 200:\n",
    "    pp(response.content)\n",
    "else:\n",
    "    print(response.json()['errorMessage'])\n",
    "    #print(response.json()['traceback'])  # for API developer use\n"
   ]
  },
  {
   "cell_type": "code",
   "execution_count": null,
   "metadata": {},
   "outputs": [],
   "source": [
    "import datetime\n",
    "elapsed = toc()\n",
    "print(f'Elapsed seconds={elapsed}')\n",
    "str(datetime.datetime.now())"
   ]
  },
  {
   "cell_type": "markdown",
   "metadata": {},
   "source": [
    "# Resources and references <a id=\"doc\" />\n",
    "\n",
    "[Simple Image Access Specification](http://www.ivoa.net/documents/latest/SIA.html) Version 1.0; IVOA Proposed Recommendation 21 Mai 2009\n",
    "\n",
    "[dal API](http://marsnat2.pat.dm.noao.edu:8000/api-docs/#/dal)\n",
    "We should look at fancy annotation to make this better. Programmers will want clear doc of what parameters can be passed to each service.\n",
    "\n",
    "[Data  Models](https://marsnat2.pat.dm.noao.edu:8000/admin/doc/models/)"
   ]
  },
  {
   "cell_type": "markdown",
   "metadata": {},
   "source": [
    "# Glossary <a id=\"glos\">\n",
    "    \n",
    "Term     | Definition\n",
    "---------|---------------------------------------------------------------------------------------------\n",
    "ProcType | Processing Type; pipeline process used to generate reduced FITS from raw FITS"
   ]
  }
 ],
 "metadata": {
  "kernelspec": {
   "display_name": "Python 3",
   "language": "python",
   "name": "python3"
  },
  "language_info": {
   "codemirror_mode": {
    "name": "ipython",
    "version": 3
   },
   "file_extension": ".py",
   "mimetype": "text/x-python",
   "name": "python",
   "nbconvert_exporter": "python",
   "pygments_lexer": "ipython3",
   "version": "3.6.9"
  }
 },
 "nbformat": 4,
 "nbformat_minor": 2
}
