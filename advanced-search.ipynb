{
 "cells": [
  {
   "cell_type": "markdown",
   "metadata": {},
   "source": [
    "[go here](#here)"
   ]
  },
  {
   "cell_type": "markdown",
   "metadata": {},
   "source": [
    "# [NSF's OIR Lab](https://nationalastro.org/) Astro Archive: Advanced Search\n",
    "\n",
    "[Community Science and Data Center](https://nationalastro.org/programs/csdc/)"
   ]
  },
  {
   "cell_type": "markdown",
   "metadata": {},
   "source": [
    "### Table Of Contents:\n",
    "* [Goals & notebook summary](#goals)\n",
    "* [Summary of this API (list of web services)](#summary)\n",
    "* [Imports and setup](#init)\n",
    "* [Details](#details); Example of every service. Special cases. Error Handling\n",
    "  * [Get Core File fields](#core_file)\n",
    "  * [Get Aux File fields](#aux_file)\n",
    "  * [Search Files](#file_search)\n",
    "      \n",
    "  * [Get Core HDU fields](#core_hdu)\n",
    "  * [Get Aux HDU fields](#aux_hdu)\n",
    "  * [Search HDUs](#hdu_search)\n",
    "  \n",
    "* [What if something goes wrong](#errors) (errors)\n",
    "\n",
    "* [Resources and references](#doc)\n",
    "* [Glossary](#glos)\n",
    "\n",
    "## Still needed\n",
    "- define our special terms (ADD MORE), keep glossary out of the way at end\n",
    "  + Proctype\n",
    "- search services should say: No Results, Searched N (File or HDU) records of total available of N Files/HDUs\n",
    "- provide convenience function in notebook for pretty Error display\n",
    "- Examples of all output formats (json,xml,csv) for each web-service type that sports \"format\"\n",
    "- display file found in search (see sia.ipynb)\n",
    "- **Services to get the values of each categorical**: proc_type, prod_type, obs_type, obs_mode\n",
    "- Doc all \"modifiers\" used in search spec that say how to match value to field (eg. val_overlap)"
   ]
  },
  {
   "cell_type": "markdown",
   "metadata": {},
   "source": [
    "<a class=\"anchor\" id=\"goals\"></a>\n",
    "# Goals\n",
    "Instructions and examples for using Advanced Search API for accessing OIRLab Archive metadata.\n",
    "\n",
    "# Notebook Summary\n",
    "We show you how to use the API to search the Archive for FITS files by **any** field in the FITS headers."
   ]
  },
  {
   "cell_type": "markdown",
   "metadata": {},
   "source": [
    "#### Add \"about the current archive\"; give various stats (number of files, hdus in archive; period of time covered; most recently added; list of telescopes/insruments!!!"
   ]
  },
  {
   "cell_type": "markdown",
   "metadata": {},
   "source": [
    "## Summary of this API (list of web services) <a id=\"summary\">\n",
    "For full list, see: [http://marsnat2.pat.dm.noao.edu:8000/api-docs/#/api](http://marsnat2.pat.dm.noao.edu:8000/api-docs/#/api)\n",
    "\n",
    "1. [GET] `{ADS}/aux_file_fields/{instrument}/{proctype}/`\n",
    "   Get fieldnames available from FitsFiles.\n",
    "3. [GET] `{ADS}/aux_hdu_fields/{instrument}/{proctype}/`\n",
    "   Get fieldnames available from HDUs.\n",
    "5. [GET] `{ADS}/core_file_fields/`\n",
    "7. [GET] `{ADS}/core_hdu_fields/`\n",
    "9. [POST] `{ADS}/fasearch/`\n",
    "11. [POST] `{ADS}/hasearch/`\n",
    "\n",
    "Services of form `core_<type>_fields` (where <type> is one of: \"file\",\"hdu\") return the list of optimized fields you can search against. \n",
    "\n",
    "Services of form `aux_<type>_fields` (where <type> is one of: \"file\",\"hdu\") are used to return ALL of the FITS header field names that are not alreay included in the \"core\" lists.  These services require a specific Instrument and Proc_type [define!!!] be given. These fields have no search optimizations so using any of these will slow down your searches.\n",
    "\n",
    "Services of form `fasearch` or `hasearch` (File/Hdu Advanced SEARCH) perform a search against full FITS files. They are accessed via a  HTTP POST (link) that takes a search specification in its JSON payload.\n"
   ]
  },
  {
   "cell_type": "markdown",
   "metadata": {},
   "source": [
    "## Imports and setup <a id=\"init\">\n",
    "Some of this is just for presentation in the juypter notebook.  You may not need it all."
   ]
  },
  {
   "cell_type": "code",
   "execution_count": 1,
   "metadata": {},
   "outputs": [
    {
     "name": "stdout",
     "output_type": "stream",
     "text": [
      "Using Python version: 3.6.9 (default, Nov  7 2019, 10:44:02) \n",
      "[GCC 8.3.0]\n"
     ]
    }
   ],
   "source": [
    "import sys\n",
    "import pandas as pd\n",
    "import matplotlib.pyplot as plt\n",
    "import matplotlib\n",
    "import numpy as np\n",
    "import astropy.io.fits as pyfits\n",
    "import astropy.utils as autils\n",
    "import requests\n",
    "import json\n",
    "from pprint import pprint as pp  # pretty print\n",
    "\n",
    "print(f'Using Python version: {sys.version}')"
   ]
  },
  {
   "cell_type": "code",
   "execution_count": 2,
   "metadata": {},
   "outputs": [],
   "source": [
    "# DEV config\n",
    "natroot = 'http://localhost:8020' # DEV (images contain one pixel or JSON)"
   ]
  },
  {
   "cell_type": "code",
   "execution_count": 3,
   "metadata": {},
   "outputs": [],
   "source": [
    "# STAGE config\n",
    "natroot = 'https://marsnat1.stage.dm.noao.edu' "
   ]
  },
  {
   "cell_type": "code",
   "execution_count": 4,
   "metadata": {},
   "outputs": [],
   "source": [
    "# PAT config\n",
    "natroot = 'https://marsnat2.pat.dm.noao.edu' "
   ]
  },
  {
   "cell_type": "code",
   "execution_count": 5,
   "metadata": {},
   "outputs": [
    {
     "data": {
      "text/plain": [
       "'https://marsnat2.pat.dm.noao.edu/api/adv_search'"
      ]
     },
     "execution_count": 5,
     "metadata": {},
     "output_type": "execute_result"
    }
   ],
   "source": [
    "adsurl = f'{natroot}/api/adv_search'\n",
    "adsurl"
   ]
  },
  {
   "cell_type": "code",
   "execution_count": 6,
   "metadata": {},
   "outputs": [],
   "source": [
    "%run utils.ipynb\n",
    "tic()"
   ]
  },
  {
   "cell_type": "markdown",
   "metadata": {},
   "source": [
    "## Details <a id=\"details\">\n",
    "    \n",
    "* [Get Core File fields](#core_file)\n",
    "* [Get Aux File fields](#aux_file)\n",
    "* [Search Files](#file_search)\n",
    "  \n",
    "* [Get Core HDU fields](#core_hdu)\n",
    "* [Get Aux HDU fields](#aux_hdu)\n",
    "* [Search HDUs](#hdu_search)\n",
    "  \n",
    "* [What if something goes wrong](#errors) (errors)\n",
    "\n",
    "Notes: \n",
    "- `File` fields and searches refer the Primary HDU of a FITS file. (the field names may be a little different from how they appear in the FITS header since not all FITS headers use the same keywords for the same thing.)  \n",
    "\n",
    "- `HDU` fields and searches refer to non-primary HDUs of a FITS file. There are up to 70 times more HDU records as File records (depending on the source of the FITS file).\n",
    "\n",
    "- All of these web services accept a `format` parameter in the HTTP query string.  This defines the format of the output. I can be one of: json (the default), csv, xml\n",
    "\n",
    "- For the sake readability in this notebook, output is often stored in a Pandas DataFrame for display.\n",
    "\n",
    "- Searches in this notebook use a `limit` parameter to reduce the number of records returned.\n",
    "\n",
    "- Strings accept search modifiers: _exact, iexact, startswith, istartswith, endswith, iendswith, contains, icontains, regex, iregex_ (as described in [Django QuerySet API](https://docs.djangoproject.com/en/2.2/ref/models/querysets/)"
   ]
  },
  {
   "cell_type": "markdown",
   "metadata": {},
   "source": [
    "## Get Core and Aux fields for Files and HDUs\n",
    "Retrieve list of fields (with data-types) to use later in specifying which fields to filter and which ones to return in the filtered results.\n",
    "### Get Core File field names and types <a id=\"core_file\" />\n",
    "These occur once per FITS file and are optimized for fast search. Output is field-name, data-type pairs.  The data-types are intended to be used with Pandas. Note that \"catagory\" types refer to relatively small sets of acceptable values.  These sets have values added to them occasionally."
   ]
  },
  {
   "cell_type": "code",
   "execution_count": 7,
   "metadata": {},
   "outputs": [
    {
     "data": {
      "text/plain": [
       "{'archive_filename': 'str',\n",
       " 'caldat': 'datetime64',\n",
       " 'date_obs_max': 'datetime64',\n",
       " 'date_obs_min': 'datetime64',\n",
       " 'dec_max': 'np.float64',\n",
       " 'dec_min': 'np.float64',\n",
       " 'depth': 'np.float64',\n",
       " 'exposure': 'np.float64',\n",
       " 'filesize': 'np.int64',\n",
       " 'ifilter': 'category',\n",
       " 'instrument': 'category',\n",
       " 'md5sum': 'str',\n",
       " 'obs_mode': 'category',\n",
       " 'obs_type': 'category',\n",
       " 'original_filename': 'str',\n",
       " 'proc_type': 'category',\n",
       " 'prod_type': 'category',\n",
       " 'proposal': 'category',\n",
       " 'ra_max': 'np.float64',\n",
       " 'ra_min': 'np.float64',\n",
       " 'release_date': 'datetime64',\n",
       " 'seeing': 'np.float64',\n",
       " 'site': 'category',\n",
       " 'survey': 'category',\n",
       " 'telescope': 'category',\n",
       " 'updated': 'datetime64'}"
      ]
     },
     "execution_count": 7,
     "metadata": {},
     "output_type": "execute_result"
    }
   ],
   "source": [
    "requests.get(f'{adsurl}/core_file_fields').json()"
   ]
  },
  {
   "cell_type": "markdown",
   "metadata": {},
   "source": [
    "### Get Aux File field names and types <a id=\"aux_file\" />\n",
    "These occur once per FITS file but will be slower to search.  All keywords from the Primary HDU (except those in Core File Fields) are included. All types default to \"str\", but with input from experts we can refine these."
   ]
  },
  {
   "cell_type": "code",
   "execution_count": 8,
   "metadata": {},
   "outputs": [
    {
     "data": {
      "text/plain": [
       "{'AIRMASS': 'str',\n",
       " 'AOS': 'str',\n",
       " 'ASTIG1': 'str',\n",
       " 'ASTIG2': 'str',\n",
       " 'AZ': 'str',\n",
       " 'BCAM': 'str',\n",
       " 'BCAMAX': 'str',\n",
       " 'BCAMAY': 'str',\n",
       " 'BCAMAZ': 'str',\n",
       " 'BCAMDX': 'str',\n",
       " 'BCAMDY': 'str',\n",
       " 'CALMODE': 'str',\n",
       " 'CAMSHUT': 'str',\n",
       " 'CCDSHIFT': 'str',\n",
       " 'CHECKVER': 'str',\n",
       " 'CONSTVER': 'str',\n",
       " 'DARKTIME': 'str',\n",
       " 'DATE-OBS': 'str',\n",
       " 'DEC': 'str',\n",
       " 'DETSIZE': 'str',\n",
       " 'DIMM2SEE': 'str',\n",
       " 'DIMMSEE': 'str',\n",
       " 'DODX': 'str',\n",
       " 'DODY': 'str',\n",
       " 'DODZ': 'str',\n",
       " 'DOMEAZ': 'str',\n",
       " 'DOMEFLOR': 'str',\n",
       " 'DOMEHIGH': 'str',\n",
       " 'DOMELOW': 'str',\n",
       " 'DONUTFN1': 'str',\n",
       " 'DONUTFN2': 'str',\n",
       " 'DONUTFN3': 'str',\n",
       " 'DONUTFN4': 'str',\n",
       " 'DONUTFS1': 'str',\n",
       " 'DONUTFS2': 'str',\n",
       " 'DONUTFS3': 'str',\n",
       " 'DONUTFS4': 'str',\n",
       " 'DOXT': 'str',\n",
       " 'DOYT': 'str',\n",
       " 'DSTQUEUE': 'str',\n",
       " 'DTACCOUN': 'str',\n",
       " 'DTACQNAM': 'str',\n",
       " 'DTACQUIS': 'str',\n",
       " 'DTCALDAT': 'str',\n",
       " 'DTCOPYRI': 'str',\n",
       " 'DTINSTRU': 'str',\n",
       " 'DTNSANAM': 'str',\n",
       " 'DTOBSERV': 'str',\n",
       " 'DTPI': 'str',\n",
       " 'DTPIAFFL': 'str',\n",
       " 'DTPROPID': 'str',\n",
       " 'DTQUEUE': 'str',\n",
       " 'DT_RTNAM': 'str',\n",
       " 'DTSITE': 'str',\n",
       " 'DTSQ': 'str',\n",
       " 'DTSQUEUE': 'str',\n",
       " 'DTSTATUS': 'str',\n",
       " 'DTTELESC': 'str',\n",
       " 'DTTITLE': 'str',\n",
       " 'DTUTC': 'str',\n",
       " 'ERRORS': 'str',\n",
       " 'EXCLUDED': 'str',\n",
       " 'EXOTYPE': 'str',\n",
       " 'EXPNUM': 'str',\n",
       " 'EXPREQ': 'str',\n",
       " 'EXPTIME': 'str',\n",
       " 'FADX': 'str',\n",
       " 'FADY': 'str',\n",
       " 'FADZ': 'str',\n",
       " 'FAXT': 'str',\n",
       " 'FAYT': 'str',\n",
       " 'FILENAME': 'str',\n",
       " 'FILER': 'str',\n",
       " 'FILTEE': 'str',\n",
       " 'FILTER': 'str',\n",
       " 'FILTPOS': 'str',\n",
       " 'G-CCDNUM': 'str',\n",
       " 'G-FEEDBK': 'str',\n",
       " 'G-FLXVAR': 'str',\n",
       " 'G-LATENC': 'str',\n",
       " 'G-MAXX': 'str',\n",
       " 'G-MAXY': 'str',\n",
       " 'G-MEANX': 'str',\n",
       " 'G-MEANX2': 'str',\n",
       " 'G-MEANXY': 'str',\n",
       " 'G-MEANY': 'str',\n",
       " 'G-MEANY2': 'str',\n",
       " 'G-MODE': 'str',\n",
       " 'G-SEEING': 'str',\n",
       " 'GSKYHOT': 'str',\n",
       " 'GSKYPHOT': 'str',\n",
       " 'GSKYVAR': 'str',\n",
       " 'G-TRANSP': 'str',\n",
       " 'GUIDER': 'str',\n",
       " 'HA': 'str',\n",
       " 'HDRVER': 'str',\n",
       " 'HEX': 'str',\n",
       " 'HUMIDITY': 'str',\n",
       " 'INSTANCE': 'str',\n",
       " 'INSTRUME': 'str',\n",
       " 'LSKYHOT': 'str',\n",
       " 'LSKYPHOT': 'str',\n",
       " 'LSKYPOW': 'str',\n",
       " 'LSKYVAR': 'str',\n",
       " 'LUTVER': 'str',\n",
       " 'LWTRTEMP': 'str',\n",
       " 'MAIRTEMP': 'str',\n",
       " 'MASS2': 'str',\n",
       " 'MJD-OBS': 'str',\n",
       " 'MSURTEMP': 'str',\n",
       " 'MULTIEXP': 'str',\n",
       " 'NEXTEND': 'str',\n",
       " 'NOTE': 'str',\n",
       " 'OBJECT': 'str',\n",
       " 'OBJTYPE': 'str',\n",
       " 'OBS-ELEV': 'str',\n",
       " 'OBSERVAT': 'str',\n",
       " 'OBSERVER': 'str',\n",
       " 'OBSID': 'str',\n",
       " 'OBS-LAT': 'str',\n",
       " 'OBS-LONG': 'str',\n",
       " 'OBSTYPE': 'str',\n",
       " 'ODATEOBS': 'str',\n",
       " 'OPENSHUT': 'str',\n",
       " 'OUTTEMP': 'str',\n",
       " 'PIXSCAL1': 'str',\n",
       " 'PIXSCAL2': 'str',\n",
       " 'PME-TEMP': 'str',\n",
       " 'PMN-TEMP': 'str',\n",
       " 'PMOSTEMP': 'str',\n",
       " 'PMS-TEMP': 'str',\n",
       " 'PMW-TEMP': 'str',\n",
       " 'PRESSURE': 'str',\n",
       " 'PROCTYPE': 'str',\n",
       " 'PRODTYPE': 'str',\n",
       " 'PROGRAM': 'str',\n",
       " 'PROPID': 'str',\n",
       " 'PROPOSER': 'str',\n",
       " 'RA': 'str',\n",
       " 'RADESYS': 'str',\n",
       " 'RECNO': 'str',\n",
       " 'RMCOUNT': 'str',\n",
       " 'SB_ACCOU': 'str',\n",
       " 'SB_DIR1': 'str',\n",
       " 'SB_DIR2': 'str',\n",
       " 'SB_DIR3': 'str',\n",
       " 'SB_HOST': 'str',\n",
       " 'SB_ID': 'str',\n",
       " 'SB_LOCAL': 'str',\n",
       " 'SB_NAME': 'str',\n",
       " 'SB_RECNO': 'str',\n",
       " 'SB_RTNAM': 'str',\n",
       " 'SB_SITE': 'str',\n",
       " 'SEQID': 'str',\n",
       " 'SEQNUM': 'str',\n",
       " 'SEQTOT': 'str',\n",
       " 'SISPIVER': 'str',\n",
       " 'SKYSTAT': 'str',\n",
       " 'SKYUPDAT': 'str',\n",
       " 'TELDEC': 'str',\n",
       " 'TELEQUIN': 'str',\n",
       " 'TELESCOP': 'str',\n",
       " 'TELFOCUS': 'str',\n",
       " 'TELRA': 'str',\n",
       " 'TELSTAT': 'str',\n",
       " 'TILING': 'str',\n",
       " 'TIME-OBS': 'str',\n",
       " 'TIMESYS': 'str',\n",
       " 'UPTRTEMP': 'str',\n",
       " 'UTE-TEMP': 'str',\n",
       " 'UTN-TEMP': 'str',\n",
       " 'UTS-TEMP': 'str',\n",
       " 'UTW-TEMP': 'str',\n",
       " 'VSUB': 'str',\n",
       " 'WINDDIR': 'str',\n",
       " 'WINDSPD': 'str',\n",
       " 'ZD': 'str',\n",
       " 'ZPDELDEC': 'str',\n",
       " 'ZPDELRA': 'str'}"
      ]
     },
     "execution_count": 8,
     "metadata": {},
     "output_type": "execute_result"
    }
   ],
   "source": [
    "requests.get(f'{adsurl}/aux_file_fields/decam/raw/').json()"
   ]
  },
  {
   "cell_type": "markdown",
   "metadata": {},
   "source": [
    "## Advanced File Search of Core and Aux fields, results into Pandas <a id=\"file_search\" />"
   ]
  },
  {
   "cell_type": "markdown",
   "metadata": {},
   "source": [
    "### Search Files\n",
    "- Use Database derived field, \"ra_min\"\n",
    "- Use _AUX_ field in output and search\n",
    "- Limit maximum number of results (rows) returned\n",
    "- Load results into [Pandas DataFrame](https://pandas.pydata.org/pandas-docs/stable/reference/api/pandas.DataFrame.html#pandas.DataFrame)"
   ]
  },
  {
   "cell_type": "code",
   "execution_count": 9,
   "metadata": {
    "scrolled": true
   },
   "outputs": [
    {
     "name": "stdout",
     "output_type": "stream",
     "text": [
      "Using API url: https://marsnat2.pat.dm.noao.edu/api/adv_search/fasearch/?limit=10\n"
     ]
    },
    {
     "data": {
      "text/html": [
       "<div>\n",
       "<style scoped>\n",
       "    .dataframe tbody tr th:only-of-type {\n",
       "        vertical-align: middle;\n",
       "    }\n",
       "\n",
       "    .dataframe tbody tr th {\n",
       "        vertical-align: top;\n",
       "    }\n",
       "\n",
       "    .dataframe thead th {\n",
       "        text-align: right;\n",
       "    }\n",
       "</style>\n",
       "<table border=\"1\" class=\"dataframe\">\n",
       "  <thead>\n",
       "    <tr style=\"text-align: right;\">\n",
       "      <th></th>\n",
       "      <th>AIRMASS</th>\n",
       "      <th>EXPNUM</th>\n",
       "      <th>archive_filename</th>\n",
       "      <th>instrument</th>\n",
       "      <th>md5sum</th>\n",
       "      <th>obs_type</th>\n",
       "      <th>proc_type</th>\n",
       "      <th>proposal</th>\n",
       "      <th>ra_min</th>\n",
       "      <th>release_date</th>\n",
       "      <th>url</th>\n",
       "    </tr>\n",
       "  </thead>\n",
       "  <tbody>\n",
       "    <tr>\n",
       "      <th>0</th>\n",
       "      <td>1.4</td>\n",
       "      <td>667098</td>\n",
       "      <td>/net/archive/mtn/20170814/ct4m/2017B-0951/c4d_...</td>\n",
       "      <td>decam</td>\n",
       "      <td>10ca3658469336b34d836967b9df26c1</td>\n",
       "      <td>object</td>\n",
       "      <td>raw</td>\n",
       "      <td>2017B-0951</td>\n",
       "      <td>322.493042</td>\n",
       "      <td>2017-09-13</td>\n",
       "      <td>https://marsnat2.pat.dm.noao.edu/api/adv_searc...</td>\n",
       "    </tr>\n",
       "    <tr>\n",
       "      <th>1</th>\n",
       "      <td>[1.4]</td>\n",
       "      <td>667095</td>\n",
       "      <td>/data/small-json-scrape/c4d_170815_053314_ori....</td>\n",
       "      <td>decam</td>\n",
       "      <td>1f058b89ea71d3b45914e54b4f871565</td>\n",
       "      <td>object</td>\n",
       "      <td>raw</td>\n",
       "      <td>2017B-0951</td>\n",
       "      <td>322.493042</td>\n",
       "      <td>2017-09-14</td>\n",
       "      <td>https://marsnat2.pat.dm.noao.edu/api/adv_searc...</td>\n",
       "    </tr>\n",
       "    <tr>\n",
       "      <th>2</th>\n",
       "      <td>1.41</td>\n",
       "      <td>667099</td>\n",
       "      <td>/net/archive/mtn/20170814/ct4m/2017B-0951/c4d_...</td>\n",
       "      <td>decam</td>\n",
       "      <td>40a3bc0e4812b336e93ef751eb273325</td>\n",
       "      <td>object</td>\n",
       "      <td>raw</td>\n",
       "      <td>2017B-0951</td>\n",
       "      <td>322.493042</td>\n",
       "      <td>2017-09-13</td>\n",
       "      <td>https://marsnat2.pat.dm.noao.edu/api/adv_searc...</td>\n",
       "    </tr>\n",
       "    <tr>\n",
       "      <th>3</th>\n",
       "      <td>1.44</td>\n",
       "      <td>667111</td>\n",
       "      <td>/net/archive/mtn/20170814/ct4m/2017B-0951/c4d_...</td>\n",
       "      <td>decam</td>\n",
       "      <td>5174181ec36de019f6ccb563a706fb48</td>\n",
       "      <td>object</td>\n",
       "      <td>raw</td>\n",
       "      <td>2017B-0951</td>\n",
       "      <td>322.493042</td>\n",
       "      <td>2017-09-13</td>\n",
       "      <td>https://marsnat2.pat.dm.noao.edu/api/adv_searc...</td>\n",
       "    </tr>\n",
       "    <tr>\n",
       "      <th>4</th>\n",
       "      <td>1.4</td>\n",
       "      <td>667095</td>\n",
       "      <td>/net/archive/mtn/20170814/ct4m/2017B-0951/c4d_...</td>\n",
       "      <td>decam</td>\n",
       "      <td>6b533d96e76490261f37cdf75cfae2db</td>\n",
       "      <td>object</td>\n",
       "      <td>raw</td>\n",
       "      <td>2017B-0951</td>\n",
       "      <td>322.493042</td>\n",
       "      <td>2017-09-13</td>\n",
       "      <td>https://marsnat2.pat.dm.noao.edu/api/adv_searc...</td>\n",
       "    </tr>\n",
       "    <tr>\n",
       "      <th>5</th>\n",
       "      <td>1.44</td>\n",
       "      <td>667110</td>\n",
       "      <td>/net/archive/mtn/20170814/ct4m/2017B-0951/c4d_...</td>\n",
       "      <td>decam</td>\n",
       "      <td>928d5dcee69f591aab9251b1b242386b</td>\n",
       "      <td>object</td>\n",
       "      <td>raw</td>\n",
       "      <td>2017B-0951</td>\n",
       "      <td>322.493042</td>\n",
       "      <td>2017-09-13</td>\n",
       "      <td>https://marsnat2.pat.dm.noao.edu/api/adv_searc...</td>\n",
       "    </tr>\n",
       "    <tr>\n",
       "      <th>6</th>\n",
       "      <td>1.44</td>\n",
       "      <td>667109</td>\n",
       "      <td>/net/archive/mtn/20170814/ct4m/2017B-0951/c4d_...</td>\n",
       "      <td>decam</td>\n",
       "      <td>a241d847f02ef71d9884173f0d33f851</td>\n",
       "      <td>object</td>\n",
       "      <td>raw</td>\n",
       "      <td>2017B-0951</td>\n",
       "      <td>322.493042</td>\n",
       "      <td>2017-09-13</td>\n",
       "      <td>https://marsnat2.pat.dm.noao.edu/api/adv_searc...</td>\n",
       "    </tr>\n",
       "    <tr>\n",
       "      <th>7</th>\n",
       "      <td>1.41</td>\n",
       "      <td>667100</td>\n",
       "      <td>/net/archive/mtn/20170814/ct4m/2017B-0951/c4d_...</td>\n",
       "      <td>decam</td>\n",
       "      <td>c5519e510248cd702d6c46fc71d1b7f7</td>\n",
       "      <td>object</td>\n",
       "      <td>raw</td>\n",
       "      <td>2017B-0951</td>\n",
       "      <td>322.493042</td>\n",
       "      <td>2017-09-13</td>\n",
       "      <td>https://marsnat2.pat.dm.noao.edu/api/adv_searc...</td>\n",
       "    </tr>\n",
       "    <tr>\n",
       "      <th>8</th>\n",
       "      <td>1.45</td>\n",
       "      <td>667112</td>\n",
       "      <td>/net/archive/mtn/20170814/ct4m/2017B-0951/c4d_...</td>\n",
       "      <td>decam</td>\n",
       "      <td>d8f62f14e40bf25f5f1f9af038927e1a</td>\n",
       "      <td>object</td>\n",
       "      <td>raw</td>\n",
       "      <td>2017B-0951</td>\n",
       "      <td>322.493042</td>\n",
       "      <td>2017-09-13</td>\n",
       "      <td>https://marsnat2.pat.dm.noao.edu/api/adv_searc...</td>\n",
       "    </tr>\n",
       "    <tr>\n",
       "      <th>9</th>\n",
       "      <td>1.4</td>\n",
       "      <td>667097</td>\n",
       "      <td>/net/archive/mtn/20170814/ct4m/2017B-0951/c4d_...</td>\n",
       "      <td>decam</td>\n",
       "      <td>dc3d18bd0850dbbb967856f681d097fe</td>\n",
       "      <td>object</td>\n",
       "      <td>raw</td>\n",
       "      <td>2017B-0951</td>\n",
       "      <td>322.493042</td>\n",
       "      <td>2017-09-13</td>\n",
       "      <td>https://marsnat2.pat.dm.noao.edu/api/adv_searc...</td>\n",
       "    </tr>\n",
       "  </tbody>\n",
       "</table>\n",
       "</div>"
      ],
      "text/plain": [
       "  AIRMASS  EXPNUM                                   archive_filename  \\\n",
       "0     1.4  667098  /net/archive/mtn/20170814/ct4m/2017B-0951/c4d_...   \n",
       "1   [1.4]  667095  /data/small-json-scrape/c4d_170815_053314_ori....   \n",
       "2    1.41  667099  /net/archive/mtn/20170814/ct4m/2017B-0951/c4d_...   \n",
       "3    1.44  667111  /net/archive/mtn/20170814/ct4m/2017B-0951/c4d_...   \n",
       "4     1.4  667095  /net/archive/mtn/20170814/ct4m/2017B-0951/c4d_...   \n",
       "5    1.44  667110  /net/archive/mtn/20170814/ct4m/2017B-0951/c4d_...   \n",
       "6    1.44  667109  /net/archive/mtn/20170814/ct4m/2017B-0951/c4d_...   \n",
       "7    1.41  667100  /net/archive/mtn/20170814/ct4m/2017B-0951/c4d_...   \n",
       "8    1.45  667112  /net/archive/mtn/20170814/ct4m/2017B-0951/c4d_...   \n",
       "9     1.4  667097  /net/archive/mtn/20170814/ct4m/2017B-0951/c4d_...   \n",
       "\n",
       "  instrument                            md5sum obs_type proc_type    proposal  \\\n",
       "0      decam  10ca3658469336b34d836967b9df26c1   object       raw  2017B-0951   \n",
       "1      decam  1f058b89ea71d3b45914e54b4f871565   object       raw  2017B-0951   \n",
       "2      decam  40a3bc0e4812b336e93ef751eb273325   object       raw  2017B-0951   \n",
       "3      decam  5174181ec36de019f6ccb563a706fb48   object       raw  2017B-0951   \n",
       "4      decam  6b533d96e76490261f37cdf75cfae2db   object       raw  2017B-0951   \n",
       "5      decam  928d5dcee69f591aab9251b1b242386b   object       raw  2017B-0951   \n",
       "6      decam  a241d847f02ef71d9884173f0d33f851   object       raw  2017B-0951   \n",
       "7      decam  c5519e510248cd702d6c46fc71d1b7f7   object       raw  2017B-0951   \n",
       "8      decam  d8f62f14e40bf25f5f1f9af038927e1a   object       raw  2017B-0951   \n",
       "9      decam  dc3d18bd0850dbbb967856f681d097fe   object       raw  2017B-0951   \n",
       "\n",
       "       ra_min release_date                                                url  \n",
       "0  322.493042   2017-09-13  https://marsnat2.pat.dm.noao.edu/api/adv_searc...  \n",
       "1  322.493042   2017-09-14  https://marsnat2.pat.dm.noao.edu/api/adv_searc...  \n",
       "2  322.493042   2017-09-13  https://marsnat2.pat.dm.noao.edu/api/adv_searc...  \n",
       "3  322.493042   2017-09-13  https://marsnat2.pat.dm.noao.edu/api/adv_searc...  \n",
       "4  322.493042   2017-09-13  https://marsnat2.pat.dm.noao.edu/api/adv_searc...  \n",
       "5  322.493042   2017-09-13  https://marsnat2.pat.dm.noao.edu/api/adv_searc...  \n",
       "6  322.493042   2017-09-13  https://marsnat2.pat.dm.noao.edu/api/adv_searc...  \n",
       "7  322.493042   2017-09-13  https://marsnat2.pat.dm.noao.edu/api/adv_searc...  \n",
       "8  322.493042   2017-09-13  https://marsnat2.pat.dm.noao.edu/api/adv_searc...  \n",
       "9  322.493042   2017-09-13  https://marsnat2.pat.dm.noao.edu/api/adv_searc...  "
      ]
     },
     "execution_count": 9,
     "metadata": {},
     "output_type": "execute_result"
    }
   ],
   "source": [
    "jj = {\n",
    "    \"outfields\" : [\n",
    "        \"md5sum\",\n",
    "        \"ra_min\",  # \"ra\" is a \"range_field\" in Postgres, access either part of range\n",
    "        \"archive_filename\",\n",
    "        \"instrument\",\n",
    "        \"proc_type\",\n",
    "        \"obs_type\",\n",
    "        \"release_date\",\n",
    "        \"proposal\",\n",
    "        \"EXPNUM\",    # AUX field. Slows search\n",
    "        \"AIRMASS\",\n",
    "    ],\n",
    "    \"search\" : [\n",
    "        [\"instrument\", \"decam\"],\n",
    "        [\"proc_type\", \"raw\"],\n",
    "        [\"ra_min\",322,323],\n",
    "        [\"EXPNUM\", 667000, 669000],\n",
    "    ]\n",
    "}\n",
    "apiurl = f'{adsurl}/fasearch/?limit=10'\n",
    "print(f'Using API url: {apiurl}')\n",
    "pd.read_json(json.dumps(requests.post(apiurl,json=jj).json()))"
   ]
  },
  {
   "cell_type": "markdown",
   "metadata": {},
   "source": [
    "### Find files available for download\n",
    "You can comment one or the other of the \"release_date\" search lines to find either public files or proprietary files.\n",
    "You can retrieve the public files without authentication. But to retrieve the proprietary files you must be an authenticated PI of a proposal associated with the file. Metadata has no proprietary period."
   ]
  },
  {
   "cell_type": "code",
   "execution_count": 10,
   "metadata": {
    "scrolled": false
   },
   "outputs": [
    {
     "name": "stdout",
     "output_type": "stream",
     "text": [
      "Using API url: https://marsnat2.pat.dm.noao.edu/api/adv_search/fasearch/?limit=5\n"
     ]
    },
    {
     "data": {
      "text/html": [
       "<div>\n",
       "<style scoped>\n",
       "    .dataframe tbody tr th:only-of-type {\n",
       "        vertical-align: middle;\n",
       "    }\n",
       "\n",
       "    .dataframe tbody tr th {\n",
       "        vertical-align: top;\n",
       "    }\n",
       "\n",
       "    .dataframe thead th {\n",
       "        text-align: right;\n",
       "    }\n",
       "</style>\n",
       "<table border=\"1\" class=\"dataframe\">\n",
       "  <thead>\n",
       "    <tr style=\"text-align: right;\">\n",
       "      <th></th>\n",
       "      <th>archive_filename</th>\n",
       "      <th>instrument</th>\n",
       "      <th>md5sum</th>\n",
       "      <th>obs_type</th>\n",
       "      <th>proc_type</th>\n",
       "      <th>proposal</th>\n",
       "      <th>release_date</th>\n",
       "      <th>telescope</th>\n",
       "      <th>url</th>\n",
       "    </tr>\n",
       "  </thead>\n",
       "  <tbody>\n",
       "    <tr>\n",
       "      <th>0</th>\n",
       "      <td>/net/archive/mtn/20170307/kp4m/2016A-0453/k4m_...</td>\n",
       "      <td>mosaic3</td>\n",
       "      <td>0000298c7e0b3ce96b3fff51515a6100</td>\n",
       "      <td>object</td>\n",
       "      <td>raw</td>\n",
       "      <td>2016A-0453</td>\n",
       "      <td>2018-08-29</td>\n",
       "      <td>kp4m</td>\n",
       "      <td>https://marsnat2.pat.dm.noao.edu/api/adv_searc...</td>\n",
       "    </tr>\n",
       "    <tr>\n",
       "      <th>1</th>\n",
       "      <td>/net/archive/mtn/20181205/ct4m/2012B-0001/c4d_...</td>\n",
       "      <td>decam</td>\n",
       "      <td>00002b499495627d0a75654935068ec8</td>\n",
       "      <td>zero</td>\n",
       "      <td>raw</td>\n",
       "      <td>2012B-0001</td>\n",
       "      <td>2018-12-05</td>\n",
       "      <td>ct4m</td>\n",
       "      <td>https://marsnat2.pat.dm.noao.edu/api/adv_searc...</td>\n",
       "    </tr>\n",
       "    <tr>\n",
       "      <th>2</th>\n",
       "      <td>/net/archive/mtn/20150413/bok23m/2015A-0801/ks...</td>\n",
       "      <td>90prime</td>\n",
       "      <td>000097df7e3ce697783776a6c19fb2d6</td>\n",
       "      <td>object</td>\n",
       "      <td>raw</td>\n",
       "      <td>2015A-0801</td>\n",
       "      <td>2016-10-04</td>\n",
       "      <td>bok23m</td>\n",
       "      <td>https://marsnat2.pat.dm.noao.edu/api/adv_searc...</td>\n",
       "    </tr>\n",
       "    <tr>\n",
       "      <th>3</th>\n",
       "      <td>/net/archive/mtn/20180328/ct4m/2018A-0159/c4d_...</td>\n",
       "      <td>decam</td>\n",
       "      <td>0000b0b21fb0dd5dfc20f00a65edd968</td>\n",
       "      <td>object</td>\n",
       "      <td>raw</td>\n",
       "      <td>2018A-0159</td>\n",
       "      <td>2019-09-19</td>\n",
       "      <td>ct4m</td>\n",
       "      <td>https://marsnat2.pat.dm.noao.edu/api/adv_searc...</td>\n",
       "    </tr>\n",
       "    <tr>\n",
       "      <th>4</th>\n",
       "      <td>/net/archive/mtn/20171109/ct4m/2012B-0001/c4d_...</td>\n",
       "      <td>decam</td>\n",
       "      <td>00010728654d654fc2989e846357bdbf</td>\n",
       "      <td>zero</td>\n",
       "      <td>raw</td>\n",
       "      <td>2012B-0001</td>\n",
       "      <td>2017-11-09</td>\n",
       "      <td>ct4m</td>\n",
       "      <td>https://marsnat2.pat.dm.noao.edu/api/adv_searc...</td>\n",
       "    </tr>\n",
       "  </tbody>\n",
       "</table>\n",
       "</div>"
      ],
      "text/plain": [
       "                                    archive_filename instrument  \\\n",
       "0  /net/archive/mtn/20170307/kp4m/2016A-0453/k4m_...    mosaic3   \n",
       "1  /net/archive/mtn/20181205/ct4m/2012B-0001/c4d_...      decam   \n",
       "2  /net/archive/mtn/20150413/bok23m/2015A-0801/ks...    90prime   \n",
       "3  /net/archive/mtn/20180328/ct4m/2018A-0159/c4d_...      decam   \n",
       "4  /net/archive/mtn/20171109/ct4m/2012B-0001/c4d_...      decam   \n",
       "\n",
       "                             md5sum obs_type proc_type    proposal  \\\n",
       "0  0000298c7e0b3ce96b3fff51515a6100   object       raw  2016A-0453   \n",
       "1  00002b499495627d0a75654935068ec8     zero       raw  2012B-0001   \n",
       "2  000097df7e3ce697783776a6c19fb2d6   object       raw  2015A-0801   \n",
       "3  0000b0b21fb0dd5dfc20f00a65edd968   object       raw  2018A-0159   \n",
       "4  00010728654d654fc2989e846357bdbf     zero       raw  2012B-0001   \n",
       "\n",
       "  release_date telescope                                                url  \n",
       "0   2018-08-29      kp4m  https://marsnat2.pat.dm.noao.edu/api/adv_searc...  \n",
       "1   2018-12-05      ct4m  https://marsnat2.pat.dm.noao.edu/api/adv_searc...  \n",
       "2   2016-10-04    bok23m  https://marsnat2.pat.dm.noao.edu/api/adv_searc...  \n",
       "3   2019-09-19      ct4m  https://marsnat2.pat.dm.noao.edu/api/adv_searc...  \n",
       "4   2017-11-09      ct4m  https://marsnat2.pat.dm.noao.edu/api/adv_searc...  "
      ]
     },
     "execution_count": 10,
     "metadata": {},
     "output_type": "execute_result"
    }
   ],
   "source": [
    "jj = {\n",
    "    \"outfields\" : [\n",
    "        \"md5sum\",\n",
    "        \"archive_filename\",\n",
    "        \"instrument\",\n",
    "        \"telescope\",\n",
    "        \"proc_type\",\n",
    "        \"obs_type\",\n",
    "        \"release_date\",\n",
    "        \"proposal\",\n",
    "    ],\n",
    "    \"search\" : [\n",
    "        [\"release_date\", '2005-02-18','2020-01-20'], # public\n",
    "        #[\"release_date\", '2020-02-18','2020-11-18'], # proprietary\n",
    "    ]\n",
    "}\n",
    "apiurl = f'{adsurl}/fasearch/?limit=5'\n",
    "print(f'Using API url: {apiurl}')\n",
    "ads_df = pd.read_json(json.dumps(requests.post(apiurl,json=jj).json()))\n",
    "ads_df"
   ]
  },
  {
   "cell_type": "markdown",
   "metadata": {},
   "source": [
    "#### Get a URL that can be used to retrieve a single public FITS file.  \n",
    "Pasting this in your browser will result in dialog box that lets you save the file locally."
   ]
  },
  {
   "cell_type": "code",
   "execution_count": 11,
   "metadata": {},
   "outputs": [
    {
     "data": {
      "text/plain": [
       "'https://marsnat2.pat.dm.noao.edu/api/adv_search/retrieve/0000298c7e0b3ce96b3fff51515a6100/'"
      ]
     },
     "execution_count": 11,
     "metadata": {},
     "output_type": "execute_result"
    }
   ],
   "source": [
    "selectedRow=0\n",
    "ads_df['url'][selectedRow]"
   ]
  },
  {
   "cell_type": "markdown",
   "metadata": {},
   "source": [
    "# FIX!!! (the working equiv of above is .../api/natica/retrieve/...)\n",
    "Do we really want the URL column to be present no matter what user asks for?!? Takes up space and they may not want it."
   ]
  },
  {
   "cell_type": "markdown",
   "metadata": {},
   "source": [
    "#### This gets no results (no Archive filename ends with \"FOOBAR\")\n",
    "The \"archive_filename\" is a string type so there are many modifiers that can be used with it: \n",
    "_exact, iexact, startswith, istartswith, endswith, iendswith, contains, icontains, regex, iregex_\n"
   ]
  },
  {
   "cell_type": "code",
   "execution_count": 12,
   "metadata": {
    "scrolled": true
   },
   "outputs": [
    {
     "data": {
      "text/html": [
       "<div>\n",
       "<style scoped>\n",
       "    .dataframe tbody tr th:only-of-type {\n",
       "        vertical-align: middle;\n",
       "    }\n",
       "\n",
       "    .dataframe tbody tr th {\n",
       "        vertical-align: top;\n",
       "    }\n",
       "\n",
       "    .dataframe thead th {\n",
       "        text-align: right;\n",
       "    }\n",
       "</style>\n",
       "<table border=\"1\" class=\"dataframe\">\n",
       "  <thead>\n",
       "    <tr style=\"text-align: right;\">\n",
       "      <th></th>\n",
       "    </tr>\n",
       "  </thead>\n",
       "  <tbody>\n",
       "  </tbody>\n",
       "</table>\n",
       "</div>"
      ],
      "text/plain": [
       "Empty DataFrame\n",
       "Columns: []\n",
       "Index: []"
      ]
     },
     "execution_count": 12,
     "metadata": {},
     "output_type": "execute_result"
    }
   ],
   "source": [
    "jj = {\n",
    "    \"outfields\" : [\"archive_filename\", \"md5sum\"],\n",
    "    \"search\" : [\n",
    "        [\"archive_filename\", \"k4m_170308_045842_ori.fits.fz.FOOBAR\", 'endswith'],\n",
    "    ]\n",
    "}\n",
    "pd.read_json(json.dumps(requests.post(f'{adsurl}/fasearch/?limit=9',json=jj).json()))"
   ]
  },
  {
   "cell_type": "markdown",
   "metadata": {},
   "source": [
    "### Can we return something better for above when there are zero results? !!!"
   ]
  },
  {
   "cell_type": "markdown",
   "metadata": {},
   "source": [
    "### It is an error to search using AUX field without limiting to instrument\n",
    "An error is raised if an AUX field is in the search clause without also searching for and *instrument* and *proc_type*. Uncommenting the *instrument* line below will fix the problem."
   ]
  },
  {
   "cell_type": "code",
   "execution_count": 13,
   "metadata": {},
   "outputs": [
    {
     "data": {
      "text/plain": [
       "{'errorMessage': 'No \"instrument\" was provided when searching for AUX fields. For performance reasons you must also filter on \"instrument\" and \"proc_type\" that contain the AUX fields you are searching on (EXPNUM).',\n",
       " 'errorCode': 'NATERR'}"
      ]
     },
     "execution_count": 13,
     "metadata": {},
     "output_type": "execute_result"
    }
   ],
   "source": [
    "jj = {\n",
    "    \"outfields\" : [\n",
    "        \"md5sum\",\n",
    "        \"archive_filename\",\n",
    "        \"instrument\",\n",
    "        \"proc_type\",\n",
    "        \"EXPNUM\",    # AUX field. Slows search\n",
    "    ],\n",
    "    \"search\" : [\n",
    "        #[\"instrument\", \"decam\"],  # uncomment this to eliminate error\n",
    "        [\"proc_type\", \"raw\"],\n",
    "        [\"EXPNUM\", 667000, 669000],\n",
    "    ]\n",
    "}\n",
    "requests.post(f'{adsurl}/fasearch/?limit=9',json=jj).json()"
   ]
  },
  {
   "cell_type": "code",
   "execution_count": 14,
   "metadata": {},
   "outputs": [
    {
     "data": {
      "text/plain": [
       "'https://marsnat2.pat.dm.noao.edu/api/retrieve/0000298c7e0b3ce96b3fff51515a6100'"
      ]
     },
     "execution_count": 14,
     "metadata": {},
     "output_type": "execute_result"
    }
   ],
   "source": [
    "fileid = ads_df['md5sum'][0]\n",
    "fileurl = f'{natroot}/api/retrieve/{fileid}'\n",
    "fileurl"
   ]
  },
  {
   "cell_type": "markdown",
   "metadata": {},
   "source": [
    "#### Attempt to get File\n",
    "There are several reasons attempt may fail, so check status!  Most reasons only apply to Proprietary files and include: \n",
    "1. There is no proposal associated with the File\n",
    "1. User is not authenticated\n",
    "1. User is not a PI or CoPI associated with the proposal\n",
    "\n",
    "For more details on retrieving proprietary files see the **api-authentication** notebook."
   ]
  },
  {
   "cell_type": "code",
   "execution_count": 15,
   "metadata": {},
   "outputs": [
    {
     "name": "stdout",
     "output_type": "stream",
     "text": [
      "HTTP-Status=200 File-size=74,914,560\n"
     ]
    },
    {
     "data": {
      "image/png": "[encoded data removed]",
      "text/plain": [
       "<Figure size 1152x648 with 1 Axes>"
      ]
     },
     "metadata": {
      "needs_background": "light"
     },
     "output_type": "display_data"
    }
   ],
   "source": [
    "response = requests.get(fileurl)\n",
    "if response.status_code == 200:\n",
    "    print(f'HTTP-Status={response.status_code} File-size={len(response.content):,}')    \n",
    "    zimage = pyfits.getdata(autils.data.download_file(fileurl,cache=True,show_progress=False,timeout=120))\n",
    "    plt.rcParams[\"figure.figsize\"] = [16,9]\n",
    "    plt.imshow(zimage,cmap=matplotlib.cm.gray_r)\n",
    "    zimage.shape\n",
    "else:\n",
    "    print(f'content={response.content}')\n",
    "    print(response.json()['errorMessage'])\n",
    "    print(response.json()['traceback'])  # for API developer use\n"
   ]
  },
  {
   "cell_type": "markdown",
   "metadata": {},
   "source": [
    "### Get Core HDU field names and types <a id=\"core_hdu\" />\n",
    "These occur once per non-primary HDU and are optimized for fast search."
   ]
  },
  {
   "cell_type": "code",
   "execution_count": 16,
   "metadata": {},
   "outputs": [
    {
     "data": {
      "text/plain": [
       "{'boundary': 'str',\n",
       " 'dec': 'np.float64',\n",
       " 'dec_range': 'str',\n",
       " 'fitsfile': 'str',\n",
       " 'fitsfile__archive_filename': 'str',\n",
       " 'fitsfile__caldat': 'str',\n",
       " 'fitsfile__date_obs_max': 'str',\n",
       " 'fitsfile__date_obs_min': 'str',\n",
       " 'fitsfile__dec_max': 'str',\n",
       " 'fitsfile__dec_min': 'str',\n",
       " 'fitsfile__depth': 'str',\n",
       " 'fitsfile__exposure': 'str',\n",
       " 'fitsfile__filesize': 'str',\n",
       " 'fitsfile__ifilter': 'str',\n",
       " 'fitsfile__instrument': 'str',\n",
       " 'fitsfile__md5sum': 'str',\n",
       " 'fitsfile__obs_mode': 'str',\n",
       " 'fitsfile__obs_type': 'str',\n",
       " 'fitsfile__original_filename': 'str',\n",
       " 'fitsfile__proc_type': 'str',\n",
       " 'fitsfile__prod_type': 'str',\n",
       " 'fitsfile__proposal': 'str',\n",
       " 'fitsfile__ra_max': 'str',\n",
       " 'fitsfile__ra_min': 'str',\n",
       " 'fitsfile__release_date': 'str',\n",
       " 'fitsfile__seeing': 'str',\n",
       " 'fitsfile__site': 'str',\n",
       " 'fitsfile__survey': 'str',\n",
       " 'fitsfile__telescope': 'str',\n",
       " 'fitsfile__updated': 'str',\n",
       " 'hdu_idx': 'np.int64',\n",
       " 'id': 'str',\n",
       " 'ra': 'np.float64',\n",
       " 'ra_range': 'str',\n",
       " 'updated': 'datetime64'}"
      ]
     },
     "execution_count": 16,
     "metadata": {},
     "output_type": "execute_result"
    }
   ],
   "source": [
    "requests.get(f'{adsurl}/core_hdu_fields').json()"
   ]
  },
  {
   "cell_type": "markdown",
   "metadata": {},
   "source": [
    "### Get Aux HDU field names and types <a id=\"aux_hdu\" />\n",
    "These occur once per non-primary HDU but will be slower to search.  All keywords from the non-primary HDUs (except those in Core HDU Fields) are included."
   ]
  },
  {
   "cell_type": "code",
   "execution_count": 17,
   "metadata": {},
   "outputs": [
    {
     "data": {
      "text/plain": [
       "{'AMPSECA': 'str',\n",
       " 'AMPSECB': 'str',\n",
       " 'BIASSECA': 'str',\n",
       " 'BIASSECB': 'str',\n",
       " 'BSCALE': 'str',\n",
       " 'BUNIT': 'str',\n",
       " 'BZERO': 'str',\n",
       " 'CCDBIN1': 'str',\n",
       " 'CCDBIN2': 'str',\n",
       " 'CCDNUM': 'str',\n",
       " 'CCDSEC': 'str',\n",
       " 'CCDSECA': 'str',\n",
       " 'CCDSECB': 'str',\n",
       " 'CD1_1': 'str',\n",
       " 'CD1_2': 'str',\n",
       " 'CD2_1': 'str',\n",
       " 'CD2_2': 'str',\n",
       " 'CHECKVER': 'str',\n",
       " 'CRPIX1': 'str',\n",
       " 'CRPIX2': 'str',\n",
       " 'CRVAL1': 'str',\n",
       " 'CRVAL2': 'str',\n",
       " 'CTYPE1': 'str',\n",
       " 'CTYPE2': 'str',\n",
       " 'CUNIT1': 'str',\n",
       " 'CUNIT2': 'str',\n",
       " 'DATASEC': 'str',\n",
       " 'DATASECA': 'str',\n",
       " 'DATASECB': 'str',\n",
       " 'DETECTOR': 'str',\n",
       " 'DETPOS': 'str',\n",
       " 'DETSEC': 'str',\n",
       " 'DETSECA': 'str',\n",
       " 'DETSECB': 'str',\n",
       " 'DETSIZE': 'str',\n",
       " 'DHEFIRM': 'str',\n",
       " 'DHEINF': 'str',\n",
       " 'DONUT10E': 'str',\n",
       " 'DONUT10Z': 'str',\n",
       " 'DONUT11E': 'str',\n",
       " 'DONUT11Z': 'str',\n",
       " 'DONUT12E': 'str',\n",
       " 'DONUT12Z': 'str',\n",
       " 'DONUT13E': 'str',\n",
       " 'DONUT13Z': 'str',\n",
       " 'DONUT14E': 'str',\n",
       " 'DONUT14Z': 'str',\n",
       " 'DONUT15E': 'str',\n",
       " 'DONUT15Z': 'str',\n",
       " 'DONUT19E': 'str',\n",
       " 'DONUT19Z': 'str',\n",
       " 'DONUT1E': 'str',\n",
       " 'DONUT1Z': 'str',\n",
       " 'DONUT20E': 'str',\n",
       " 'DONUT20Z': 'str',\n",
       " 'DONUT2E': 'str',\n",
       " 'DONUT2Z': 'str',\n",
       " 'DONUT3E': 'str',\n",
       " 'DONUT3Z': 'str',\n",
       " 'DONUT4E': 'str',\n",
       " 'DONUT4Z': 'str',\n",
       " 'DONUT5E': 'str',\n",
       " 'DONUT5Z': 'str',\n",
       " 'DONUT6E': 'str',\n",
       " 'DONUT6Z': 'str',\n",
       " 'DONUT7E': 'str',\n",
       " 'DONUT7Z': 'str',\n",
       " 'DONUT8E': 'str',\n",
       " 'DONUT8Z': 'str',\n",
       " 'DONUT9E': 'str',\n",
       " 'DONUT9Z': 'str',\n",
       " 'EQUINOX': 'str',\n",
       " 'EXTNAME': 'str',\n",
       " 'FPA': 'str',\n",
       " 'GAINA': 'str',\n",
       " 'GAINB': 'str',\n",
       " 'GCOUNT': 'str',\n",
       " 'INHERIT': 'str',\n",
       " 'LTM1_1': 'str',\n",
       " 'LTM1_2': 'str',\n",
       " 'LTM2_1': 'str',\n",
       " 'LTM2_2': 'str',\n",
       " 'LTV1': 'str',\n",
       " 'LTV2': 'str',\n",
       " 'NAXIS1': 'str',\n",
       " 'NAXIS2': 'str',\n",
       " 'NDONUTS': 'str',\n",
       " 'PCOUNT': 'str',\n",
       " 'POSTSECA': 'str',\n",
       " 'POSTSECB': 'str',\n",
       " 'PRESECA': 'str',\n",
       " 'PRESECB': 'str',\n",
       " 'PV1_0': 'str',\n",
       " 'PV1_1': 'str',\n",
       " 'PV1_10': 'str',\n",
       " 'PV1_2': 'str',\n",
       " 'PV1_3': 'str',\n",
       " 'PV1_4': 'str',\n",
       " 'PV1_5': 'str',\n",
       " 'PV1_6': 'str',\n",
       " 'PV1_7': 'str',\n",
       " 'PV1_8': 'str',\n",
       " 'PV1_9': 'str',\n",
       " 'PV2_0': 'str',\n",
       " 'PV2_1': 'str',\n",
       " 'PV2_10': 'str',\n",
       " 'PV2_2': 'str',\n",
       " 'PV2_3': 'str',\n",
       " 'PV2_4': 'str',\n",
       " 'PV2_5': 'str',\n",
       " 'PV2_6': 'str',\n",
       " 'PV2_7': 'str',\n",
       " 'PV2_8': 'str',\n",
       " 'PV2_9': 'str',\n",
       " 'RADESYS': 'str',\n",
       " 'RDNOISEA': 'str',\n",
       " 'RDNOISEB': 'str',\n",
       " 'SATURATA': 'str',\n",
       " 'SATURATB': 'str',\n",
       " 'SLOT00': 'str',\n",
       " 'SLOT01': 'str',\n",
       " 'SLOT02': 'str',\n",
       " 'SLOT03': 'str',\n",
       " 'SLOT04': 'str',\n",
       " 'SLOT05': 'str',\n",
       " 'TRIMSEC': 'str',\n",
       " 'TRIMSECA': 'str',\n",
       " 'TRIMSECB': 'str',\n",
       " 'VALIDA': 'str',\n",
       " 'VALIDB': 'str',\n",
       " 'WCSAXES': 'str',\n",
       " 'XTENSION': 'str'}"
      ]
     },
     "execution_count": 17,
     "metadata": {},
     "output_type": "execute_result"
    }
   ],
   "source": [
    "requests.get(f'{adsurl}/aux_hdu_fields/decam/raw/').json()"
   ]
  },
  {
   "cell_type": "markdown",
   "metadata": {},
   "source": [
    "## Advanced HDU Search of Core and Aux fields, results into Pandas <a id=\"hdu_search\" />  "
   ]
  },
  {
   "cell_type": "markdown",
   "metadata": {},
   "source": [
    "# FIX!!!\n",
    "- Should protect against AUX field use unless both Instrument and Proc_type are given.\n",
    "- Need AUX field that can be found in both DEV and PAT"
   ]
  },
  {
   "cell_type": "code",
   "execution_count": 18,
   "metadata": {},
   "outputs": [
    {
     "data": {
      "text/html": [
       "<div>\n",
       "<style scoped>\n",
       "    .dataframe tbody tr th:only-of-type {\n",
       "        vertical-align: middle;\n",
       "    }\n",
       "\n",
       "    .dataframe tbody tr th {\n",
       "        vertical-align: top;\n",
       "    }\n",
       "\n",
       "    .dataframe thead th {\n",
       "        text-align: right;\n",
       "    }\n",
       "</style>\n",
       "<table border=\"1\" class=\"dataframe\">\n",
       "  <thead>\n",
       "    <tr style=\"text-align: right;\">\n",
       "      <th></th>\n",
       "      <th>AIRMASS</th>\n",
       "      <th>dec</th>\n",
       "      <th>fitsfile__archive_filename</th>\n",
       "      <th>fitsfile__caldat</th>\n",
       "      <th>fitsfile__instrument</th>\n",
       "      <th>fitsfile__proc_type</th>\n",
       "      <th>ra</th>\n",
       "    </tr>\n",
       "  </thead>\n",
       "  <tbody>\n",
       "    <tr>\n",
       "      <th>0</th>\n",
       "      <td>NaN</td>\n",
       "      <td>NaN</td>\n",
       "      <td>/net/archive/mtn/20181129/ct4m/2012B-0001/c4d_...</td>\n",
       "      <td>2018-11-29</td>\n",
       "      <td>decam</td>\n",
       "      <td>raw</td>\n",
       "      <td>NaN</td>\n",
       "    </tr>\n",
       "    <tr>\n",
       "      <th>1</th>\n",
       "      <td>NaN</td>\n",
       "      <td>NaN</td>\n",
       "      <td>/net/archive/mtn/20181129/ct4m/2012B-0001/c4d_...</td>\n",
       "      <td>2018-11-29</td>\n",
       "      <td>decam</td>\n",
       "      <td>raw</td>\n",
       "      <td>NaN</td>\n",
       "    </tr>\n",
       "    <tr>\n",
       "      <th>2</th>\n",
       "      <td>NaN</td>\n",
       "      <td>NaN</td>\n",
       "      <td>/net/archive/mtn/20181129/ct4m/2012B-0001/c4d_...</td>\n",
       "      <td>2018-11-29</td>\n",
       "      <td>decam</td>\n",
       "      <td>raw</td>\n",
       "      <td>NaN</td>\n",
       "    </tr>\n",
       "    <tr>\n",
       "      <th>3</th>\n",
       "      <td>NaN</td>\n",
       "      <td>NaN</td>\n",
       "      <td>/net/archive/mtn/20181129/ct4m/2012B-0001/c4d_...</td>\n",
       "      <td>2018-11-29</td>\n",
       "      <td>decam</td>\n",
       "      <td>raw</td>\n",
       "      <td>NaN</td>\n",
       "    </tr>\n",
       "    <tr>\n",
       "      <th>4</th>\n",
       "      <td>NaN</td>\n",
       "      <td>NaN</td>\n",
       "      <td>/net/archive/mtn/20181129/ct4m/2012B-0001/c4d_...</td>\n",
       "      <td>2018-11-29</td>\n",
       "      <td>decam</td>\n",
       "      <td>raw</td>\n",
       "      <td>NaN</td>\n",
       "    </tr>\n",
       "    <tr>\n",
       "      <th>5</th>\n",
       "      <td>NaN</td>\n",
       "      <td>NaN</td>\n",
       "      <td>/net/archive/mtn/20181129/ct4m/2012B-0001/c4d_...</td>\n",
       "      <td>2018-11-29</td>\n",
       "      <td>decam</td>\n",
       "      <td>raw</td>\n",
       "      <td>NaN</td>\n",
       "    </tr>\n",
       "    <tr>\n",
       "      <th>6</th>\n",
       "      <td>NaN</td>\n",
       "      <td>NaN</td>\n",
       "      <td>/net/archive/mtn/20181129/ct4m/2012B-0001/c4d_...</td>\n",
       "      <td>2018-11-29</td>\n",
       "      <td>decam</td>\n",
       "      <td>raw</td>\n",
       "      <td>NaN</td>\n",
       "    </tr>\n",
       "    <tr>\n",
       "      <th>7</th>\n",
       "      <td>NaN</td>\n",
       "      <td>NaN</td>\n",
       "      <td>/net/archive/mtn/20181129/ct4m/2012B-0001/c4d_...</td>\n",
       "      <td>2018-11-29</td>\n",
       "      <td>decam</td>\n",
       "      <td>raw</td>\n",
       "      <td>NaN</td>\n",
       "    </tr>\n",
       "    <tr>\n",
       "      <th>8</th>\n",
       "      <td>NaN</td>\n",
       "      <td>NaN</td>\n",
       "      <td>/net/archive/mtn/20181129/ct4m/2012B-0001/c4d_...</td>\n",
       "      <td>2018-11-29</td>\n",
       "      <td>decam</td>\n",
       "      <td>raw</td>\n",
       "      <td>NaN</td>\n",
       "    </tr>\n",
       "  </tbody>\n",
       "</table>\n",
       "</div>"
      ],
      "text/plain": [
       "   AIRMASS  dec                         fitsfile__archive_filename  \\\n",
       "0      NaN  NaN  /net/archive/mtn/20181129/ct4m/2012B-0001/c4d_...   \n",
       "1      NaN  NaN  /net/archive/mtn/20181129/ct4m/2012B-0001/c4d_...   \n",
       "2      NaN  NaN  /net/archive/mtn/20181129/ct4m/2012B-0001/c4d_...   \n",
       "3      NaN  NaN  /net/archive/mtn/20181129/ct4m/2012B-0001/c4d_...   \n",
       "4      NaN  NaN  /net/archive/mtn/20181129/ct4m/2012B-0001/c4d_...   \n",
       "5      NaN  NaN  /net/archive/mtn/20181129/ct4m/2012B-0001/c4d_...   \n",
       "6      NaN  NaN  /net/archive/mtn/20181129/ct4m/2012B-0001/c4d_...   \n",
       "7      NaN  NaN  /net/archive/mtn/20181129/ct4m/2012B-0001/c4d_...   \n",
       "8      NaN  NaN  /net/archive/mtn/20181129/ct4m/2012B-0001/c4d_...   \n",
       "\n",
       "  fitsfile__caldat fitsfile__instrument fitsfile__proc_type  ra  \n",
       "0       2018-11-29                decam                 raw NaN  \n",
       "1       2018-11-29                decam                 raw NaN  \n",
       "2       2018-11-29                decam                 raw NaN  \n",
       "3       2018-11-29                decam                 raw NaN  \n",
       "4       2018-11-29                decam                 raw NaN  \n",
       "5       2018-11-29                decam                 raw NaN  \n",
       "6       2018-11-29                decam                 raw NaN  \n",
       "7       2018-11-29                decam                 raw NaN  \n",
       "8       2018-11-29                decam                 raw NaN  "
      ]
     },
     "execution_count": 18,
     "metadata": {},
     "output_type": "execute_result"
    }
   ],
   "source": [
    "jj = {\n",
    "    \"outfields\" : [\n",
    "        \"fitsfile__archive_filename\",\n",
    "        \"fitsfile__caldat\",\n",
    "        \"fitsfile__instrument\",\n",
    "        \"fitsfile__proc_type\",\n",
    "        \"ra\",\n",
    "        \"dec\",\n",
    "        \"AIRMASS\"  # AUX field. Slows search\n",
    "    ],\n",
    "    \"search\" : [\n",
    "        [\"fitsfile__instrument\", \"decam\"],\n",
    "        #[\"fitsfile__proc_type\", \"raw\"],\n",
    "    ]\n",
    "}\n",
    "df = None # Pandas DataFrame\n",
    "apiurl=f'{adsurl}/hasearch/?limit=9'\n",
    "response = requests.post(apiurl,json=jj)\n",
    "\n",
    "if response.status_code == 200:\n",
    "    df = pd.read_json(json.dumps(response.json()))\n",
    "else:\n",
    "    print(response.json()['errorMessage'])\n",
    "    print(response.json()['traceback'])  # for API developer use\n",
    "df"
   ]
  },
  {
   "cell_type": "markdown",
   "metadata": {},
   "source": [
    "## Error Conditions <a id=\"errors\" />"
   ]
  },
  {
   "cell_type": "markdown",
   "metadata": {},
   "source": [
    "### Examples of bad search specification\n",
    "#### Attempt to search unknown field name"
   ]
  },
  {
   "cell_type": "code",
   "execution_count": 19,
   "metadata": {
    "scrolled": true
   },
   "outputs": [
    {
     "name": "stdout",
     "output_type": "stream",
     "text": [
      "No \"proc_type\" was provided when searching for AUX fields. For performance reasons you must also filter on \"instrument\" and \"proc_type\" that contain the AUX fields you are searching on (snafu).\n"
     ]
    }
   ],
   "source": [
    "jj={\n",
    "    \"outfields\" : [\n",
    "        \"ifilter\",\n",
    "        \"archive_filename\"\n",
    "    ],\n",
    "    \"search\" : [\n",
    "        [\"snafu\",\"wubba\"], # unknown field \"snafu\"\n",
    "        [\"instrument\", \"decam\"]\n",
    "    ]\n",
    "}\n",
    "df = None # Pandas DataFrame\n",
    "apiurl=f'{adsurl}/fasearch/?limit=9'\n",
    "response = requests.post(apiurl,json=jj)\n",
    "\n",
    "if response.status_code == 200:\n",
    "    df = pd.read_json(json.dumps(response.json()))\n",
    "else:\n",
    "    print(response.json()['errorMessage'])\n",
    "    #print(response.json()['traceback'])  # for API developer use\n",
    "df"
   ]
  },
  {
   "cell_type": "markdown",
   "metadata": {},
   "source": [
    "#### Attempt to retrieve field name not in known list"
   ]
  },
  {
   "cell_type": "code",
   "execution_count": 20,
   "metadata": {
    "scrolled": true
   },
   "outputs": [
    {
     "name": "stdout",
     "output_type": "stream",
     "text": [
      "These OUTFIELDS fields are not known to exist in any loaded headers (baz, foo). Available fields are: AAPROPID, ACQCNTRL, ACQDIGAV, ACQMODE, ACQPRIOR, ACQSEL0, ACQSEL1, ACQSEL10, ACQSEL11, ACQSEL12, ACQSEL13, ACQSEL14, ACQSEL15, ACQSEL2, ACQSEL3, ACQSEL4, ACQSEL5, ACQSEL6, ACQSEL7, ACQSEL8, ACQSEL9, ACQSTAT, ADC, ADCPAN1, ADCPAN2, ADCPOS, ADCSTAT, ADC_CONF, ADC_MUX, ADC_OFSB, ADC_OFSG, ADC_OFSR, ADC_PGAB, ADC_PGAG, ADC_PGAR, ADC_ZERO, ADDAST, AIRMASS, ALT, ALTITUDE, AMBTEMP, AMP-CFG, AMP-PIX1, AMP-PIX2, AMPBAL, AMPFLAT, AMPID, AMPINTEG, AMPLIST, AMPMERGE, AMPNAME, AMPNUM, AMPSEC, AMPSECA, AMPSECB, ANG-RES, AOS, APNUM1, AP_0_1, AP_0_2, AP_0_3, AP_1_0, AP_1_1, AP_1_2, AP_2_0, AP_2_1, AP_3_0, AP_ORDER, ARAWGAIN, ARCONGI, ARCONWD, ARRDIR, ARRFILE, ARRID, ARRTYPE, ASEC11, ASEC12, ASEC21, ASEC22, ASTIG1, ASTIG2, ASTRMCAT, ATM1_1, ATM2_2, ATPRESS, ATTNUM, ATV1, ATV2, AUTHOR, AVSIG, AVSKY, AZ, AZIMUTH, AZMAP, A_0_2, A_0_3, A_1_1, A_1_2, A_2_0, A_2_1, A_3_0, A_ORDER, BACKEST, BACKFSIZ, BACKMEAN, BACKSIG, BACKSIZE, BACKSUBF, BACKTYPE, BAND, BANDID1, BAROMETE, BCAM, BCAMAX, BCAMAY, BCAMAZ, BCAMDX, BCAMDY, BFCFIL, BH2TEMP, BH3TEMP, BIASFIL, BIASLVL, BIASSEC, BIASSECA, BIASSECB, BIASTALG, BIASTOOL, BIASTSWV, BITPIX, BLDINTRP, BLDPROC, BPM, BPMCCD, BPMFIL, BP_0_1, BP_0_2, BP_0_3, BP_1_0, BP_1_1, BP_1_2, BP_2_0, BP_2_1, BP_3_0, BP_ORDER, BSCALE, BSEC11, BSEC12, BSEC21, BSEC22, BTOOLAPP, BTOOLAR, BTOOLFIT, BTOOLSWV, BUNIT, BZERO, B_0_2, B_0_3, B_1_1, B_1_2, B_2_0, B_2_1, B_3_0, B_ORDER, C, CALMODE, CAMANGLE, CAMERA, CAMFOCUS, CAMNAME, CAMSHUT, CAMSWV, CAMSYM, CAMTEMP, CAM_ANG, CAM_FOC, CAM_TARG, CAM_TEMP, CAPTMOD, CATALOG, CCDBIN1, CCDBIN2, CCDFILT, CCDFLTID, CCDMEAN, CCDMEANT, CCDMIN, CCDNAME, CCDNUM, CCDPROC, CCDSCALE, CCDSEC, CCDSEC1, CCDSECA, CCDSECB, CCDSHIFT, CCDSIZE, CCDSUM, CCDTEM, CCDTEM2, CCDTEMP, CCDTEMP1, CCDTEMP2, CCDTEMP3, CCDTEMP4, CCDXBIN, CCDYBIN, CD1_1, CD1_2, CD2_1, CD2_2, CDELT1, CDELT2, CDETTEM, CELLGAP1, CELLGAP2, CENDEC1, CENRA1, CENTDEC, CENTERT1, CENTERT2, CENTRA, CHECKSUM, CHECKVER, CLOSETIM, CLV1ADC, CLV1MATH, CLV1MCAL, CLV1PG3, CLV1PG4, CLV1PPG4, CLV1TRIG, CLV2ADC, CLV2MATH, CLV2MCAL, CLV2PG3, CLV2PG4, CLV2PPG4, CLV2TRIG, CLV_ADC, CLV_MATH, CLV_MCAL, CLV_PG3, CLV_PG4, CLV_PPG4, CLV_PRES, CLV_TRIG, CMMTOBS, CNAXIS1, CNAXIS2, CNPIX1, CNPIX2, COADDS, COLL_FOC, COL_TEMP, COMBINET, COMIN1, COMIN2, COMMENT, COMPLAMP, CONHWURL, CONHWV, CONSTVER, CONSWURL, CONSWV, CONTROLR, CON_DEV, CON_IP, CON_MAC, CON_NAME, CON_UP, COORDS, COR1DEC1, COR1RA1, COR2DEC1, COR2RA1, COR3DEC1, COR3RA1, COR4DEC1, COR4RA1, CORN1DEC, CORN1RA, CORN2DEC, CORN2RA, CORN3DEC, CORN3RA, CORN4DEC, CORN4RA, CORNDEC1, CORNDEC2, CORNDEC3, CORNDEC4, CORNRA1, CORNRA2, CORNRA3, CORNRA4, CORRCTOR, COUNTS, CREATOR, CROSSRA0, CRPIX1, CRPIX2, CRR, CRVAL1, CRVAL2, CSEC11, CSEC12, CSEC21, CSEC22, CTCPERD, CTYPE1, CTYPE2, CUNIT1, CUNIT2, DAC_CAL, DAC_DR, DAC_INIT, DAC_LREF, DAC_OG1, DAC_P1_H, DAC_P1_L, DAC_P2_H, DAC_P2_L, DAC_P3_H, DAC_P3_L, DAC_P4_H, DAC_P4_L, DAC_PSH, DAC_PSL, DAC_RD, DAC_RG_H, DAC_RG_L, DAC_S1_H, DAC_S1_L, DAC_S2_H, DAC_S2_L, DAC_S3_H, DAC_S3_L, DAC_SCP, DAC_SO, DAC_SUB, DAC_SW_H, DAC_SW_L, DAC_VDDH, DAC_VDDL, DAC_VSS, DAQ3USER, DAQ3UTAR, DAQ3UVER, DARKCUR, DARKFIL, DARKINFO, DARKTIME, DATAMAX, DATAMIN, DATASEC, DATASECA, DATASECB, DATASUM, DATATYP, DATATYPE, DATE, DATE-OBS, DBURL, DCCDMEAN, DCREATED, DEC, DEC1, DEC13A_2, DEC13B_2, DEC14A_2, DEC14B_2, DEC15A_2, DEC15B_2, DEC16A_2, DEC16B_2, DEC17A_2, DEC17B_2, DEC18A_2, DEC18B_2, DEC19A_2, DEC19A_D, DEC19A_L, DEC19A_P, DEC19A_S, DECALS_2, DECC1, DECC2, DECC3, DECC4, DECCMAX, DECCMIN, DECDIFF, DECINDEX, DECINST, DECKER, DECKPOS, DECOFF, DECOFFST, DECPANGL, DECSERVO, DECSTRNG, DECSV_30, DECSV_DE, DECZERO, DEC_CENT, DELTARA:, DES14B_2, DES15B_2, DES16B_2, DES17A_2, DES17B_2, DES18A_2, DES18B_2, DESBFC, DESBIAS, DESBLEED, DESBPM, DESCRMSK, DESDCXTK, DESDMCR, DESFIXC, DESFLAT, DESFLTNM, DESFNAME, DESFRING, DESGAINC, DESILLUM, DESIMMSK, DESLINC, DESMKBCR, DESMKFCR, DESMKFRG, DESNCRAY, DESNSTRK, DESOSCN, DESPHOTF, DESPUPC, DESREL, DESSAT, DESSKYSB, DESSTAR, DESXCNRM, DES_EXT, DET-NUM, DET-POSX, DET-POSY, DETBIASG, DETECTOR, DETNAME, DETOSET0, DETOSET1, DETOSET2, DETOSET3, DETPKGID, DETPOS, DETRESET, DETSEC, DETSECA, DETSECB, DETSERNO, DETSIZE, DETTCOFA, DETTCOFB, DETTEADU, DETTEM, DETTEM1, DETTEM2, DETTEM3, DETTEM4, DETTEMOV, DEWAR, DEWARANG, DEWPRESS, DEWTEM, DEWTEM1, DEWTEM2, DEWTEM3, DEWTEM4, DEWTEM5, DEWTEM6, DEWTEMP, DFLAT, DHEFILE, DHEFIRM, DHEINF, DHETEMP, DHSID, DIGAVGS, DILLCOR, DIMM2SEE, DIMMSEE, DISPAXIS, DISPERSR, DODX, DODY, DODZ, DOME, DOMEALT, DOMEAZ, DOMEERR, DOMEFLOR, DOMEHIGH, DOMELOW, DOMETEMP, DOME_AZ, DONUT10E, DONUT10Z, DONUT11E, DONUT11Z, DONUT12E, DONUT12Z, DONUT13E, DONUT13Z, DONUT14E, DONUT14Z, DONUT15E, DONUT15Z, DONUT16E, DONUT16Z, DONUT17E, DONUT17Z, DONUT18E, DONUT18Z, DONUT19E, DONUT19Z, DONUT1E, DONUT1Z, DONUT20E, DONUT20Z, DONUT2E, DONUT2Z, DONUT3E, DONUT3Z, DONUT4E, DONUT4Z, DONUT5E, DONUT5Z, DONUT6E, DONUT6Z, DONUT7E, DONUT7Z, DONUT8E, DONUT8Z, DONUT9E, DONUT9Z, DONUTFN1, DONUTFN2, DONUTFN3, DONUTFN4, DONUTFS1, DONUTFS2, DONUTFS3, DONUTFS4, DOXT, DOYT, DP, DPTHADU, DPTHADU1, DQAREA, DQARFSAT, DQAVFSAT, DQDFCRAT, DQEXPMAX, DQFRNUSD, DQFWHM, DQGLFSAT, DQGLMEAN, DQGLSIG, DQHFAREA, DQHFFRAC, DQHFNOIS, DQHFPDAP, DQHFPDPS, DQHFPDPX, DQHFTIME, DQMASK, DQMFOR, DQMXAREA, DQMXFRAC, DQMXFSAT, DQMXNOIS, DQMXPDAP, DQMXPDPS, DQMXPDPX, DQMXTIME, DQMZ, DQNOIS, DQOBMAXA, DQOBMXA, DQOVJPRB, DQOVMAX, DQOVMEAN, DQOVMIN, DQOVMJJ, DQOVMJJR, DQOVMJL, DQOVMJLR, DQOVMLJ, DQOVMLJR, DQOVMLL, DQOVMLLR, DQOVSIG, DQOVSMEA, DQOVSSIG, DQPDAP, DQPDPS, DQPDPX, DQREJ, DQREJECT, DQSEEMAX, DQSEEMID, DQSEEMIN, DQSEESIG, DQSFGLME, DQSFGLSI, DQSFLCMN, DQSFLCSI, DQSFNUSD, DQSFSNR, DQSFXCEF, DQSFXMEA, DQSFXSIG, DQSFXSLP, DQSFYCEF, DQSFYMEA, DQSFYSIG, DQSFYSLP, DQSKEAD1, DQSKFRAC, DQSKFRC, DQSKY, DQSKYMAX, DQSKYMID, DQSKYMIN, DQSKYSIG, DQSKYXGD, DQSKYYGD, DQWCCCXR, DQWCCCXS, DQWCCCYR, DQWCCCYS, DQWCUMME, DQWCUMMF, DQWCUMMZ, DQWCUMTS, DQWCUPAX, DQWCUPAY, DQWCUPRX, DQWCUPRY, DQWCUPSX, DQWCUPSY, DQWCUPTX, DQWCUPTY, DQZEGLME, DQZEGLSI, DQZENREJ, DQZENUSD, DQZEXCEF, DQZEXMEA, DQZEXSIG, DQZEXSLP, DQZEYCEF, DQZEYMEA, DQZEYSIG, DQZEYSLP, DSEC11, DSEC12, DSEC21, DSEC22, DSTQUEUE, DTACCOUN, DTACQNAM, DTACQUIS, DTCALDAT, DTCOPYRI, DTINSTRU, DTM1_1, DTM2_2, DTNSA001, DTNSA002, DTNSA003, DTNSA004, DTNSA005, DTNSA006, DTNSA007, DTNSA008, DTNSA009, DTNSA010, DTNSA011, DTNSA012, DTNSANAM, DTOBSERV, DTPI, DTPIAFFL, DTPROPID, DTPUBDAT, DTQUEUE, DTSERNO, DTSITE, DTSQ, DTSQUE, DTSQUEUE, DTSTATUS, DTSUBMIT, DTTELESC, DTTITLE, DTTITL_1, DTTITL_2, DTUTC, DTV1, DTV2, DT_RTNAM, DWELL, ECHPRESS, EFFTIME, ELEVAT, ELLIPTIC, ELMAP, EMAVG, EMAVGSQ, EMFOR, EMMNWB, EMMNWOB, EMNETINT, EMNUMSMP, EMPRDSUM, EMTIMCLS, EMTIMOPN, ENDTIME, ENG17B_2, ENG18A_2, ENG18B_2, ENID102, ENID108, ENID110, ENID111, ENID112, ENID115, ENID121, ENID136, ENID138, ENID139, ENID147, ENID150, ENID167, ENID225, ENID226, ENID26, ENID264, ENID31, ENID329, ENID335, ENID51, ENID561, ENID61, ENID618, ENID72, ENID79, ENID85, ENID97, ENVDIR, ENVHUM, ENVPRE, ENVTEI, ENVTEM, ENVWIN, EPOCH, EQUINOX, ERON, ERRORS, EUPSPROD, EUPSVER, EXCLUDED, EXOTYPE, EXP-BTWN, EXPCOADD, EXPDUR, EXPFDIR, EXPFNAME, EXPID, EXPMAP, EXPMFOR, EXPMODE, EXPNUM, EXPREQ, EXPTIME, EXPTYP, EXPVECT, EXT-NUM, EXT-POSX, EXT-POSY, EXTEND, EXTNAME, EXTVER, F1ANGLE, F1DETENT, F1DLL, F1FWHM, F1GAUSS, F1LAMBDA, F1STAT, F1STEPS, F1SWERR, F2ANGLE, F2DETENT, F2DLL, F2FWHM, F2GAUSS, F2LAMBDA, F2STAT, F2STEPS, F2SWERR, F8FOCUS, FACTORY, FADX, FADY, FADZ, FAXT, FAYT, FFINTEN1, FFINTEN2, FFPOWER1, FFPOWER2, FIBCABLE, FIBFOCUS, FIBRNAME, FIILENAM, FILENAME, FILER, FILPOS, FILTEE, FILTER, FILTER1, FILTER2, FILTERS, FILTERSN, FILTID, FILTNAMA, FILTNAMB, FILTNAMC, FILTNAMD, FILTPOS, FILTPOSA, FILTPOSB, FILTPOSC, FILTPOSD, FINPXL, FIRMWARE, FIXCFIL, FIXPIX, FIXPIX02, FIXPIX03, FIXPIX04, FLASCALE, FLATCOR, FLATFIL, FLATINFO, FLATMEDA, FLATMEDB, FLATNORM, FLATVER, FLXSCALE, FOCNEXPO, FOCSHIFT, FOCSTART, FOCSTEP, FOCUS, FOCUS1, FOCUS2, FOCUS3, FOCUS4, FOCUS5, FOCUS6, FOCUS7, FOCUS8, FOCUS9, FOCUSVAL, FOLDPOS, FORMAT, FOWLER, FPA, FPGAFIRM, FPGASER, FPGATAR, FPGAVER, FRAMES, FRAMTIME, FRGFLAG, FRGSCALE, FRINGE, FRINGFIL, FRMSPRD, FRNGFIL, FSAMPLE, FSOBJECT, FWHM, FWHMAV, FWHMP1, FZALGOR, FZDTHRSD, FZQMETHD, FZQVALUE, G-CCDNUM, G-EXPTIM, G-FEEDBK, G-FLXVAR, G-LATENC, G-MAXX, G-MAXY, G-MEANX, G-MEANX2, G-MEANXY, G-MEANY, G-MEANY2, G-MODE, G-SEEING, G-TRANSP, GAIN, GAIN1, GAIN10, GAIN11, GAIN12, GAIN13, GAIN14, GAIN15, GAIN16, GAIN2, GAIN21, GAIN22, GAIN3, GAIN4, GAIN5, GAIN6, GAIN7, GAIN8, GAIN9, GAINA, GAINB, GAINDL, GAINFACT, GAINMEAN, GAINNORM, GCCROTAT, GCOUNT, GEOMMOD, GRATANGL, GRATING, GRATNAME, GRATORD, GRIDPOS, GRT_ANG, GRT_TARG, GSKYHOT, GSKYPHOT, GSKYVAR, GUIDBIN, GUIDBKGD, GUIDBOX, GUIDER, GUIDEXP, GUIDIPK, GUIDITOT, GUIDLOOP, GUIDPRBU, GUIDPRBV, GUIDPRBX, GUIDPRBY, GUIDR, GUIDROI, GUIDSTAR, GUIDVMAG, GUIDXERR, GUIDYERR, GUIERR, GUIFW90, GUIFWMED, GUIKERN, GUIKLEN, GUIKSUM, GUIM190, GUIM1MED, GUINOK, GUINSTAR, GUIRATE, GUIROT, GUIROT90, GUIROTEN, GUISTAR, GUIX50, GUIX90, GUIXMED, GUIXTNCT, GUIY50, GUIY90, GUIYMED, GUIZPRMS, HA, HASTRNG, HDRVER, HDR_REV, HEX, HISTORY, HUMIDITY, ID, IDPFDIR, IDPFNAME, IIDLE, IIDLEI, IIDLETV, ILLCOR, ILLMASK, ILLUMCOR, ILLUMFIL, IMAGEID, IMAGESWV, IMAGETYP, IMCMB001, IMCMB002, IMCMB003, IMCMB004, IMCMB005, IMCMB006, IMCMB007, IMCMB008, IMCMB009, IMCMB010, IMCMB011, IMCMB012, IMCMB013, IMCMB014, IMCMB015, IMCMB016, IMCMB017, IMCMB018, IMCMB019, IMCMB020, IMCMB021, IMCMB022, IMCMB023, IMCMB024, IMCMB025, IMCMB026, IMCMB027, IMCMB028, IMCMB029, IMCMB030, IMCMB031, IMCMB032, IMCMB033, IMCMB034, IMCMB035, IMCMB036, IMCMB037, IMCMB038, IMCMB039, IMCMB040, IMCMB041, IMCMB042, IMCMB043, IMCMB044, IMCMB045, IMCMB046, IMCMB047, IMCMB048, IMCMB049, IMCMB050, IMCMB051, IMCMB052, IMCMB053, IMCMB054, IMCMB055, IMCMB056, IMCMB057, IMCMB058, IMCMB059, IMCMB060, IMCMB061, IMCMB062, IMCMB063, IMCMB064, IMCMB065, IMCMB066, IMCMB067, IMCMB068, IMCMB069, IMCMB070, IMCMB071, IMCMB072, IMCMB073, IMCMB074, IMCMB075, IMCMB076, IMCMB077, IMCMB078, IMCMB079, IMCMB080, IMCMB081, IMCMB082, IMCMB083, IMCMB084, IMCMB085, IMCMB086, IMCMB087, IMCMB088, IMCMB089, IMCMB090, IMCMB091, IMCMB092, IMCMB093, IMCMB094, IMCMB095, IMCMB096, IMCMB097, IMCMB098, IMCMB099, IMCMB100, IMCMB101, IMCMB102, IMCMB103, IMCMB104, IMCMB105, IMCMB106, IMCMB107, IMCMB108, IMCMB109, IMCMB110, IMGCOLS, IMGDIR, IMGFILE, IMGROWS, IMGSWPRG, IMGTYPE, IMNAXIS1, IMNAXIS2, IMNPIX1, IMNPIX2, IMTM1_1, IMTM1_2, IMTM2_1, IMTM2_2, INDP, INH, INHERIT, INITTIME, INSPRESS, INSTANCE, INSTCONF, INSTEM1, INSTEM2, INSTEM3, INSTEM4, INSTEM5, INSTEM6, INSTEM7, INSTEM8, INSTEM9, INSTID, INSTRUM, INSTRUME, INSTSWV, INT, INTERPF, INTTEMP, IODCELL, IPA, IRAF-TLM, IRFILT, IRFLTID, ISLEW, ISLEWI, ISLEWTV, ITL-HEAD, JD, JPG-EXT, JULIAN, KSCAMFOC, KSCAMZRO, KSCOLFOC, KSCOLZRO, KSDPOS, KSDWPOS, KSFILCMD, KSFW1POS, KSFW2POS, KSSPOS, KSSWPOS, KSTEMP1, KSTEMP2, KSTEMP3, KSTEMP4, LABSYS, LAGER_20, LAMPSTAT, LAMP_AR, LAMP_BUL, LAMP_CU, LAMP_DOM, LAMP_DPE, LAMP_FE, LAMP_HGA, LAMP_NE, LAMP_QPE, LAMP_QUA, LARGON, LATITUDE, LATPOLE, LAUX, LENSTEMP, LHGAR, LHOLLOW, LINCFIL, LINCOEFF, LINEAR, LINIMAGE, LKYPTON, LNEON, LOCTIME, LONGITUD, LONPOLE, LQUARTZ, LSKYHOT, LSKYPHOT, LSKYPOW, LSKYVAR, LST, LST-OBS, LSTHDR, LTM1_1, LTM1_2, LTM2_1, LTM2_2, LTV1, LTV2, LUTVER, LWTRTEMP, LXENON, MAGZERO, MAGZERO1, MAGZERR, MAGZERR1, MAGZFLT, MAGZNAV, MAGZNAV1, MAGZP, MAGZPT, MAGZREF, MAGZSIG, MAGZSIG1, MAGZUNC, MAGZUNC1, MAIRTEMP, MANIFEST, MASK, MASKS, MASS2, MAXEXP, MCBCLOCK, MCBCNTRL, MCBMSG, MCBPIX, MCBSTAT, MCELLDP, MCELLH, MCELLT, MDCSCALE, MDCSKY2, MEXPTIME, MIMETYPE, MJD-END, MJD-OBS, MJDEND, MJDHDR, MJDSTART, MODEDIR, MODEFILE, MOONANGL, MOPDATE, MOPSEQ, MOSSIZE, MOT, MOTION, MOUNT_AZ, MOUNT_EL, MSEPEDF, MSEPEDF1, MSEREADY, MSURTEMP, MULTIEXP, MULTIFOC, MULTIID, MULTIROW, MULTITOT, MZERO1, MZERO2, MZERO3, MZERO4, MZNAV1, MZNAV2, MZNAV3, MZNAV4, N-AMPS-X, N-AMPS-Y, N-DET-X, N-DET-Y, NAMPS, NAMPSXY, NAMPSYX, NAXIS, NAXIS1, NAXIS2, NAXIS3, NBLEED, NCCDS, NCOADD, NCOADDS, NCOL, NCOMBINE, NDETS, NDONUTS, NECKTEMP, NEXTEND, NFC1FILT, NFC1GDR, NFC1POS, NFC2FILT, NFC2GDR, NFC2POS, NFDETTMP, NFECPOS, NFFILPOS, NFFW1POS, NFFW2POS, NFOSSTMP, NIGHTID, NIMAGES, NIMGS, NITE, NOCAOE, NOCBIAS, NOCCAL, NOCCBIN, NOCCOADD, NOCCSN, NOCDDOF, NOCDEVIC, NOCDFIL, NOCDGAVG, NOCDHS, NOCDITER, NOCDPAT, NOCDPOS, NOCDREP, NOCDROF, NOCFITER, NOCFOCUS, NOCFSMPL, NOCFSN, NOCFSTEP, NOCGAIN, NOCGID, NOCGPXPS, NOCID, NOCLAMP, NOCMDOF, NOCMITER, NOCMPAT, NOCMPOS, NOCMREP, NOCMROF, NOCNAME, NOCNO, NOCNPOS, NOCNUM, NOCOAE, NOCODEC, NOCOFFG, NOCOFFT, NOCORA, NOCPIE, NOCPOST, NOCPROP, NOCRBIN, NOCROI, NOCROICS, NOCROICZ, NOCROIPT, NOCROIRS, NOCROIRZ, NOCRSD, NOCSCR, NOCSKY, NOCSLEW, NOCSYS, NOCTIM, NOCTOT, NOCTYP, NOCUTC, NOHS, NOTE, NOTES, NPHTMTCH, NROW, NRSPGRP, NSACMB00, NSACMB01, NSACMB02, NSACMB03, NSACMB04, NSACMB05, NSACMB06, NSACMB07, NSACMB08, NSACMB09, NSACMB10, NSACMB11, NSACMB12, NSACMB13, NSACMB14, NSACMB15, NSACMB16, NSACMB17, NSACMB18, NSACMB19, NSACMB20, NSACMB21, NSACMB22, NSACMB23, NSACMB24, NSACMB25, NSACMB26, NSACMB27, NSACMB28, NSACMB29, NSACMB30, NSACMB31, NSACMB32, NSACMB33, NSACMB34, NSACMB35, NSACMB36, NSACMB37, NSACMB38, NSACMB39, NSACMB40, NSACMB41, NSACMB42, NSACMB43, NSACMB44, NSACMB45, NSACMB46, NSACMB47, NSACMB48, NSACMB49, NSACMB50, NSACMB51, NSACMB52, NSACMB53, NSACMB54, NSACMB55, NSACMB56, NSACMB57, NSACMB58, NSACMB59, NSACMB60, NSACMB61, NSACMB62, NSAMPLES, NSAMPSIG, NSATPIX, NSI, NSIFS, NUM, NUM-AMPX, NUM-AMPY, NUM-DETX, NUM-DETY, N_PARAM, N_PRM0, N_PRM1, N_PRM2, N_PRM3, N_PRM4, N_PRM5, N_PRM6, OBJBPM, OBJDEC, OBJECT, OBJEPOCH, OBJMASK, OBJRA, OBJTYPE, OBS-ELEV, OBS-LAT, OBS-LONG, OBSDEC, OBSERVAT, OBSERVER, OBSID, OBSMODE, OBSRA, OBSTIME, OBSTYPE, ODATEOBS, OEXPTIME, OFFSDECI, OFFSEDEC, OFFSERA, OFFSRAI, OPENDATE, OPENSHUT, OPENTIME, OPERATOR, ORIENTNE, ORIGFILE, ORIGIN, ORIGSEC, OSIERR, OTENABLE, OTEXTENT, OTSTRTGY, OUTDP, OUTH, OUTHUM, OUTPRESS, OUTPUTS, OUTSIDE, OUTT, OUTTEMP, OVERSCAN, OVRSCAN1, OVRSCAN2, OVSCNMTD, OVSNMEAN, OWNER, PANID, PARALL, PARAM0, PARAM1, PARAM10, PARAM11, PARAM12, PARAM13, PARAM14, PARAM15, PARAM16, PARAM17, PARAM18, PARAM19, PARAM2, PARAM20, PARAM21, PARAM22, PARAM23, PARAM24, PARAM25, PARAM26, PARAM27, PARAM28, PARAM29, PARAM3, PARAM30, PARAM31, PARAM32, PARAM33, PARAM34, PARAM35, PARAM36, PARAM37, PARAM38, PARAM39, PARAM4, PARAM40, PARAM41, PARAM42, PARAM43, PARAM44, PARAM45, PARAM46, PARAM47, PARAM48, PARAM49, PARAM5, PARAM50, PARAM51, PARAM52, PARAM53, PARAM54, PARAM55, PARAM56, PARAM57, PARAM58, PARAM59, PARAM6, PARAM60, PARAM61, PARAM62, PARAM63, PARAM64, PARAM65, PARAM66, PARAM67, PARAM68, PARAM69, PARAM7, PARAM70, PARAM71, PARAM72, PARAM73, PARAM74, PARAM75, PARAM76, PARAM77, PARAM78, PARAM79, PARAM8, PARAM9, PARANGLE, PCIFILE, PCOUNT, PG0_0, PG0_1, PG0_10, PG0_11, PG0_12, PG0_13, PG0_14, PG0_15, PG0_16, PG0_17, PG0_18, PG0_19, PG0_2, PG0_20, PG0_21, PG0_22, PG0_23, PG0_24, PG0_25, PG0_26, PG0_27, PG0_28, PG0_29, PG0_3, PG0_30, PG0_31, PG0_32, PG0_33, PG0_34, PG0_35, PG0_36, PG0_37, PG0_38, PG0_39, PG0_4, PG0_40, PG0_41, PG0_42, PG0_43, PG0_44, PG0_45, PG0_46, PG0_47, PG0_48, PG0_49, PG0_5, PG0_50, PG0_51, PG0_52, PG0_53, PG0_54, PG0_55, PG0_56, PG0_57, PG0_58, PG0_6, PG0_7, PG0_8, PG0_9, PG1_0, PG1_1, PG1_10, PG1_11, PG1_12, PG1_13, PG1_14, PG1_15, PG1_16, PG1_17, PG1_18, PG1_19, PG1_2, PG1_20, PG1_21, PG1_22, PG1_23, PG1_24, PG1_25, PG1_26, PG1_27, PG1_28, PG1_29, PG1_3, PG1_30, PG1_31, PG1_32, PG1_33, PG1_34, PG1_35, PG1_4, PG1_5, PG1_6, PG1_7, PG1_8, PG1_9, PG2_0, PG2_1, PG2_10, PG2_11, PG2_12, PG2_13, PG2_14, PG2_15, PG2_16, PG2_17, PG2_18, PG2_19, PG2_2, PG2_20, PG2_21, PG2_22, PG2_23, PG2_24, PG2_3, PG2_4, PG2_5, PG2_6, PG2_7, PG2_8, PG2_9, PG3_0, PG3_1, PG3_10, PG3_11, PG3_12, PG3_13, PG3_14, PG3_15, PG3_16, PG3_17, PG3_2, PG3_3, PG3_4, PG3_5, PG3_6, PG3_7, PG3_8, PG3_9, PG4_0, PG4_1, PG4_10, PG4_11, PG4_12, PG4_13, PG4_14, PG4_15, PG4_16, PG4_17, PG4_18, PG4_19, PG4_2, PG4_20, PG4_21, PG4_22, PG4_23, PG4_24, PG4_25, PG4_26, PG4_27, PG4_28, PG4_29, PG4_3, PG4_30, PG4_31, PG4_32, PG4_33, PG4_34, PG4_35, PG4_36, PG4_37, PG4_38, PG4_39, PG4_4, PG4_40, PG4_41, PG4_42, PG4_43, PG4_44, PG4_45, PG4_46, PG4_47, PG4_48, PG4_49, PG4_5, PG4_50, PG4_51, PG4_52, PG4_53, PG4_54, PG4_55, PG4_56, PG4_57, PG4_58, PG4_6, PG4_7, PG4_8, PG4_9, PG5_0, PG5_1, PG5_10, PG5_11, PG5_12, PG5_13, PG5_14, PG5_15, PG5_16, PG5_17, PG5_18, PG5_19, PG5_2, PG5_20, PG5_21, PG5_3, PG5_4, PG5_5, PG5_6, PG5_7, PG5_8, PG5_9, PG6_0, PGRFLAG, PGRSCALE, PHOTAPD, PHOTBAND, PHOTBW, PHOTCAL, PHOTCLAM, PHOTCOEF, PHOTDPTH, PHOTFILT, PHOTFLAG, PHOTFWHM, PHOTINDX, PHOTREF, PHTDPTH1, PICOL0, PIPELINE, PIROW0, PIXCNT1, PIXCNT2, PIXCNT3, PIXCNT4, PIXITIME, PIXRATE, PIXSCAL1, PIXSCAL2, PIXSCALE, PIXSIZE1, PIXSIZE2, PIXTIME, PLARVER, PLCMB001, PLCMB002, PLCMB003, PLCMB004, PLCMB005, PLCMB006, PLCMB007, PLCMB008, PLCMB009, PLCMB010, PLCMB011, PLCMB012, PLCMB013, PLCMB014, PLCMB015, PLCMB016, PLCMB017, PLCMB018, PLCMB019, PLCMB020, PLCMB021, PLCMB022, PLCMB023, PLCMB024, PLCMB025, PLCMB026, PLCMB027, PLCMB028, PLCMB029, PLCMB030, PLCMB031, PLCMB032, PLCMB033, PLCMB034, PLCMB035, PLCMB036, PLCMB037, PLCMB038, PLCMB039, PLCMB040, PLCMB041, PLCMB042, PLCMB043, PLCMB044, PLCMB045, PLCMB046, PLCMB047, PLCMB048, PLCMB049, PLCMB050, PLCMB051, PLCMB052, PLCMB053, PLCMB054, PLCMB055, PLCMB056, PLCMB057, PLCMB058, PLCMB059, PLCMB060, PLCMB061, PLCMB062, PLDNAME, PLDSID, PLEXTMOD, PLFNAME, PLOFNAME, PLPROCID, PLPROPID, PLQNAME, PLQUEUE, PLTILEID, PLTSCL, PLVER, PME-TEMP, PMHV, PMN-TEMP, PMOSTEMP, PMS-TEMP, PMW-TEMP, PONTIME, POSANGLE, POSTSECA, POSTSECB, POWSTAT, PREFLASH, PREPTIME, PRESCAN1, PRESCAN2, PRESECA, PRESECB, PRESSURE, PROCID, PROCID01, PROCID02, PROCMOD, PROCTYPA, PROCTYPE, PRODTYPE, PROGRAM, PROJ, PROPID, PROPOSAL, PROPOSER, PSCALET1, PSCALET2, PSFFW50, PSFFWMED, PSFM250, PSFM2MED, PSFQ250, PSFQ2MED, PSFT250, PSFT2MED, PSFVER, PSI, PUPFIL, PUPIL, PUPILAMP, PUPILCOR, PUPILMAX, PUPILPAR, PUPILSKY, PUPILSUM, PUPLFIL, PUPMAX, PV1_0, PV1_1, PV1_10, PV1_12, PV1_13, PV1_14, PV1_15, PV1_16, PV1_2, PV1_3, PV1_4, PV1_5, PV1_6, PV1_7, PV1_8, PV1_9, PV2_0, PV2_1, PV2_10, PV2_12, PV2_13, PV2_14, PV2_15, PV2_16, PV2_2, PV2_3, PV2_4, PV2_5, PV2_6, PV2_7, PV2_8, PV2_9, PXLCOLS, PXLROWS, QUALINFO, QUALITY, RA, RA1, RAC1, RAC2, RAC3, RAC4, RACMAX, RACMIN, RADECEQ, RADECSYS, RADESYS, RADIFF, RADIUS, RADSTD, RAINDEX, RAINST, RAOFF, RAOFFST, RAPANGL, RASTRNG, RAWBCKLV, RAWFILE, RAWPXL, RAZERO, RA_CENT, RDNOIS1, RDNOIS10, RDNOIS11, RDNOIS12, RDNOIS13, RDNOIS14, RDNOIS15, RDNOIS16, RDNOIS2, RDNOIS3, RDNOIS4, RDNOIS5, RDNOIS6, RDNOIS7, RDNOIS8, RDNOIS9, RDNOISE, RDNOISE1, RDNOISE2, RDNOISE3, RDNOISE4, RDNOISEA, RDNOISEB, READMODE, READTIME, READ_SPD, RECID, RECNO, REF-PIX1, REF-PIX2, REFCOLS, REFDEC, REFFLAT, REFRA, REFSPEC1, REJECT, REMRINGS, REMSTRIP, REQ13B_2, REQ13B_H, REQ14B_K, REQ15B_S, REQ16A_S, REQ18B_B, REQNUM, RESAMPT1, RESAMPT2, RESBCKMT, RESET, RESETDL, REXPTIME, RMCALDAT, RMCOUNT, RMPROPID, ROI, ROIREQ, RON, RON11, RON12, RON21, RON22, ROT, ROTANG, ROTANGLE, ROTATOR, ROTOFF, ROTPORT, RSPDEC, RSPGRP, RSPORD, RSPRA, RSPTGRP, SAIRMASS, SAMPLED, SATFRAC, SATPROC, SATURATA, SATURATB, SATURATE, SB_ACCOU, SB_DIR1, SB_DIR2, SB_DIR3, SB_HOST, SB_ID, SB_LOCAL, SB_NAME, SB_RECNO, SB_RTNAM, SB_SITE, SCALMEAN, SCAMPCHI, SCAMPFLG, SCAMPNUM, SCAMPREF, SCSEC11, SCSEC12, SCSEC21, SCSEC22, SECZ, SEEING, SEEING1, SEEINGP, SEEINGP1, SEESIGA, SEESIGP, SEETIME, SEQID, SEQNUM, SEQTOT, SEQTYPE, SEXMGZPT, SFLATCOR, SFLATFIL, SFT, SFTFLAG, SFTMEAN1, SHIELD, SHUTCUTC, SHUTOUTC, SHUTSTAT, SH_ACCEL, SH_ARMPN, SH_DIODE, SH_MNDLY, SH_POS, SH_STDLY, SH_TEM, SIDEREAL, SIFERR, SIG, SIGIM, SIGMEAN, SIGXGRAD, SIGYGRAD, SIMPLE, SISPIVER, SITEELEV, SITELAT, SITELONG, SKY, SKYADU, SKYADU1, SKYBG, SKYBG1, SKYBRIAV, SKYBRITE, SKYFLAT, SKYFSUB, SKYIM, SKYMAG, SKYMAG1, SKYMEAN, SKYMODE, SKYNOIS1, SKYNOISE, SKYORDER, SKYPARS, SKYPC00, SKYPC01, SKYPC02, SKYPC03, SKYREFAV, SKYSBFIL, SKYSIGMA, SKYSTAT, SKYSUB, SKYSUB00, SKYSUB01, SKYSUB10, SKYSUBP, SKYUPDAT, SKYVARA, SKYVARB, SKYXGRAD, SKYYGRAD, SLFIB1, SLFIB10, SLFIB100, SLFIB101, SLFIB11, SLFIB12, SLFIB13, SLFIB14, SLFIB15, SLFIB16, SLFIB17, SLFIB18, SLFIB19, SLFIB2, SLFIB20, SLFIB21, SLFIB22, SLFIB23, SLFIB24, SLFIB25, SLFIB26, SLFIB27, SLFIB28, SLFIB29, SLFIB3, SLFIB30, SLFIB31, SLFIB32, SLFIB33, SLFIB34, SLFIB35, SLFIB36, SLFIB37, SLFIB38, SLFIB39, SLFIB4, SLFIB40, SLFIB41, SLFIB42, SLFIB43, SLFIB44, SLFIB45, SLFIB46, SLFIB47, SLFIB48, SLFIB49, SLFIB5, SLFIB50, SLFIB51, SLFIB52, SLFIB53, SLFIB54, SLFIB55, SLFIB56, SLFIB57, SLFIB58, SLFIB59, SLFIB6, SLFIB60, SLFIB61, SLFIB62, SLFIB63, SLFIB64, SLFIB65, SLFIB66, SLFIB67, SLFIB68, SLFIB69, SLFIB7, SLFIB70, SLFIB71, SLFIB72, SLFIB73, SLFIB74, SLFIB75, SLFIB76, SLFIB77, SLFIB78, SLFIB79, SLFIB8, SLFIB80, SLFIB81, SLFIB82, SLFIB83, SLFIB84, SLFIB85, SLFIB86, SLFIB87, SLFIB88, SLFIB89, SLFIB9, SLFIB90, SLFIB91, SLFIB92, SLFIB93, SLFIB94, SLFIB95, SLFIB96, SLFIB97, SLFIB98, SLFIB99, SLIT, SLITWHL, SLOT00, SLOT01, SLOT02, SLOT03, SLOT04, SLOT05, SLOT07, SOFTAUTH, SOFTDATE, SOFTINST, SOFTNAME, SOFTVERS, SPEEDMOD, SPKSCALE, SPMOUNT, SPTFOC, SPTFOCU, SSUBINFO, ST, STARFIL, STARFLAT, STARMASK, STASCALE, STAZERO, STKBPM, STKSCALE, STKZERO, STSTRNG, SURTIME, SURVEYID, SVMOUNT, SYS-NAME, TARGDEC, TARGETNA, TARGETNR, TARGRA, TCAMERA, TCLDPLT, TCLLMAT, TCPGDR, TCPTRACK, TCSLIMIT, TCSLINK, TDECPANG, TDETECT, TELALT, TELAZ, TELDEC, TELEL, TELEQUIN, TELESCOP, TELFOCUS, TELMJD, TELMOVE, TELOP, TELRA, TELRADEC, TELSTAT, TELTEMP, TELUTC, TEL_DEC, TEMIODIN, TEMPCOUD, TEMPENCL, TEMPF1, TEMPF2, TEMPGRAT, TEMPINST, TEMPS0, TEMPS1, TEMPS2, TEMPS3, TEMPS4, TEMPS5, TEMPS6, TEMPS7, TEMPSTRU, TEMPTCEN, TEMPTLOW, TEXPTIME, THRES, TILEID, TILEPASS, TILING, TILT1, TILT2, TILT3, TIME, TIME-END, TIME-OBS, TIMESYS, TIMEZONE, TIMFILE, TITLE, TLOTRUSS, TMCRATE, TMHTRPOW, TMHTRRNG, TMMAXAMP, TMMAXPOW, TMOTRPLT, TMPERROR, TMPID_D, TMPID_I, TMPID_P, TMSETPT, TMSTATE, TMSWERR, TMTOLER, TOBENCH, TOO15A_2, TOO15B_2, TOO16A_2, TOO17B_2, TOO18A_2, TOO18B_2, TOO19A_2, TOTTIME, TRACK, TRACKING, TRAPANGL, TRDSHLD, TRIM, TRIMSEC, TRIMSECA, TRIMSECB, TRREJECT, TRUSS, TSEC11, TSEC12, TSEC21, TSEC22, TSEP, TSP_NOW, TSP_RD00, TSP_SHCL, TSP_SHOP, TUPTRUSS, TURTANGL, TV1FOC, TV2FOC, TVIRGO, TYPE, UCOMMENT, UDOMEDP, UDOMEH, UDOMET, UNIQNAME, UNITNAME, UNITPRES, UNITTEMP, UPTRTEMP, USI, UT, UTC, UTC-OBS, UTE-TEMP, UTN-TEMP, UTS-TEMP, UTSHUT, UTW-TEMP, VALIDA, VALIDB, VBGATE, VCAS, VCASI, VCASTV, VDETCMTV, VDETCOM, VDETCOMI, VDRAIN, VDSUB, VHIROWEN, VHIROWI, VHIROWV, VHIRSTI, VHIRSTV, VIDMODE, VLORESET, VLOROWEN, VLOROWI, VLOROWTV, VLORSTI, VLORSTTV, VNOUT, VNOUTI, VNOUTTV, VNUC, VNUCI, VNUCTV, VOFF, VPD, VPDI, VPDTV, VPUC, VPUCI, VPUCTV, VRESET, VRSTUC, VRSTUCI, VRSTUCTV, VSUB, VUNKNWNV, VUNKWNI, WAT0_001, WAT1_001, WAT1_002, WAT1_003, WAT1_004, WAT1_005, WAT1_006, WAT1_007, WAT1_008, WAT1_009, WAT1_010, WAT2_001, WAT2_002, WAT2_003, WAT2_004, WAT2_005, WAT2_006, WAT2_007, WAT2_008, WAT2_009, WAT2_010, WAVELEN, WAVMODE, WCSASTRM, WCSAXES, WCSCAL, WCSDDEC, WCSDIM, WCSDRA, WCSRMS, WCSRMS1, WCSXRMS, WCSYRMS, WDATE, WDIR, WEATDATE, WEATHER0, WEATHER1, WEATHER2, WEATHER3, WEATIME, WINDDIR, WINDIR, WINDSP, WINDSPD, WMETHOD, WNDDIR, WNDSPEED, WOB, WSEEING, WSEEING2, WSPEED, WTIM, WTMAP, WTOT, WTOT2, WTRNSNS, WTRNSNS2, XSHIFT, XTALKBPM, XTALKCOR, XTALKFIL, XTENSION, YSHIFT, ZD, ZDITHER0, ZERO, ZEROCOR, ZP, ZPDELDEC, ZPDELRA, ZPTCOR, _timerec, archive_filename, caldat, date_obs_max, date_obs_min, dec_max, dec_min, depth, exposure, filesize, hduidx, ifilter, instrument, md5sum, obs_mode, obs_type, original_filename, proc_type, prod_type, proposal, ra_max, ra_min, release_date, seeing, site, survey, telescope, updated, url. You can always retrieve these using aux_file_fields or aux_hdu_fields.\n"
     ]
    }
   ],
   "source": [
    "jj={\n",
    "    \"outfields\" : [\n",
    "        \"baz\",  # unknown field\n",
    "        \"foo\",  # unknown field\n",
    "        \"ifilter\",\n",
    "        \"archive_filename\"\n",
    "    ],\n",
    "    \"search\" : [\n",
    "        [\"ifilter\", \"GG395 kGG395\"],\n",
    "    ]\n",
    "}\n",
    "df = None # Pandas DataFrame\n",
    "apiurl=f'{adsurl}/fasearch/?limit=9'\n",
    "response = requests.post(apiurl,json=jj)\n",
    "\n",
    "if response.status_code == 200:\n",
    "    df = pd.read_json(json.dumps(response.json()))\n",
    "else:\n",
    "    print(response.json()['errorMessage'])\n",
    "    #print(response.json()['traceback'])  # for API developer use\n",
    "df\n",
    "\n"
   ]
  },
  {
   "cell_type": "markdown",
   "metadata": {},
   "source": [
    "# HERE !!! <a id=\"here\">"
   ]
  },
  {
   "cell_type": "code",
   "execution_count": 21,
   "metadata": {},
   "outputs": [
    {
     "name": "stdout",
     "output_type": "stream",
     "text": [
      "Elapsed seconds=14.564721822738647\n"
     ]
    },
    {
     "data": {
      "text/plain": [
       "'2020-01-28 09:50:47.111643'"
      ]
     },
     "execution_count": 21,
     "metadata": {},
     "output_type": "execute_result"
    }
   ],
   "source": [
    "import datetime\n",
    "elapsed = toc()\n",
    "print(f'Elapsed seconds={elapsed}')\n",
    "str(datetime.datetime.now())"
   ]
  },
  {
   "cell_type": "markdown",
   "metadata": {},
   "source": [
    "# Resources and references <a id=\"doc\" />\n",
    "- [dal API](http://marsnat2.pat.dm.noao.edu:8000/api-docs/#/dal)\n",
    "We should look at fancy annotation to make this better. It would be better for programmers to have very clear documentation of the types and purposes of all parameters that can be passed to each service\n",
    "\n",
    "- [Data  Models](https://marsnat1.stage.dm.noao.edu/admin/doc/models/)\n",
    "\n",
    "- [NOAO Data Handbook](http://ast.noao.edu/sites/default/files/NOAO_DHB_v2.2.pdf) version 2.2, May 2015"
   ]
  },
  {
   "cell_type": "markdown",
   "metadata": {},
   "source": [
    "# Glossary <a id=\"glos\">\n",
    "    \n",
    "- Proc_type: Processing Type; pipeline process used to generate reduced FITS from raw FITS\n",
    "- Prod_type\n",
    "- Obs_type\n",
    "- Obs_mode\n",
    "    \n",
    "Term     | Definition\n",
    "---------|----------\n",
    "ProcType | Processing Type; pipeline process used to generate reduced FITS from raw FITS"
   ]
  },
  {
   "cell_type": "code",
   "execution_count": null,
   "metadata": {},
   "outputs": [],
   "source": []
  }
 ],
 "metadata": {
  "kernelspec": {
   "display_name": "Python 3",
   "language": "python",
   "name": "python3"
  },
  "language_info": {
   "codemirror_mode": {
    "name": "ipython",
    "version": 3
   },
   "file_extension": ".py",
   "mimetype": "text/x-python",
   "name": "python",
   "nbconvert_exporter": "python",
   "pygments_lexer": "ipython3",
   "version": "3.6.9"
  }
 },
 "nbformat": 4,
 "nbformat_minor": 2
}
