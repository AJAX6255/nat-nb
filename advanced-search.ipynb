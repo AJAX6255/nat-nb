{
 "cells": [
  {
   "cell_type": "markdown",
   "metadata": {},
   "source": [
    "[go here](#here)"
   ]
  },
  {
   "cell_type": "markdown",
   "metadata": {},
   "source": [
    "# [NSF's OIR Lab](https://nationalastro.org/) Astro Archive: Advanced Search\n",
    "\n",
    "[Community Science and Data Center](https://nationalastro.org/programs/csdc/)"
   ]
  },
  {
   "cell_type": "markdown",
   "metadata": {},
   "source": [
    "### Table Of Contents:\n",
    "* [Goals & notebook summary](#goals)\n",
    "* [Summary of this API (list of web services)](#summary)\n",
    "* [Imports and setup](#init)\n",
    "* [Details](#details); Example of every service. Special cases. Error Handling\n",
    "  * [Get Core File fields](#core_file)\n",
    "  * [Get Aux File fields](#aux_file)\n",
    "  * [Search Files](#file_search)\n",
    "      \n",
    "  * [Get Core HDU fields](#core_hdu)\n",
    "  * [Get Aux HDU fields](#aux_hdu)\n",
    "  * [Search HDUs](#hdu_search)\n",
    "  \n",
    "* [What if something goes wrong](#errors) (errors)\n",
    "\n",
    "* [Resources and references](#doc)\n",
    "* [Glossary](#glos)\n",
    "\n",
    "## Still needed\n",
    "- define our special terms (ADD MORE), keep glossary out of the way at end\n",
    "  + Proctype\n",
    "- search services should say: No Results, Searched N (File or HDU) records of total available of N Files/HDUs\n",
    "- provide convenience function in notebook for pretty Error display\n",
    "- Examples of all output formats (json,xml,csv) for each web-service type that sports \"format\"\n",
    "- display file found in search (see sia.ipynb)\n",
    "- **Services to get the values of each categorical**: proc_type, prod_type, obs_type, obs_mode\n",
    "- Doc all \"modifiers\" used in search spec that say how to match value to field (eg. val_overlap)"
   ]
  },
  {
   "cell_type": "markdown",
   "metadata": {},
   "source": [
    "<a class=\"anchor\" id=\"goals\"></a>\n",
    "# Goals\n",
    "Instructions and examples for using Advanced Search API for accessing OIRLab Archive metadata.\n",
    "\n",
    "# Notebook Summary\n",
    "We show you how to use the API to search the Archive for FITS files by **any** field in the FITS headers."
   ]
  },
  {
   "cell_type": "markdown",
   "metadata": {},
   "source": [
    "#### Add \"about the current archive\"; give various stats (number of files, hdus in archive; period of time covered; most recently added; list of telescopes/insruments!!!"
   ]
  },
  {
   "cell_type": "markdown",
   "metadata": {},
   "source": [
    "## Summary of this API (list of web services) <a id=\"summary\">\n",
    "For full list, see: [http://marsnat2.pat.dm.noao.edu:8000/api-docs/#/api](http://marsnat2.pat.dm.noao.edu:8000/api-docs/#/api)\n",
    "\n",
    "1. [GET] `{ADS}/aux_file_fields/{instrument}/{proctype}/`\n",
    "   Get fieldnames available from FitsFiles.\n",
    "3. [GET] `{ADS}/aux_hdu_fields/{instrument}/{proctype}/`\n",
    "   Get fieldnames available from HDUs.\n",
    "5. [GET] `{ADS}/core_file_fields/`\n",
    "7. [GET] `{ADS}/core_hdu_fields/`\n",
    "9. [POST] `{ADS}/fasearch/`\n",
    "11. [POST] `{ADS}/hasearch/`\n",
    "\n",
    "Services of form `core_<type>_fields` (where <type> is one of: \"file\",\"hdu\") return the list of optimized fields you can search against. \n",
    "\n",
    "Services of form `aux_<type>_fields` (where <type> is one of: \"file\",\"hdu\") are used to return ALL of the FITS header field names that are not alreay included in the \"core\" lists.  These services require a specific Instrument and Proc_type [define!!!] be given. These fields have no search optimizations so using any of these will slow down your searches.\n",
    "\n",
    "Services of form `fasearch` or `hasearch` (File/Hdu Advanced SEARCH) perform a search against full FITS files. They are accessed via a  HTTP POST (link) that takes a search specification in its JSON payload.\n"
   ]
  },
  {
   "cell_type": "markdown",
   "metadata": {},
   "source": [
    "## Imports and setup <a id=\"init\">\n",
    "Some of this is just for presentation in the juypter notebook.  You may not need it all."
   ]
  },
  {
   "cell_type": "code",
   "execution_count": 1,
   "metadata": {},
   "outputs": [
    {
     "name": "stdout",
     "output_type": "stream",
     "text": [
      "Using Python version: 3.6.8 (default, Aug 10 2019, 06:52:10) \n",
      "[GCC 4.4.7 20120313 (Red Hat 4.4.7-23)]\n"
     ]
    }
   ],
   "source": [
    "import sys\n",
    "import pandas as pd\n",
    "import matplotlib.pyplot as plt\n",
    "import matplotlib\n",
    "import numpy as np\n",
    "import astropy.io.fits as pyfits\n",
    "import astropy.utils as autils\n",
    "import requests\n",
    "import json\n",
    "from pprint import pprint as pp  # pretty print\n",
    "\n",
    "print(f'Using Python version: {sys.version}')"
   ]
  },
  {
   "cell_type": "code",
   "execution_count": 2,
   "metadata": {},
   "outputs": [],
   "source": [
    "# DEV config\n",
    "natroot = 'http://localhost:8020' # DEV (images contain one pixel or JSON)"
   ]
  },
  {
   "cell_type": "code",
   "execution_count": 3,
   "metadata": {},
   "outputs": [],
   "source": [
    "# PAT config\n",
    "natroot = 'https://marsnat2.pat.dm.noao.edu' "
   ]
  },
  {
   "cell_type": "code",
   "execution_count": 4,
   "metadata": {},
   "outputs": [],
   "source": [
    "# STAGE config\n",
    "natroot = 'https://marsnat1.stage.dm.noao.edu' "
   ]
  },
  {
   "cell_type": "code",
   "execution_count": 5,
   "metadata": {},
   "outputs": [
    {
     "data": {
      "text/plain": [
       "'https://marsnat1.stage.dm.noao.edu/api/adv_search'"
      ]
     },
     "execution_count": 5,
     "metadata": {},
     "output_type": "execute_result"
    }
   ],
   "source": [
    "adsurl = f'{natroot}/api/adv_search'\n",
    "adsurl"
   ]
  },
  {
   "cell_type": "markdown",
   "metadata": {},
   "source": [
    "## Details <a id=\"details\">\n",
    "    \n",
    "* [Get Core File fields](#core_file)\n",
    "* [Get Aux File fields](#aux_file)\n",
    "* [Search Files](#file_search)\n",
    "  \n",
    "* [Get Core HDU fields](#core_hdu)\n",
    "* [Get Aux HDU fields](#aux_hdu)\n",
    "* [Search HDUs](#hdu_search)\n",
    "  \n",
    "* [What if something goes wrong](#errors) (errors)\n",
    "\n",
    "Notes: \n",
    "- `File` fields and searches refer the Primary HDU of a FITS file. (the field names may be a little different from how they appear in the FITS header since not all FITS headers use the same keywords for the same thing.)  \n",
    "\n",
    "- `HDU` fields and searches refer to non-primary HDUs of a FITS file. There are up to 70 times more HDU records as File records (depending on the source of the FITS file).\n",
    "\n",
    "- All of these web services accept a `format` parameter in the HTTP query string.  This defines the format of the output. I can be one of: json (the default), csv, xml\n",
    "\n",
    "- For the sake readability in this notebook, output is often stored in a Pandas DataFrame for display.\n",
    "\n",
    "- Searches in this notebook use a `limit` parameter to reduce the number of records returned.\n",
    "\n",
    "- Strings accept search modifiers: _exact, iexact, startswith, istartswith, endswith, iendswith, contains, icontains, regex, iregex_ (as described in [Django QuerySet API](https://docs.djangoproject.com/en/2.2/ref/models/querysets/)"
   ]
  },
  {
   "cell_type": "markdown",
   "metadata": {},
   "source": [
    "## Get Core and Aux fields for Files and HDUs\n",
    "Retrieve list of fields (with data-types) to use later in specifying which fields to filter and which ones to return in the filtered results.\n",
    "### Get Core File field names and types <a id=\"core_file\" />\n",
    "These occur once per FITS file and are optimized for fast search. Output is field-name, data-type pairs.  The data-types are intended to be used with Pandas. Note that \"catagory\" types refer to relatively small sets of acceptable values.  These sets have values added to them occasionally."
   ]
  },
  {
   "cell_type": "code",
   "execution_count": 6,
   "metadata": {},
   "outputs": [
    {
     "data": {
      "text/plain": [
       "{'archive_filename': 'str',\n",
       " 'caldat': 'datetime64',\n",
       " 'date_obs_max': 'datetime64',\n",
       " 'date_obs_min': 'datetime64',\n",
       " 'dec_max': 'np.float64',\n",
       " 'dec_min': 'np.float64',\n",
       " 'depth': 'np.float64',\n",
       " 'exposure': 'np.float64',\n",
       " 'filesize': 'np.int64',\n",
       " 'ifilter': 'category',\n",
       " 'instrument': 'category',\n",
       " 'md5sum': 'str',\n",
       " 'obs_mode': 'category',\n",
       " 'obs_type': 'category',\n",
       " 'original_filename': 'str',\n",
       " 'proc_type': 'category',\n",
       " 'prod_type': 'category',\n",
       " 'proposal': 'category',\n",
       " 'ra_max': 'np.float64',\n",
       " 'ra_min': 'np.float64',\n",
       " 'release_date': 'datetime64',\n",
       " 'seeing': 'np.float64',\n",
       " 'site': 'category',\n",
       " 'survey': 'category',\n",
       " 'telescope': 'category',\n",
       " 'updated': 'datetime64'}"
      ]
     },
     "execution_count": 6,
     "metadata": {},
     "output_type": "execute_result"
    }
   ],
   "source": [
    "requests.get(f'{adsurl}/core_file_fields').json()"
   ]
  },
  {
   "cell_type": "markdown",
   "metadata": {},
   "source": [
    "### Get Aux File field names and types <a id=\"aux_file\" />\n",
    "These occur once per FITS file but will be slower to search.  All keywords from the Primary HDU (except those in Core File Fields) are included. All types default to \"str\", but with input from experts we can refine these."
   ]
  },
  {
   "cell_type": "code",
   "execution_count": 7,
   "metadata": {},
   "outputs": [
    {
     "data": {
      "text/plain": [
       "{'AIRMASS': 'str',\n",
       " 'AOS': 'str',\n",
       " 'ASTIG1': 'str',\n",
       " 'ASTIG2': 'str',\n",
       " 'AZ': 'str',\n",
       " 'BCAM': 'str',\n",
       " 'CALMODE': 'str',\n",
       " 'CAMSHUT': 'str',\n",
       " 'CHECKVER': 'str',\n",
       " 'CONSTVER': 'str',\n",
       " 'DARKTIME': 'str',\n",
       " 'DATE-OBS': 'str',\n",
       " 'DEC': 'str',\n",
       " 'DETSIZE': 'str',\n",
       " 'DIMM2SEE': 'str',\n",
       " 'DIMMSEE': 'str',\n",
       " 'DODX': 'str',\n",
       " 'DODY': 'str',\n",
       " 'DODZ': 'str',\n",
       " 'DOMEAZ': 'str',\n",
       " 'DOMEFLOR': 'str',\n",
       " 'DOMEHIGH': 'str',\n",
       " 'DOMELOW': 'str',\n",
       " 'DONUTFN1': 'str',\n",
       " 'DONUTFN2': 'str',\n",
       " 'DONUTFN3': 'str',\n",
       " 'DONUTFN4': 'str',\n",
       " 'DONUTFS1': 'str',\n",
       " 'DONUTFS2': 'str',\n",
       " 'DONUTFS3': 'str',\n",
       " 'DONUTFS4': 'str',\n",
       " 'DOXT': 'str',\n",
       " 'DOYT': 'str',\n",
       " 'DTACCOUN': 'str',\n",
       " 'DTACQNAM': 'str',\n",
       " 'DTACQUIS': 'str',\n",
       " 'DTCALDAT': 'str',\n",
       " 'DTCOPYRI': 'str',\n",
       " 'DTINSTRU': 'str',\n",
       " 'DTNSANAM': 'str',\n",
       " 'DTOBSERV': 'str',\n",
       " 'DTPI': 'str',\n",
       " 'DTPIAFFL': 'str',\n",
       " 'DTPROPID': 'str',\n",
       " 'DTQUEUE': 'str',\n",
       " 'DT_RTNAM': 'str',\n",
       " 'DTSITE': 'str',\n",
       " 'DTSTATUS': 'str',\n",
       " 'DTTELESC': 'str',\n",
       " 'DTTITLE': 'str',\n",
       " 'DTUTC': 'str',\n",
       " 'ERRORS': 'str',\n",
       " 'EXCLUDED': 'str',\n",
       " 'EXPNUM': 'str',\n",
       " 'EXPREQ': 'str',\n",
       " 'EXPTIME': 'str',\n",
       " 'FADX': 'str',\n",
       " 'FADY': 'str',\n",
       " 'FADZ': 'str',\n",
       " 'FAXT': 'str',\n",
       " 'FAYT': 'str',\n",
       " 'FILENAME': 'str',\n",
       " 'FILTER': 'str',\n",
       " 'FILTPOS': 'str',\n",
       " 'G-CCDNUM': 'str',\n",
       " 'G-FEEDBK': 'str',\n",
       " 'G-FLXVAR': 'str',\n",
       " 'G-LATENC': 'str',\n",
       " 'G-MAXX': 'str',\n",
       " 'G-MAXY': 'str',\n",
       " 'G-MEANX': 'str',\n",
       " 'G-MEANX2': 'str',\n",
       " 'G-MEANXY': 'str',\n",
       " 'G-MEANY': 'str',\n",
       " 'G-MEANY2': 'str',\n",
       " 'G-MODE': 'str',\n",
       " 'G-SEEING': 'str',\n",
       " 'GSKYHOT': 'str',\n",
       " 'GSKYPHOT': 'str',\n",
       " 'GSKYVAR': 'str',\n",
       " 'G-TRANSP': 'str',\n",
       " 'GUIDER': 'str',\n",
       " 'HA': 'str',\n",
       " 'HDRVER': 'str',\n",
       " 'HEX': 'str',\n",
       " 'HUMIDITY': 'str',\n",
       " 'INSTANCE': 'str',\n",
       " 'INSTRUME': 'str',\n",
       " 'LSKYHOT': 'str',\n",
       " 'LSKYPHOT': 'str',\n",
       " 'LSKYPOW': 'str',\n",
       " 'LSKYVAR': 'str',\n",
       " 'LUTVER': 'str',\n",
       " 'LWTRTEMP': 'str',\n",
       " 'MAIRTEMP': 'str',\n",
       " 'MASS2': 'str',\n",
       " 'MJD-OBS': 'str',\n",
       " 'MSURTEMP': 'str',\n",
       " 'MULTIEXP': 'str',\n",
       " 'NEXTEND': 'str',\n",
       " 'NOTE': 'str',\n",
       " 'OBJECT': 'str',\n",
       " 'OBS-ELEV': 'str',\n",
       " 'OBSERVAT': 'str',\n",
       " 'OBSERVER': 'str',\n",
       " 'OBSID': 'str',\n",
       " 'OBS-LAT': 'str',\n",
       " 'OBS-LONG': 'str',\n",
       " 'OBSTYPE': 'str',\n",
       " 'ODATEOBS': 'str',\n",
       " 'OPENSHUT': 'str',\n",
       " 'OUTTEMP': 'str',\n",
       " 'PIXSCAL1': 'str',\n",
       " 'PIXSCAL2': 'str',\n",
       " 'PME-TEMP': 'str',\n",
       " 'PMN-TEMP': 'str',\n",
       " 'PMOSTEMP': 'str',\n",
       " 'PMS-TEMP': 'str',\n",
       " 'PMW-TEMP': 'str',\n",
       " 'PRESSURE': 'str',\n",
       " 'PROCTYPE': 'str',\n",
       " 'PRODTYPE': 'str',\n",
       " 'PROGRAM': 'str',\n",
       " 'PROPID': 'str',\n",
       " 'PROPOSER': 'str',\n",
       " 'RA': 'str',\n",
       " 'RADESYS': 'str',\n",
       " 'RECNO': 'str',\n",
       " 'RMCOUNT': 'str',\n",
       " 'SB_ACCOU': 'str',\n",
       " 'SB_DIR1': 'str',\n",
       " 'SB_DIR2': 'str',\n",
       " 'SB_DIR3': 'str',\n",
       " 'SB_HOST': 'str',\n",
       " 'SB_ID': 'str',\n",
       " 'SB_LOCAL': 'str',\n",
       " 'SB_NAME': 'str',\n",
       " 'SB_RECNO': 'str',\n",
       " 'SB_RTNAM': 'str',\n",
       " 'SB_SITE': 'str',\n",
       " 'SEQID': 'str',\n",
       " 'SEQNUM': 'str',\n",
       " 'SEQTOT': 'str',\n",
       " 'SISPIVER': 'str',\n",
       " 'SKYSTAT': 'str',\n",
       " 'SKYUPDAT': 'str',\n",
       " 'TELDEC': 'str',\n",
       " 'TELEQUIN': 'str',\n",
       " 'TELESCOP': 'str',\n",
       " 'TELFOCUS': 'str',\n",
       " 'TELRA': 'str',\n",
       " 'TELSTAT': 'str',\n",
       " 'TILING': 'str',\n",
       " 'TIME-OBS': 'str',\n",
       " 'TIMESYS': 'str',\n",
       " 'UPTRTEMP': 'str',\n",
       " 'UTE-TEMP': 'str',\n",
       " 'UTN-TEMP': 'str',\n",
       " 'UTS-TEMP': 'str',\n",
       " 'UTW-TEMP': 'str',\n",
       " 'VSUB': 'str',\n",
       " 'WINDDIR': 'str',\n",
       " 'WINDSPD': 'str',\n",
       " 'ZD': 'str',\n",
       " 'ZPDELDEC': 'str',\n",
       " 'ZPDELRA': 'str'}"
      ]
     },
     "execution_count": 7,
     "metadata": {},
     "output_type": "execute_result"
    }
   ],
   "source": [
    "requests.get(f'{adsurl}/aux_file_fields/decam/raw/').json()"
   ]
  },
  {
   "cell_type": "markdown",
   "metadata": {},
   "source": [
    "## Advanced File Search of Core and Aux fields, results into Pandas <a id=\"file_search\" />"
   ]
  },
  {
   "cell_type": "markdown",
   "metadata": {},
   "source": [
    "### Search Files\n",
    "- Use Database derived field, \"ra_min\"\n",
    "- Use _AUX_ field in output and search\n",
    "- Limit maximum number of results (rows) returned\n",
    "- Load results into [Pandas DataFrame](https://pandas.pydata.org/pandas-docs/stable/reference/api/pandas.DataFrame.html#pandas.DataFrame)"
   ]
  },
  {
   "cell_type": "code",
   "execution_count": 8,
   "metadata": {
    "scrolled": true
   },
   "outputs": [
    {
     "name": "stdout",
     "output_type": "stream",
     "text": [
      "Using API url: https://marsnat1.stage.dm.noao.edu/api/adv_search/fasearch/?limit=10\n"
     ]
    },
    {
     "data": {
      "text/html": [
       "<div>\n",
       "<style scoped>\n",
       "    .dataframe tbody tr th:only-of-type {\n",
       "        vertical-align: middle;\n",
       "    }\n",
       "\n",
       "    .dataframe tbody tr th {\n",
       "        vertical-align: top;\n",
       "    }\n",
       "\n",
       "    .dataframe thead th {\n",
       "        text-align: right;\n",
       "    }\n",
       "</style>\n",
       "<table border=\"1\" class=\"dataframe\">\n",
       "  <thead>\n",
       "    <tr style=\"text-align: right;\">\n",
       "      <th></th>\n",
       "      <th>AIRMASS</th>\n",
       "      <th>EXPNUM</th>\n",
       "      <th>archive_filename</th>\n",
       "      <th>instrument</th>\n",
       "      <th>md5sum</th>\n",
       "      <th>obs_type</th>\n",
       "      <th>proc_type</th>\n",
       "      <th>proposal</th>\n",
       "      <th>ra_min</th>\n",
       "      <th>release_date</th>\n",
       "      <th>url</th>\n",
       "    </tr>\n",
       "  </thead>\n",
       "  <tbody>\n",
       "    <tr>\n",
       "      <th>0</th>\n",
       "      <td>1.40</td>\n",
       "      <td>667098</td>\n",
       "      <td>/net/archive/mtn/20170814/ct4m/2017B-0951/c4d_...</td>\n",
       "      <td>decam</td>\n",
       "      <td>10ca3658469336b34d836967b9df26c1</td>\n",
       "      <td>object</td>\n",
       "      <td>raw</td>\n",
       "      <td>2017B-0951</td>\n",
       "      <td>322.493042</td>\n",
       "      <td>2017-09-13</td>\n",
       "      <td>https://marsnat1.stage.dm.noao.edu/api/adv_sea...</td>\n",
       "    </tr>\n",
       "    <tr>\n",
       "      <th>1</th>\n",
       "      <td>1.41</td>\n",
       "      <td>667099</td>\n",
       "      <td>/net/archive/mtn/20170814/ct4m/2017B-0951/c4d_...</td>\n",
       "      <td>decam</td>\n",
       "      <td>40a3bc0e4812b336e93ef751eb273325</td>\n",
       "      <td>object</td>\n",
       "      <td>raw</td>\n",
       "      <td>2017B-0951</td>\n",
       "      <td>322.493042</td>\n",
       "      <td>2017-09-13</td>\n",
       "      <td>https://marsnat1.stage.dm.noao.edu/api/adv_sea...</td>\n",
       "    </tr>\n",
       "    <tr>\n",
       "      <th>2</th>\n",
       "      <td>1.44</td>\n",
       "      <td>667111</td>\n",
       "      <td>/net/archive/mtn/20170814/ct4m/2017B-0951/c4d_...</td>\n",
       "      <td>decam</td>\n",
       "      <td>5174181ec36de019f6ccb563a706fb48</td>\n",
       "      <td>object</td>\n",
       "      <td>raw</td>\n",
       "      <td>2017B-0951</td>\n",
       "      <td>322.493042</td>\n",
       "      <td>2017-09-13</td>\n",
       "      <td>https://marsnat1.stage.dm.noao.edu/api/adv_sea...</td>\n",
       "    </tr>\n",
       "    <tr>\n",
       "      <th>3</th>\n",
       "      <td>1.40</td>\n",
       "      <td>667095</td>\n",
       "      <td>/net/archive/mtn/20170814/ct4m/2017B-0951/c4d_...</td>\n",
       "      <td>decam</td>\n",
       "      <td>6b533d96e76490261f37cdf75cfae2db</td>\n",
       "      <td>object</td>\n",
       "      <td>raw</td>\n",
       "      <td>2017B-0951</td>\n",
       "      <td>322.493042</td>\n",
       "      <td>2017-09-13</td>\n",
       "      <td>https://marsnat1.stage.dm.noao.edu/api/adv_sea...</td>\n",
       "    </tr>\n",
       "    <tr>\n",
       "      <th>4</th>\n",
       "      <td>1.44</td>\n",
       "      <td>667110</td>\n",
       "      <td>/net/archive/mtn/20170814/ct4m/2017B-0951/c4d_...</td>\n",
       "      <td>decam</td>\n",
       "      <td>928d5dcee69f591aab9251b1b242386b</td>\n",
       "      <td>object</td>\n",
       "      <td>raw</td>\n",
       "      <td>2017B-0951</td>\n",
       "      <td>322.493042</td>\n",
       "      <td>2017-09-13</td>\n",
       "      <td>https://marsnat1.stage.dm.noao.edu/api/adv_sea...</td>\n",
       "    </tr>\n",
       "    <tr>\n",
       "      <th>5</th>\n",
       "      <td>1.44</td>\n",
       "      <td>667109</td>\n",
       "      <td>/net/archive/mtn/20170814/ct4m/2017B-0951/c4d_...</td>\n",
       "      <td>decam</td>\n",
       "      <td>a241d847f02ef71d9884173f0d33f851</td>\n",
       "      <td>object</td>\n",
       "      <td>raw</td>\n",
       "      <td>2017B-0951</td>\n",
       "      <td>322.493042</td>\n",
       "      <td>2017-09-13</td>\n",
       "      <td>https://marsnat1.stage.dm.noao.edu/api/adv_sea...</td>\n",
       "    </tr>\n",
       "    <tr>\n",
       "      <th>6</th>\n",
       "      <td>1.44</td>\n",
       "      <td>667108</td>\n",
       "      <td>/net/archive/mtn/20170814/ct4m/2017B-0951/c4d_...</td>\n",
       "      <td>decam</td>\n",
       "      <td>b098def5d197da8b6839fa28beff1c18</td>\n",
       "      <td>object</td>\n",
       "      <td>raw</td>\n",
       "      <td>2017B-0951</td>\n",
       "      <td>322.493042</td>\n",
       "      <td>2017-09-13</td>\n",
       "      <td>https://marsnat1.stage.dm.noao.edu/api/adv_sea...</td>\n",
       "    </tr>\n",
       "    <tr>\n",
       "      <th>7</th>\n",
       "      <td>1.41</td>\n",
       "      <td>667100</td>\n",
       "      <td>/net/archive/mtn/20170814/ct4m/2017B-0951/c4d_...</td>\n",
       "      <td>decam</td>\n",
       "      <td>c5519e510248cd702d6c46fc71d1b7f7</td>\n",
       "      <td>object</td>\n",
       "      <td>raw</td>\n",
       "      <td>2017B-0951</td>\n",
       "      <td>322.493042</td>\n",
       "      <td>2017-09-13</td>\n",
       "      <td>https://marsnat1.stage.dm.noao.edu/api/adv_sea...</td>\n",
       "    </tr>\n",
       "    <tr>\n",
       "      <th>8</th>\n",
       "      <td>1.44</td>\n",
       "      <td>667107</td>\n",
       "      <td>/net/archive/mtn/20170814/ct4m/2017B-0951/c4d_...</td>\n",
       "      <td>decam</td>\n",
       "      <td>cb6d686c7fe9764e01028d9a829c2689</td>\n",
       "      <td>object</td>\n",
       "      <td>raw</td>\n",
       "      <td>2017B-0951</td>\n",
       "      <td>322.493042</td>\n",
       "      <td>2017-09-13</td>\n",
       "      <td>https://marsnat1.stage.dm.noao.edu/api/adv_sea...</td>\n",
       "    </tr>\n",
       "    <tr>\n",
       "      <th>9</th>\n",
       "      <td>1.45</td>\n",
       "      <td>667112</td>\n",
       "      <td>/net/archive/mtn/20170814/ct4m/2017B-0951/c4d_...</td>\n",
       "      <td>decam</td>\n",
       "      <td>d8f62f14e40bf25f5f1f9af038927e1a</td>\n",
       "      <td>object</td>\n",
       "      <td>raw</td>\n",
       "      <td>2017B-0951</td>\n",
       "      <td>322.493042</td>\n",
       "      <td>2017-09-13</td>\n",
       "      <td>https://marsnat1.stage.dm.noao.edu/api/adv_sea...</td>\n",
       "    </tr>\n",
       "  </tbody>\n",
       "</table>\n",
       "</div>"
      ],
      "text/plain": [
       "   AIRMASS  EXPNUM                                   archive_filename  \\\n",
       "0     1.40  667098  /net/archive/mtn/20170814/ct4m/2017B-0951/c4d_...   \n",
       "1     1.41  667099  /net/archive/mtn/20170814/ct4m/2017B-0951/c4d_...   \n",
       "2     1.44  667111  /net/archive/mtn/20170814/ct4m/2017B-0951/c4d_...   \n",
       "3     1.40  667095  /net/archive/mtn/20170814/ct4m/2017B-0951/c4d_...   \n",
       "4     1.44  667110  /net/archive/mtn/20170814/ct4m/2017B-0951/c4d_...   \n",
       "5     1.44  667109  /net/archive/mtn/20170814/ct4m/2017B-0951/c4d_...   \n",
       "6     1.44  667108  /net/archive/mtn/20170814/ct4m/2017B-0951/c4d_...   \n",
       "7     1.41  667100  /net/archive/mtn/20170814/ct4m/2017B-0951/c4d_...   \n",
       "8     1.44  667107  /net/archive/mtn/20170814/ct4m/2017B-0951/c4d_...   \n",
       "9     1.45  667112  /net/archive/mtn/20170814/ct4m/2017B-0951/c4d_...   \n",
       "\n",
       "  instrument                            md5sum obs_type proc_type    proposal  \\\n",
       "0      decam  10ca3658469336b34d836967b9df26c1   object       raw  2017B-0951   \n",
       "1      decam  40a3bc0e4812b336e93ef751eb273325   object       raw  2017B-0951   \n",
       "2      decam  5174181ec36de019f6ccb563a706fb48   object       raw  2017B-0951   \n",
       "3      decam  6b533d96e76490261f37cdf75cfae2db   object       raw  2017B-0951   \n",
       "4      decam  928d5dcee69f591aab9251b1b242386b   object       raw  2017B-0951   \n",
       "5      decam  a241d847f02ef71d9884173f0d33f851   object       raw  2017B-0951   \n",
       "6      decam  b098def5d197da8b6839fa28beff1c18   object       raw  2017B-0951   \n",
       "7      decam  c5519e510248cd702d6c46fc71d1b7f7   object       raw  2017B-0951   \n",
       "8      decam  cb6d686c7fe9764e01028d9a829c2689   object       raw  2017B-0951   \n",
       "9      decam  d8f62f14e40bf25f5f1f9af038927e1a   object       raw  2017B-0951   \n",
       "\n",
       "       ra_min release_date                                                url  \n",
       "0  322.493042   2017-09-13  https://marsnat1.stage.dm.noao.edu/api/adv_sea...  \n",
       "1  322.493042   2017-09-13  https://marsnat1.stage.dm.noao.edu/api/adv_sea...  \n",
       "2  322.493042   2017-09-13  https://marsnat1.stage.dm.noao.edu/api/adv_sea...  \n",
       "3  322.493042   2017-09-13  https://marsnat1.stage.dm.noao.edu/api/adv_sea...  \n",
       "4  322.493042   2017-09-13  https://marsnat1.stage.dm.noao.edu/api/adv_sea...  \n",
       "5  322.493042   2017-09-13  https://marsnat1.stage.dm.noao.edu/api/adv_sea...  \n",
       "6  322.493042   2017-09-13  https://marsnat1.stage.dm.noao.edu/api/adv_sea...  \n",
       "7  322.493042   2017-09-13  https://marsnat1.stage.dm.noao.edu/api/adv_sea...  \n",
       "8  322.493042   2017-09-13  https://marsnat1.stage.dm.noao.edu/api/adv_sea...  \n",
       "9  322.493042   2017-09-13  https://marsnat1.stage.dm.noao.edu/api/adv_sea...  "
      ]
     },
     "execution_count": 8,
     "metadata": {},
     "output_type": "execute_result"
    }
   ],
   "source": [
    "jj = {\n",
    "    \"outfields\" : [\n",
    "        \"md5sum\",\n",
    "        \"ra_min\",  # \"ra\" is a \"range_field\" in Postgres, access either part of range\n",
    "        \"archive_filename\",\n",
    "        \"instrument\",\n",
    "        \"proc_type\",\n",
    "        \"obs_type\",\n",
    "        \"release_date\",\n",
    "        \"proposal\",\n",
    "        \"EXPNUM\",    # AUX field. Slows search\n",
    "        \"AIRMASS\",\n",
    "    ],\n",
    "    \"search\" : [\n",
    "        [\"instrument\", \"decam\"],\n",
    "        [\"proc_type\", \"raw\"],\n",
    "        [\"ra_min\",322,323],\n",
    "        [\"EXPNUM\", 667000, 669000],\n",
    "    ]\n",
    "}\n",
    "apiurl = f'{adsurl}/fasearch/?limit=10'\n",
    "print(f'Using API url: {apiurl}')\n",
    "pd.read_json(json.dumps(requests.post(apiurl,json=jj).json()))"
   ]
  },
  {
   "cell_type": "markdown",
   "metadata": {},
   "source": [
    "### Find files available for download\n",
    "You can comment one or the other of the \"release_date\" search lines to find either public files or proprietary files.\n",
    "You can retrieve the public files without authentication. But to retrieve the proprietary files you must be an authenticated PI of a proposal associated with the file. Metadata has no proprietary period."
   ]
  },
  {
   "cell_type": "code",
   "execution_count": 9,
   "metadata": {
    "scrolled": false
   },
   "outputs": [
    {
     "name": "stdout",
     "output_type": "stream",
     "text": [
      "Using API url: https://marsnat1.stage.dm.noao.edu/api/adv_search/fasearch/?limit=5\n"
     ]
    },
    {
     "data": {
      "text/html": [
       "<div>\n",
       "<style scoped>\n",
       "    .dataframe tbody tr th:only-of-type {\n",
       "        vertical-align: middle;\n",
       "    }\n",
       "\n",
       "    .dataframe tbody tr th {\n",
       "        vertical-align: top;\n",
       "    }\n",
       "\n",
       "    .dataframe thead th {\n",
       "        text-align: right;\n",
       "    }\n",
       "</style>\n",
       "<table border=\"1\" class=\"dataframe\">\n",
       "  <thead>\n",
       "    <tr style=\"text-align: right;\">\n",
       "      <th></th>\n",
       "      <th>archive_filename</th>\n",
       "      <th>instrument</th>\n",
       "      <th>md5sum</th>\n",
       "      <th>obs_type</th>\n",
       "      <th>proc_type</th>\n",
       "      <th>proposal</th>\n",
       "      <th>release_date</th>\n",
       "      <th>telescope</th>\n",
       "      <th>url</th>\n",
       "    </tr>\n",
       "  </thead>\n",
       "  <tbody>\n",
       "    <tr>\n",
       "      <th>0</th>\n",
       "      <td>/net/archive/pipeline/Q20110409/C4M11A/2011040...</td>\n",
       "      <td>mosaic_2</td>\n",
       "      <td>0000004ab27d9e427bb93c640b358633</td>\n",
       "      <td>object</td>\n",
       "      <td>instcal</td>\n",
       "      <td>2011A-0477</td>\n",
       "      <td>2012-09-28</td>\n",
       "      <td>ct4m</td>\n",
       "      <td>https://marsnat1.stage.dm.noao.edu/api/adv_sea...</td>\n",
       "    </tr>\n",
       "    <tr>\n",
       "      <th>1</th>\n",
       "      <td>/net/archive/pipeline/Q20150727/DEC15A/2015072...</td>\n",
       "      <td>decam</td>\n",
       "      <td>0000065ee227de201686b54706ba58e9</td>\n",
       "      <td>object</td>\n",
       "      <td>resampled</td>\n",
       "      <td>2015A-0618</td>\n",
       "      <td>2017-01-13</td>\n",
       "      <td>ct4m</td>\n",
       "      <td>https://marsnat1.stage.dm.noao.edu/api/adv_sea...</td>\n",
       "    </tr>\n",
       "    <tr>\n",
       "      <th>2</th>\n",
       "      <td>/net/archive/pipeline/Q20161102/K4N16B/2016101...</td>\n",
       "      <td>newfirm</td>\n",
       "      <td>0000079ed58542c36a059467cc748420</td>\n",
       "      <td>object</td>\n",
       "      <td>instcal</td>\n",
       "      <td>2013B-0236</td>\n",
       "      <td>2018-04-10</td>\n",
       "      <td>kp4m</td>\n",
       "      <td>https://marsnat1.stage.dm.noao.edu/api/adv_sea...</td>\n",
       "    </tr>\n",
       "    <tr>\n",
       "      <th>3</th>\n",
       "      <td>/net/archive/mtn/20140824/soar/2014B-0602/psg_...</td>\n",
       "      <td>goodman</td>\n",
       "      <td>0000088eabc78f332e82ccfe7f4c2f8e</td>\n",
       "      <td>object</td>\n",
       "      <td>raw</td>\n",
       "      <td>2014B-0602</td>\n",
       "      <td>2016-02-15</td>\n",
       "      <td>soar</td>\n",
       "      <td>https://marsnat1.stage.dm.noao.edu/api/adv_sea...</td>\n",
       "    </tr>\n",
       "    <tr>\n",
       "      <th>4</th>\n",
       "      <td>/net/archive/pipeline/Q20130905/DEC13B/2013081...</td>\n",
       "      <td>decam</td>\n",
       "      <td>00000987d6968004b925030189ad24b9</td>\n",
       "      <td>object</td>\n",
       "      <td>instcal</td>\n",
       "      <td>2013B-0325</td>\n",
       "      <td>2015-02-09</td>\n",
       "      <td>ct4m</td>\n",
       "      <td>https://marsnat1.stage.dm.noao.edu/api/adv_sea...</td>\n",
       "    </tr>\n",
       "  </tbody>\n",
       "</table>\n",
       "</div>"
      ],
      "text/plain": [
       "                                    archive_filename instrument  \\\n",
       "0  /net/archive/pipeline/Q20110409/C4M11A/2011040...   mosaic_2   \n",
       "1  /net/archive/pipeline/Q20150727/DEC15A/2015072...      decam   \n",
       "2  /net/archive/pipeline/Q20161102/K4N16B/2016101...    newfirm   \n",
       "3  /net/archive/mtn/20140824/soar/2014B-0602/psg_...    goodman   \n",
       "4  /net/archive/pipeline/Q20130905/DEC13B/2013081...      decam   \n",
       "\n",
       "                             md5sum obs_type  proc_type    proposal  \\\n",
       "0  0000004ab27d9e427bb93c640b358633   object    instcal  2011A-0477   \n",
       "1  0000065ee227de201686b54706ba58e9   object  resampled  2015A-0618   \n",
       "2  0000079ed58542c36a059467cc748420   object    instcal  2013B-0236   \n",
       "3  0000088eabc78f332e82ccfe7f4c2f8e   object        raw  2014B-0602   \n",
       "4  00000987d6968004b925030189ad24b9   object    instcal  2013B-0325   \n",
       "\n",
       "  release_date telescope                                                url  \n",
       "0   2012-09-28      ct4m  https://marsnat1.stage.dm.noao.edu/api/adv_sea...  \n",
       "1   2017-01-13      ct4m  https://marsnat1.stage.dm.noao.edu/api/adv_sea...  \n",
       "2   2018-04-10      kp4m  https://marsnat1.stage.dm.noao.edu/api/adv_sea...  \n",
       "3   2016-02-15      soar  https://marsnat1.stage.dm.noao.edu/api/adv_sea...  \n",
       "4   2015-02-09      ct4m  https://marsnat1.stage.dm.noao.edu/api/adv_sea...  "
      ]
     },
     "execution_count": 9,
     "metadata": {},
     "output_type": "execute_result"
    }
   ],
   "source": [
    "jj = {\n",
    "    \"outfields\" : [\n",
    "        \"md5sum\",\n",
    "        \"archive_filename\",\n",
    "        \"instrument\",\n",
    "        \"telescope\",\n",
    "        \"proc_type\",\n",
    "        \"obs_type\",\n",
    "        \"release_date\",\n",
    "        \"proposal\",\n",
    "    ],\n",
    "    \"search\" : [\n",
    "        [\"release_date\", '2005-02-18','2020-01-20'], # public\n",
    "        #[\"release_date\", '2020-02-18','2020-11-18'], # proprietary\n",
    "    ]\n",
    "}\n",
    "apiurl = f'{adsurl}/fasearch/?limit=5'\n",
    "print(f'Using API url: {apiurl}')\n",
    "ads_df = pd.read_json(json.dumps(requests.post(apiurl,json=jj).json()))\n",
    "ads_df"
   ]
  },
  {
   "cell_type": "markdown",
   "metadata": {},
   "source": [
    "#### Get a URL that can be used to retrieve a single public FITS file.  \n",
    "Pasting this in your browser will result in dialog box that lets you save the file locally."
   ]
  },
  {
   "cell_type": "code",
   "execution_count": 10,
   "metadata": {},
   "outputs": [
    {
     "data": {
      "text/plain": [
       "'https://marsnat1.stage.dm.noao.edu/api/adv_search/retrieve/0000004ab27d9e427bb93c640b358633/'"
      ]
     },
     "execution_count": 10,
     "metadata": {},
     "output_type": "execute_result"
    }
   ],
   "source": [
    "selectedRow=0\n",
    "ads_df['url'][selectedRow]"
   ]
  },
  {
   "cell_type": "markdown",
   "metadata": {},
   "source": [
    "# FIX!!! (the working equiv of above is .../api/natica/retrieve/...)\n",
    "Do we really want the URL column to be present no matter what user asks for?!? Takes up space and they may not want it."
   ]
  },
  {
   "cell_type": "markdown",
   "metadata": {},
   "source": [
    "#### This gets no results (no Archive filename ends with \"FOOBAR\")\n",
    "The \"archive_filename\" is a string type so there are many modifiers that can be used with it: \n",
    "_exact, iexact, startswith, istartswith, endswith, iendswith, contains, icontains, regex, iregex_\n"
   ]
  },
  {
   "cell_type": "code",
   "execution_count": 11,
   "metadata": {
    "scrolled": true
   },
   "outputs": [
    {
     "data": {
      "text/html": [
       "<div>\n",
       "<style scoped>\n",
       "    .dataframe tbody tr th:only-of-type {\n",
       "        vertical-align: middle;\n",
       "    }\n",
       "\n",
       "    .dataframe tbody tr th {\n",
       "        vertical-align: top;\n",
       "    }\n",
       "\n",
       "    .dataframe thead th {\n",
       "        text-align: right;\n",
       "    }\n",
       "</style>\n",
       "<table border=\"1\" class=\"dataframe\">\n",
       "  <thead>\n",
       "    <tr style=\"text-align: right;\">\n",
       "      <th></th>\n",
       "    </tr>\n",
       "  </thead>\n",
       "  <tbody>\n",
       "  </tbody>\n",
       "</table>\n",
       "</div>"
      ],
      "text/plain": [
       "Empty DataFrame\n",
       "Columns: []\n",
       "Index: []"
      ]
     },
     "execution_count": 11,
     "metadata": {},
     "output_type": "execute_result"
    }
   ],
   "source": [
    "jj = {\n",
    "    \"outfields\" : [\"archive_filename\", \"md5sum\"],\n",
    "    \"search\" : [\n",
    "        [\"archive_filename\", \"k4m_170308_045842_ori.fits.fz.FOOBAR\", 'endswith'],\n",
    "    ]\n",
    "}\n",
    "pd.read_json(json.dumps(requests.post(f'{adsurl}/fasearch/?limit=9',json=jj).json()))"
   ]
  },
  {
   "cell_type": "markdown",
   "metadata": {},
   "source": [
    "### Can we return something better for above when there are zero results? !!!"
   ]
  },
  {
   "cell_type": "markdown",
   "metadata": {},
   "source": [
    "### It is an error to search using AUX field without limiting to instrument\n",
    "An error is raised if an AUX field is in the search clause without also searching for and *instrument* and *proc_type*. Uncommenting the *instrument* line below will fix the problem."
   ]
  },
  {
   "cell_type": "code",
   "execution_count": 12,
   "metadata": {},
   "outputs": [
    {
     "data": {
      "text/plain": [
       "{'errorMessage': 'No \"instrument\" was provided when searching for AUX fields. For performance reasons you must also filter on \"instrument\" and \"proc_type\" that contain the AUX fields you are searching on (EXPNUM).',\n",
       " 'errorCode': 'NATERR'}"
      ]
     },
     "execution_count": 12,
     "metadata": {},
     "output_type": "execute_result"
    }
   ],
   "source": [
    "jj = {\n",
    "    \"outfields\" : [\n",
    "        \"md5sum\",\n",
    "        \"archive_filename\",\n",
    "        \"instrument\",\n",
    "        \"proc_type\",\n",
    "        \"EXPNUM\",    # AUX field. Slows search\n",
    "    ],\n",
    "    \"search\" : [\n",
    "        #[\"instrument\", \"decam\"],  # uncomment this to eliminate error\n",
    "        [\"proc_type\", \"raw\"],\n",
    "        [\"EXPNUM\", 667000, 669000],\n",
    "    ]\n",
    "}\n",
    "requests.post(f'{adsurl}/fasearch/?limit=9',json=jj).json()"
   ]
  },
  {
   "cell_type": "code",
   "execution_count": 13,
   "metadata": {},
   "outputs": [
    {
     "data": {
      "text/plain": [
       "'https://marsnat1.stage.dm.noao.edu/api/natica/retrieve/0000004ab27d9e427bb93c640b358633'"
      ]
     },
     "execution_count": 13,
     "metadata": {},
     "output_type": "execute_result"
    }
   ],
   "source": [
    "fileid = ads_df['md5sum'][0]\n",
    "fileurl = f'{natroot}/api/natica/retrieve/{fileid}'\n",
    "fileurl"
   ]
  },
  {
   "cell_type": "markdown",
   "metadata": {},
   "source": [
    "#### Attempt to get File\n",
    "There are several reasons attempt may fail, so check status!  Most reasons only apply to Proprietary files and include: \n",
    "1. There is no proposal associated with the File\n",
    "1. User is not authenticated\n",
    "1. User is not a PI or CoPI associated with the proposal\n",
    "\n",
    "For more details on retrieving proprietary files see the **api-authentication** notebook."
   ]
  },
  {
   "cell_type": "code",
   "execution_count": 14,
   "metadata": {},
   "outputs": [
    {
     "name": "stdout",
     "output_type": "stream",
     "text": [
      "HTTP-Status=200 File-size=777,600\n"
     ]
    }
   ],
   "source": [
    "r2 = requests.get(fileurl)\n",
    "print(f'HTTP-Status={r2.status_code} File-size={len(r2.content):,}')"
   ]
  },
  {
   "cell_type": "code",
   "execution_count": 15,
   "metadata": {},
   "outputs": [
    {
     "data": {
      "image/png": "[encoded data removed]",
      "text/plain": [
       "<Figure size 1152x648 with 1 Axes>"
      ]
     },
     "metadata": {
      "needs_background": "light"
     },
     "output_type": "display_data"
    }
   ],
   "source": [
    "if r2.status_code == 200:\n",
    "    zimage = pyfits.getdata(autils.data.download_file(fileurl,cache=True,show_progress=False,timeout=120))\n",
    "    plt.rcParams[\"figure.figsize\"] = [16,9]\n",
    "    plt.imshow(zimage,cmap=matplotlib.cm.gray_r)\n",
    "    zimage.shape\n",
    "else:\n",
    "    print(r2.json())"
   ]
  },
  {
   "cell_type": "markdown",
   "metadata": {},
   "source": [
    "### Get Core HDU field names and types <a id=\"core_hdu\" />\n",
    "These occur once per non-primary HDU and are optimized for fast search."
   ]
  },
  {
   "cell_type": "code",
   "execution_count": 16,
   "metadata": {},
   "outputs": [
    {
     "data": {
      "text/plain": [
       "{'boundary': 'str',\n",
       " 'dec': 'np.float64',\n",
       " 'dec_range': 'str',\n",
       " 'fitsfile': 'str',\n",
       " 'fitsfile__archive_filename': 'str',\n",
       " 'fitsfile__caldat': 'str',\n",
       " 'fitsfile__date_obs_max': 'str',\n",
       " 'fitsfile__date_obs_min': 'str',\n",
       " 'fitsfile__dec_max': 'str',\n",
       " 'fitsfile__dec_min': 'str',\n",
       " 'fitsfile__depth': 'str',\n",
       " 'fitsfile__exposure': 'str',\n",
       " 'fitsfile__filesize': 'str',\n",
       " 'fitsfile__ifilter': 'str',\n",
       " 'fitsfile__instrument': 'str',\n",
       " 'fitsfile__md5sum': 'str',\n",
       " 'fitsfile__obs_mode': 'str',\n",
       " 'fitsfile__obs_type': 'str',\n",
       " 'fitsfile__original_filename': 'str',\n",
       " 'fitsfile__proc_type': 'str',\n",
       " 'fitsfile__prod_type': 'str',\n",
       " 'fitsfile__proposal': 'str',\n",
       " 'fitsfile__ra_max': 'str',\n",
       " 'fitsfile__ra_min': 'str',\n",
       " 'fitsfile__release_date': 'str',\n",
       " 'fitsfile__seeing': 'str',\n",
       " 'fitsfile__site': 'str',\n",
       " 'fitsfile__survey': 'str',\n",
       " 'fitsfile__telescope': 'str',\n",
       " 'fitsfile__updated': 'str',\n",
       " 'hdu_idx': 'np.int64',\n",
       " 'id': 'str',\n",
       " 'ra': 'np.float64',\n",
       " 'ra_range': 'str',\n",
       " 'updated': 'datetime64'}"
      ]
     },
     "execution_count": 16,
     "metadata": {},
     "output_type": "execute_result"
    }
   ],
   "source": [
    "requests.get(f'{adsurl}/core_hdu_fields').json()"
   ]
  },
  {
   "cell_type": "markdown",
   "metadata": {},
   "source": [
    "### Get Aux HDU field names and types <a id=\"aux_hdu\" />\n",
    "These occur once per non-primary HDU but will be slower to search.  All keywords from the non-primary HDUs (except those in Core HDU Fields) are included."
   ]
  },
  {
   "cell_type": "code",
   "execution_count": 17,
   "metadata": {},
   "outputs": [
    {
     "data": {
      "text/plain": [
       "{'AMPSECA': 'str',\n",
       " 'AMPSECB': 'str',\n",
       " 'ASTIG1': 'str',\n",
       " 'BIASSECA': 'str',\n",
       " 'BIASSECB': 'str',\n",
       " 'BSCALE': 'str',\n",
       " 'BUNIT': 'str',\n",
       " 'BZERO': 'str',\n",
       " 'CCDBIN1': 'str',\n",
       " 'CCDBIN2': 'str',\n",
       " 'CCDNUM': 'str',\n",
       " 'CCDSEC': 'str',\n",
       " 'CCDSECA': 'str',\n",
       " 'CCDSECB': 'str',\n",
       " 'CD1_1': 'str',\n",
       " 'CD1_2': 'str',\n",
       " 'CD2_1': 'str',\n",
       " 'CD2_2': 'str',\n",
       " 'CHECKVER': 'str',\n",
       " 'CRPIX1': 'str',\n",
       " 'CRPIX2': 'str',\n",
       " 'CRVAL1': 'str',\n",
       " 'CRVAL2': 'str',\n",
       " 'CTYPE1': 'str',\n",
       " 'CTYPE2': 'str',\n",
       " 'CUNIT1': 'str',\n",
       " 'CUNIT2': 'str',\n",
       " 'DARKTIME': 'str',\n",
       " 'DATASEC': 'str',\n",
       " 'DATASECA': 'str',\n",
       " 'DATASECB': 'str',\n",
       " 'DATE-OBS': 'datetime64',\n",
       " 'DETECTOR': 'str',\n",
       " 'DETPOS': 'str',\n",
       " 'DETSEC': 'str',\n",
       " 'DETSECA': 'str',\n",
       " 'DETSECB': 'str',\n",
       " 'DETSIZE': 'str',\n",
       " 'DHEFIRM': 'str',\n",
       " 'DHEINF': 'str',\n",
       " 'DONUT10E': 'str',\n",
       " 'DONUT10Z': 'str',\n",
       " 'DONUT11E': 'str',\n",
       " 'DONUT11Z': 'str',\n",
       " 'DONUT12E': 'str',\n",
       " 'DONUT12Z': 'str',\n",
       " 'DONUT13E': 'str',\n",
       " 'DONUT13Z': 'str',\n",
       " 'DONUT14E': 'str',\n",
       " 'DONUT14Z': 'str',\n",
       " 'DONUT15E': 'str',\n",
       " 'DONUT15Z': 'str',\n",
       " 'DONUT16E': 'str',\n",
       " 'DONUT16Z': 'str',\n",
       " 'DONUT17E': 'str',\n",
       " 'DONUT17Z': 'str',\n",
       " 'DONUT18E': 'str',\n",
       " 'DONUT18Z': 'str',\n",
       " 'DONUT1E': 'str',\n",
       " 'DONUT1Z': 'str',\n",
       " 'DONUT2E': 'str',\n",
       " 'DONUT2Z': 'str',\n",
       " 'DONUT3E': 'str',\n",
       " 'DONUT3Z': 'str',\n",
       " 'DONUT4E': 'str',\n",
       " 'DONUT4Z': 'str',\n",
       " 'DONUT5E': 'str',\n",
       " 'DONUT5Z': 'str',\n",
       " 'DONUT6E': 'str',\n",
       " 'DONUT6Z': 'str',\n",
       " 'DONUT7E': 'str',\n",
       " 'DONUT7Z': 'str',\n",
       " 'DONUT8E': 'str',\n",
       " 'DONUT8Z': 'str',\n",
       " 'DONUT9E': 'str',\n",
       " 'DONUT9Z': 'str',\n",
       " 'DONUTFN2': 'str',\n",
       " 'EQUINOX': 'str',\n",
       " 'EXPNUM': 'object',\n",
       " 'EXTNAME': 'str',\n",
       " 'FILTER': 'category',\n",
       " 'FPA': 'str',\n",
       " 'GAINA': 'str',\n",
       " 'GAINB': 'str',\n",
       " 'GCOUNT': 'str',\n",
       " 'G-LATENC': 'str',\n",
       " 'INHERIT': 'str',\n",
       " 'LSKYPHOT': 'str',\n",
       " 'LTM1_1': 'str',\n",
       " 'LTM1_2': 'str',\n",
       " 'LTM2_1': 'str',\n",
       " 'LTM2_2': 'str',\n",
       " 'LTV1': 'str',\n",
       " 'LTV2': 'str',\n",
       " 'NAXIS1': 'str',\n",
       " 'NAXIS2': 'str',\n",
       " 'NDONUTS': 'str',\n",
       " 'OBSID': 'str',\n",
       " 'ODATEOBS': 'str',\n",
       " 'PCOUNT': 'str',\n",
       " 'POSTSECA': 'str',\n",
       " 'POSTSECB': 'str',\n",
       " 'PRESECA': 'str',\n",
       " 'PRESECB': 'str',\n",
       " 'PROPID': 'str',\n",
       " 'PV1_0': 'str',\n",
       " 'PV1_1': 'str',\n",
       " 'PV1_10': 'str',\n",
       " 'PV1_2': 'str',\n",
       " 'PV1_3': 'str',\n",
       " 'PV1_4': 'str',\n",
       " 'PV1_5': 'str',\n",
       " 'PV1_6': 'str',\n",
       " 'PV1_7': 'str',\n",
       " 'PV1_8': 'str',\n",
       " 'PV1_9': 'str',\n",
       " 'PV2_0': 'str',\n",
       " 'PV2_1': 'str',\n",
       " 'PV2_10': 'str',\n",
       " 'PV2_2': 'str',\n",
       " 'PV2_3': 'str',\n",
       " 'PV2_4': 'str',\n",
       " 'PV2_5': 'str',\n",
       " 'PV2_6': 'str',\n",
       " 'PV2_7': 'str',\n",
       " 'PV2_8': 'str',\n",
       " 'PV2_9': 'str',\n",
       " 'RADESYS': 'str',\n",
       " 'RDNOISEA': 'str',\n",
       " 'RDNOISEB': 'str',\n",
       " 'SATURATA': 'str',\n",
       " 'SATURATB': 'str',\n",
       " 'SLOT00': 'str',\n",
       " 'SLOT01': 'str',\n",
       " 'SLOT02': 'str',\n",
       " 'SLOT03': 'str',\n",
       " 'SLOT04': 'str',\n",
       " 'SLOT05': 'str',\n",
       " 'TRIMSEC': 'str',\n",
       " 'TRIMSECA': 'str',\n",
       " 'TRIMSECB': 'str',\n",
       " 'VALIDA': 'str',\n",
       " 'VALIDB': 'str',\n",
       " 'WCSAXES': 'str',\n",
       " 'XTENSION': 'str'}"
      ]
     },
     "execution_count": 17,
     "metadata": {},
     "output_type": "execute_result"
    }
   ],
   "source": [
    "requests.get(f'{adsurl}/aux_hdu_fields/decam/raw/').json()"
   ]
  },
  {
   "cell_type": "markdown",
   "metadata": {},
   "source": [
    "## Advanced HDU Search of Core and Aux fields, results into Pandas <a id=\"hdu_search\" />  "
   ]
  },
  {
   "cell_type": "markdown",
   "metadata": {},
   "source": [
    "# HERE !!! <a id=\"here\">"
   ]
  },
  {
   "cell_type": "markdown",
   "metadata": {},
   "source": [
    "# FIX!!!\n",
    "- Should protect against AUX field use unless both Instrument and Proc_type are given.\n",
    "- Need AUX field that can be found in both DEV and PAT"
   ]
  },
  {
   "cell_type": "code",
   "execution_count": 18,
   "metadata": {},
   "outputs": [
    {
     "ename": "ValueError",
     "evalue": "If using all scalar values, you must pass an index",
     "output_type": "error",
     "traceback": [
      "---------------------------------------------------------------------------",
      "ValueError                                Traceback (most recent call last)",
      "<ipython-input-18-3a55ed31f9e0> in <module>\n     15 }\n     16 \n---> 17 pd.read_json(json.dumps(requests.post(f'{adsurl}/hasearch/?limit=9999', json=jj).json()))\n     18 #r=requests.post(f'{adsurl}/hasearch/?limit=9', json=jj)\n     19 #r.text\n",
      "~/sandbox/jnotebooks/venv/lib64/python3.6/site-packages/pandas/io/json/json.py in read_json(path_or_buf, orient, typ, dtype, convert_axes, convert_dates, keep_default_dates, numpy, precise_float, date_unit, encoding, lines, chunksize, compression)\n    420         return json_reader\n    421 \n--> 422     result = json_reader.read()\n    423     if should_close:\n    424         try:\n",
      "~/sandbox/jnotebooks/venv/lib64/python3.6/site-packages/pandas/io/json/json.py in read(self)\n    527             )\n    528         else:\n--> 529             obj = self._get_object_parser(self.data)\n    530         self.close()\n    531         return obj\n",
      "~/sandbox/jnotebooks/venv/lib64/python3.6/site-packages/pandas/io/json/json.py in _get_object_parser(self, json)\n    544         obj = None\n    545         if typ == 'frame':\n--> 546             obj = FrameParser(json, **kwargs).parse()\n    547 \n    548         if typ == 'series' or obj is None:\n",
      "~/sandbox/jnotebooks/venv/lib64/python3.6/site-packages/pandas/io/json/json.py in parse(self)\n    636 \n    637         else:\n--> 638             self._parse_no_numpy()\n    639 \n    640         if self.obj is None:\n",
      "~/sandbox/jnotebooks/venv/lib64/python3.6/site-packages/pandas/io/json/json.py in _parse_no_numpy(self)\n    851         if orient == \"columns\":\n    852             self.obj = DataFrame(\n--> 853                 loads(json, precise_float=self.precise_float), dtype=None)\n    854         elif orient == \"split\":\n    855             decoded = {str(k): v for k, v in compat.iteritems(\n",
      "~/sandbox/jnotebooks/venv/lib64/python3.6/site-packages/pandas/core/frame.py in __init__(self, data, index, columns, dtype, copy)\n    346                                  dtype=dtype, copy=copy)\n    347         elif isinstance(data, dict):\n--> 348             mgr = self._init_dict(data, index, columns, dtype=dtype)\n    349         elif isinstance(data, ma.MaskedArray):\n    350             import numpy.ma.mrecords as mrecords\n",
      "~/sandbox/jnotebooks/venv/lib64/python3.6/site-packages/pandas/core/frame.py in _init_dict(self, data, index, columns, dtype)\n    457             arrays = [data[k] for k in keys]\n    458 \n--> 459         return _arrays_to_mgr(arrays, data_names, index, columns, dtype=dtype)\n    460 \n    461     def _init_ndarray(self, values, index, columns, dtype=None, copy=False):\n",
      "~/sandbox/jnotebooks/venv/lib64/python3.6/site-packages/pandas/core/frame.py in _arrays_to_mgr(arrays, arr_names, index, columns, dtype)\n   7354     # figure out the index, if necessary\n   7355     if index is None:\n-> 7356         index = extract_index(arrays)\n   7357 \n   7358     # don't force copy because getting jammed in an ndarray anyway\n",
      "~/sandbox/jnotebooks/venv/lib64/python3.6/site-packages/pandas/core/frame.py in extract_index(data)\n   7391 \n   7392         if not indexes and not raw_lengths:\n-> 7393             raise ValueError('If using all scalar values, you must pass'\n   7394                              ' an index')\n   7395 \n",
      "ValueError: If using all scalar values, you must pass an index"
     ]
    }
   ],
   "source": [
    "jj = {\n",
    "    \"outfields\" : [\n",
    "        \"fitsfile__archive_filename\",\n",
    "        \"fitsfile__caldat\",\n",
    "        \"fitsfile__instrument\",\n",
    "        \"fitsfile__proc_type\",\n",
    "        \"ra\",\n",
    "        \"dec\",\n",
    "        \"AIRMASS\"  # AUX field. Slows search\n",
    "    ],\n",
    "    \"search\" : [\n",
    "        [\"fitsfile__instrument\", \"decam\"],\n",
    "        [\"fitsfile__proc_type\", \"raw\"],\n",
    "    ]\n",
    "}\n",
    "\n",
    "pd.read_json(json.dumps(requests.post(f'{adsurl}/hasearch/?limit=9999', json=jj).json()))\n",
    "#r=requests.post(f'{adsurl}/hasearch/?limit=9', json=jj)\n",
    "#r.text"
   ]
  },
  {
   "cell_type": "markdown",
   "metadata": {},
   "source": [
    "## Error Conditions <a id=\"errors\" />"
   ]
  },
  {
   "cell_type": "markdown",
   "metadata": {},
   "source": [
    "### Examples of bad search specification\n",
    "#### Attempt to search unknown field name"
   ]
  },
  {
   "cell_type": "code",
   "execution_count": null,
   "metadata": {
    "scrolled": true
   },
   "outputs": [],
   "source": [
    "jj={\n",
    "    \"outfields\" : [\n",
    "        \"ifilter\",\n",
    "        \"archive_filename\"\n",
    "    ],\n",
    "    \"search\" : [\n",
    "        [\"ifilter\", \"GG395 kGG395\"],\n",
    "        [\"snafu\",\"wubba\"], # unknown field \"snafu\"\n",
    "        [\"instrument\", \"decam\"]\n",
    "    ]\n",
    "}\n",
    "requests.post(f'{adsurl}/fasearch/?limit=9',json=jj).json()"
   ]
  },
  {
   "cell_type": "markdown",
   "metadata": {},
   "source": [
    "#### Attempt to retrieve field name not in known list"
   ]
  },
  {
   "cell_type": "code",
   "execution_count": null,
   "metadata": {
    "scrolled": true
   },
   "outputs": [],
   "source": [
    "jj={\n",
    "    \"outfields\" : [\n",
    "        \"baz\",  # unknown field\n",
    "        \"foo\",  # unknown field\n",
    "        \"ifilter\",\n",
    "        \"archive_filename\"\n",
    "    ],\n",
    "    \"search\" : [\n",
    "        [\"ifilter\", \"GG395 kGG395\"],\n",
    "    ]\n",
    "}\n",
    "requests.post(f'{adsurl}/fasearch/?limit=9',json=jj).json()"
   ]
  },
  {
   "cell_type": "code",
   "execution_count": null,
   "metadata": {},
   "outputs": [],
   "source": [
    "import datetime\n",
    "str(datetime.datetime.now())"
   ]
  },
  {
   "cell_type": "markdown",
   "metadata": {},
   "source": [
    "# Resources and references <a id=\"doc\" />\n",
    "- [dal API](http://marsnat2.pat.dm.noao.edu:8000/api-docs/#/dal)\n",
    "We should look at fancy annotation to make this better. It would be better for programmers to have very clear documentation of the types and purposes of all parameters that can be passed to each service\n",
    "\n",
    "- [Data  Models](https://marsnat1.stage.dm.noao.edu/admin/doc/models/)\n",
    "\n",
    "- [NOAO Data Handbook](http://ast.noao.edu/sites/default/files/NOAO_DHB_v2.2.pdf) version 2.2, May 2015"
   ]
  },
  {
   "cell_type": "markdown",
   "metadata": {},
   "source": [
    "# Glossary <a id=\"glos\">\n",
    "    \n",
    "- Proc_type: Processing Type; pipeline process used to generate reduced FITS from raw FITS\n",
    "- Prod_type\n",
    "- Obs_type\n",
    "- Obs_mode\n",
    "    \n",
    "Term     | Definition\n",
    "---------|----------\n",
    "ProcType | Processing Type; pipeline process used to generate reduced FITS from raw FITS"
   ]
  },
  {
   "cell_type": "code",
   "execution_count": null,
   "metadata": {},
   "outputs": [],
   "source": []
  }
 ],
 "metadata": {
  "kernelspec": {
   "display_name": "Python 3",
   "language": "python",
   "name": "python3"
  },
  "language_info": {
   "codemirror_mode": {
    "name": "ipython",
    "version": 3
   },
   "file_extension": ".py",
   "mimetype": "text/x-python",
   "name": "python",
   "nbconvert_exporter": "python",
   "pygments_lexer": "ipython3",
   "version": "3.6.8"
  }
 },
 "nbformat": 4,
 "nbformat_minor": 2
}
