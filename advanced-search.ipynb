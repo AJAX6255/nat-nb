{
 "cells": [
  {
   "cell_type": "markdown",
   "metadata": {},
   "source": [
    "[go here](#here)"
   ]
  },
  {
   "cell_type": "markdown",
   "metadata": {},
   "source": [
    "# [NSF's OIR Lab](https://nationalastro.org/) Astro Data Archive: Advanced Search\n",
    "\n",
    "\n",
    "[Community Science and Data Center](https://nationalastro.org/programs/csdc/)"
   ]
  },
  {
   "cell_type": "markdown",
   "metadata": {},
   "source": [
    "### Table Of Contents:\n",
    "* [Goals & notebook summary](#goals)\n",
    "* [Summary of this API (list of web services)](#summary)\n",
    "* [Imports and setup](#init)\n",
    "* [Details](#details); Example of every service. Special cases. Error Handling\n",
    "  * [Get Core File fields](#core_file)\n",
    "  * [Get Aux File fields](#aux_file)\n",
    "  * [Search Files](#file_search)\n",
    "      \n",
    "  * [Get Core HDU fields](#core_hdu)\n",
    "  * [Get Aux HDU fields](#aux_hdu)\n",
    "  * [Search HDUs](#hdu_search)\n",
    "  \n",
    "* [What if something goes wrong](#errors) (errors)\n",
    "\n",
    "* [Resources and references](#doc)\n",
    "* [Glossary](#glos)\n",
    "\n",
    "## Still needed\n",
    "- define our special terms (ADD MORE), keep glossary out of the way at end\n",
    "  + Proctype\n",
    "- search services should say: No Results, Searched N (File or HDU) records of total available of N Files/HDUs\n",
    "- provide convenience function in notebook for pretty Error display\n",
    "- Examples of all output formats (json,xml,csv) for each web-service type that sports \"format\"\n",
    "- display file found in search (see sia.ipynb)\n",
    "- **Services to get the values of each categorical**: proc_type, prod_type, obs_type, obs_mode\n",
    "- Doc all \"modifiers\" used in search spec that say how to match value to field (eg. val_overlap)"
   ]
  },
  {
   "cell_type": "markdown",
   "metadata": {},
   "source": [
    "<a class=\"anchor\" id=\"goals\"></a>\n",
    "# Goals\n",
    "Instructions and examples for using Advanced Search API for accessing OIRLab Archive metadata.\n",
    "\n",
    "# Notebook Summary\n",
    "We show you how to use the API to search the Archive for FITS files by **any** field in the FITS headers.\n",
    "\n",
    "Most of the _*search/_ service calls are made with a _limit_ parameter which reduces the amount of output and may speed up the search.  If you don't think you are getting all your results, make sure you have removed the limit parameter!"
   ]
  },
  {
   "cell_type": "markdown",
   "metadata": {},
   "source": [
    "#### Add \"about the current archive\"; give various stats (number of files, hdus in archive; period of time covered; most recently added; list of telescopes/insruments!!!"
   ]
  },
  {
   "cell_type": "markdown",
   "metadata": {},
   "source": [
    "## Summary of this API (list of web services) <a id=\"summary\">\n",
    "For full list, see: [http://marsnat2.pat.dm.noao.edu:8000/api-docs/#/api](http://marsnat2.pat.dm.noao.edu:8000/api-docs/#/api)\n",
    "\n",
    "1. [GET] `{ADS}/aux_file_fields/{instrument}/{proctype}/`\n",
    "   Get fieldnames available from FitsFiles.\n",
    "3. [GET] `{ADS}/aux_hdu_fields/{instrument}/{proctype}/`\n",
    "   Get fieldnames available from HDUs.\n",
    "5. [GET] `{ADS}/core_file_fields/`\n",
    "7. [GET] `{ADS}/core_hdu_fields/`\n",
    "9. [POST] `{ADS}/fasearch/`\n",
    "11. [POST] `{ADS}/hasearch/`\n",
    "\n",
    "Services of form `core_<type>_fields` (where <type> is one of: \"file\",\"hdu\") return the list of optimized fields you can search against. \n",
    "\n",
    "Services of form `aux_<type>_fields` (where <type> is one of: \"file\",\"hdu\") are used to return ALL of the FITS header field names that are not alreay included in the \"core\" lists.  These services require a specific Instrument and Proc_type [define!!!] be given. These fields have no search optimizations so using any of these will slow down your searches.\n",
    "\n",
    "Services of form `fasearch` or `hasearch` (File/Hdu Advanced SEARCH) perform a search against full FITS files. They are accessed via a  HTTP POST (link) that takes a search specification in its JSON payload.\n"
   ]
  },
  {
   "cell_type": "markdown",
   "metadata": {},
   "source": [
    "## Imports and setup <a id=\"init\">\n",
    "Some of this is just for presentation in the juypter notebook.  You may not need it all."
   ]
  },
  {
   "cell_type": "code",
   "execution_count": 6,
   "metadata": {},
   "outputs": [
    {
     "name": "stdout",
     "output_type": "stream",
     "text": [
      "Using Python version: 3.6.9 (default, Nov  7 2019, 10:44:02) \n",
      "[GCC 8.3.0]\n",
      "\n",
      "This Jupyter Notebook uses (some of) these packages:\n",
      "\n",
      "pandas==0.23.4\n",
      "matplotlib==3.0.2\n",
      "ipython==7.2.0\n",
      "jupyter==1.0.0\n",
      "requests==2.22.0\n",
      "astropy==3.2.1\n",
      "\n"
     ]
    }
   ],
   "source": [
    "import sys\n",
    "import pandas as pd\n",
    "import matplotlib.pyplot as plt\n",
    "import matplotlib\n",
    "import numpy as np\n",
    "import astropy.io.fits as pyfits\n",
    "import astropy.utils as autils\n",
    "import requests\n",
    "import json\n",
    "from pprint import pprint as pp  # pretty print\n",
    "\n",
    "print(f'Using Python version: {sys.version}\\n')\n",
    "with open (\"requirements.txt\", \"r\") as f:\n",
    "    data=f.readlines()\n",
    "print(f'This Jupyter Notebook uses (some of) these packages:\\n\\n{\"\".join(data)}')"
   ]
  },
  {
   "cell_type": "code",
   "execution_count": 2,
   "metadata": {},
   "outputs": [
    {
     "data": {
      "text/plain": [
       "'https://marsnat1.stage.dm.noao.edu/api/adv_search'"
      ]
     },
     "execution_count": 2,
     "metadata": {},
     "output_type": "execute_result"
    }
   ],
   "source": [
    "# UTILS are settings for HOST etc. that you won't need to use the API\n",
    "# but are used here to make this notebook more portable.\n",
    "%run utils.ipynb\n",
    "tic() # start tracking time of Notebook load\n",
    "\n",
    "adsurl = f'{natroot}/api/adv_search'\n",
    "adsurl"
   ]
  },
  {
   "cell_type": "markdown",
   "metadata": {},
   "source": [
    "## Details <a id=\"details\">\n",
    "    \n",
    "* [Get Core File fields](#core_file)\n",
    "* [Get Aux File fields](#aux_file)\n",
    "* [Search Files](#file_search)\n",
    "  \n",
    "* [Get Core HDU fields](#core_hdu)\n",
    "* [Get Aux HDU fields](#aux_hdu)\n",
    "* [Search HDUs](#hdu_search)\n",
    "  \n",
    "* [What if something goes wrong](#errors) (errors)\n",
    "\n",
    "Notes: \n",
    "- `File` fields and searches refer the Primary HDU of a FITS file. (the field names may be a little different from how they appear in the FITS header since not all FITS headers use the same keywords for the same thing.)  \n",
    "\n",
    "- `HDU` fields and searches refer to non-primary HDUs of a FITS file. There are up to 70 times more HDU records as File records (depending on the source of the FITS file).\n",
    "\n",
    "- All of these web services accept a `format` parameter in the HTTP query string.  This defines the format of the output. I can be one of: json (the default), csv, xml\n",
    "\n",
    "- For the sake readability in this notebook, output is often stored in a Pandas DataFrame for display.\n",
    "\n",
    "- Searches in this notebook use a `limit` parameter to reduce the number of records returned.\n",
    "\n",
    "- Strings accept search modifiers: _exact, iexact, startswith, istartswith, endswith, iendswith, contains, icontains, regex, iregex_ (as described in [Django QuerySet API](https://docs.djangoproject.com/en/2.2/ref/models/querysets/)"
   ]
  },
  {
   "cell_type": "markdown",
   "metadata": {},
   "source": [
    "## Get Core and Aux fields for Files and HDUs\n",
    "Retrieve list of fields (with data-types) to use later in specifying which fields to filter and which ones to return in the filtered results.\n",
    "### Get Core File field names and types <a id=\"core_file\" />\n",
    "These occur once per FITS file and are optimized for fast search. Output is field-name, data-type pairs.  The data-types are intended to be used with Pandas. Note that \"catagory\" types refer to relatively small sets of acceptable values.  These sets have values added to them occasionally."
   ]
  },
  {
   "cell_type": "code",
   "execution_count": 3,
   "metadata": {},
   "outputs": [
    {
     "data": {
      "text/plain": [
       "{'archive_filename': 'str',\n",
       " 'caldat': 'datetime64',\n",
       " 'date_obs_max': 'datetime64',\n",
       " 'date_obs_min': 'datetime64',\n",
       " 'dec_max': 'np.float64',\n",
       " 'dec_min': 'np.float64',\n",
       " 'depth': 'np.float64',\n",
       " 'exposure': 'np.float64',\n",
       " 'filesize': 'np.int64',\n",
       " 'ifilter': 'category',\n",
       " 'instrument': 'category',\n",
       " 'md5sum': 'str',\n",
       " 'obs_mode': 'category',\n",
       " 'obs_type': 'category',\n",
       " 'original_filename': 'str',\n",
       " 'proc_type': 'category',\n",
       " 'prod_type': 'category',\n",
       " 'proposal': 'category',\n",
       " 'ra_max': 'np.float64',\n",
       " 'ra_min': 'np.float64',\n",
       " 'release_date': 'datetime64',\n",
       " 'seeing': 'np.float64',\n",
       " 'site': 'category',\n",
       " 'survey': 'category',\n",
       " 'telescope': 'category',\n",
       " 'updated': 'datetime64'}"
      ]
     },
     "execution_count": 3,
     "metadata": {},
     "output_type": "execute_result"
    }
   ],
   "source": [
    "requests.get(f'{adsurl}/core_file_fields').json()"
   ]
  },
  {
   "cell_type": "markdown",
   "metadata": {},
   "source": [
    "### Get Aux File field names and types <a id=\"aux_file\" />\n",
    "These occur once per FITS file but will be slower to search.  All keywords from the Primary HDU (except those in Core File Fields) are included. All types default to \"str\", but with input from experts we can refine these."
   ]
  },
  {
   "cell_type": "code",
   "execution_count": 4,
   "metadata": {},
   "outputs": [
    {
     "data": {
      "text/plain": [
       "{'AIRMASS': 'str',\n",
       " 'AOS': 'str',\n",
       " 'ASTIG1': 'str',\n",
       " 'ASTIG2': 'str',\n",
       " 'AZ': 'str',\n",
       " 'BCAM': 'str',\n",
       " 'CALMODE': 'str',\n",
       " 'CAMSHUT': 'str',\n",
       " 'CHECKVER': 'str',\n",
       " 'CONSTVER': 'str',\n",
       " 'DARKTIME': 'str',\n",
       " 'DATE-OBS': 'str',\n",
       " 'DEC': 'str',\n",
       " 'DETSIZE': 'str',\n",
       " 'DIMM2SEE': 'str',\n",
       " 'DIMMSEE': 'str',\n",
       " 'DODX': 'str',\n",
       " 'DODY': 'str',\n",
       " 'DODZ': 'str',\n",
       " 'DOMEAZ': 'str',\n",
       " 'DOMEFLOR': 'str',\n",
       " 'DOMEHIGH': 'str',\n",
       " 'DOMELOW': 'str',\n",
       " 'DONUTFN1': 'str',\n",
       " 'DONUTFN2': 'str',\n",
       " 'DONUTFN3': 'str',\n",
       " 'DONUTFN4': 'str',\n",
       " 'DONUTFS1': 'str',\n",
       " 'DONUTFS2': 'str',\n",
       " 'DONUTFS3': 'str',\n",
       " 'DONUTFS4': 'str',\n",
       " 'DOXT': 'str',\n",
       " 'DOYT': 'str',\n",
       " 'DTACCOUN': 'str',\n",
       " 'DTACQNAM': 'str',\n",
       " 'DTACQUIS': 'str',\n",
       " 'DTCALDAT': 'str',\n",
       " 'DTCOPYRI': 'str',\n",
       " 'DTINSTRU': 'str',\n",
       " 'DTNSANAM': 'str',\n",
       " 'DTOBSERV': 'str',\n",
       " 'DTPI': 'str',\n",
       " 'DTPIAFFL': 'str',\n",
       " 'DTPROPID': 'str',\n",
       " 'DTQUEUE': 'str',\n",
       " 'DT_RTNAM': 'str',\n",
       " 'DTSITE': 'str',\n",
       " 'DTSTATUS': 'str',\n",
       " 'DTTELESC': 'str',\n",
       " 'DTTITLE': 'str',\n",
       " 'DTUTC': 'str',\n",
       " 'ERRORS': 'str',\n",
       " 'EXCLUDED': 'str',\n",
       " 'EXPNUM': 'str',\n",
       " 'EXPREQ': 'str',\n",
       " 'EXPTIME': 'str',\n",
       " 'FADX': 'str',\n",
       " 'FADY': 'str',\n",
       " 'FADZ': 'str',\n",
       " 'FAXT': 'str',\n",
       " 'FAYT': 'str',\n",
       " 'FILENAME': 'str',\n",
       " 'FILTER': 'str',\n",
       " 'FILTPOS': 'str',\n",
       " 'G-CCDNUM': 'str',\n",
       " 'G-FEEDBK': 'str',\n",
       " 'G-FLXVAR': 'str',\n",
       " 'G-LATENC': 'str',\n",
       " 'G-MAXX': 'str',\n",
       " 'G-MAXY': 'str',\n",
       " 'G-MEANX': 'str',\n",
       " 'G-MEANX2': 'str',\n",
       " 'G-MEANXY': 'str',\n",
       " 'G-MEANY': 'str',\n",
       " 'G-MEANY2': 'str',\n",
       " 'G-MODE': 'str',\n",
       " 'G-SEEING': 'str',\n",
       " 'GSKYHOT': 'str',\n",
       " 'GSKYPHOT': 'str',\n",
       " 'GSKYVAR': 'str',\n",
       " 'G-TRANSP': 'str',\n",
       " 'GUIDER': 'str',\n",
       " 'HA': 'str',\n",
       " 'HDRVER': 'str',\n",
       " 'HEX': 'str',\n",
       " 'HUMIDITY': 'str',\n",
       " 'INSTANCE': 'str',\n",
       " 'INSTRUME': 'str',\n",
       " 'LSKYHOT': 'str',\n",
       " 'LSKYPHOT': 'str',\n",
       " 'LSKYPOW': 'str',\n",
       " 'LSKYVAR': 'str',\n",
       " 'LUTVER': 'str',\n",
       " 'LWTRTEMP': 'str',\n",
       " 'MAIRTEMP': 'str',\n",
       " 'MASS2': 'str',\n",
       " 'MJD-OBS': 'str',\n",
       " 'MSURTEMP': 'str',\n",
       " 'MULTIEXP': 'str',\n",
       " 'NEXTEND': 'str',\n",
       " 'NOTE': 'str',\n",
       " 'OBJECT': 'str',\n",
       " 'OBS-ELEV': 'str',\n",
       " 'OBSERVAT': 'str',\n",
       " 'OBSERVER': 'str',\n",
       " 'OBSID': 'str',\n",
       " 'OBS-LAT': 'str',\n",
       " 'OBS-LONG': 'str',\n",
       " 'OBSTYPE': 'str',\n",
       " 'ODATEOBS': 'str',\n",
       " 'OPENSHUT': 'str',\n",
       " 'OUTTEMP': 'str',\n",
       " 'PIXSCAL1': 'str',\n",
       " 'PIXSCAL2': 'str',\n",
       " 'PME-TEMP': 'str',\n",
       " 'PMN-TEMP': 'str',\n",
       " 'PMOSTEMP': 'str',\n",
       " 'PMS-TEMP': 'str',\n",
       " 'PMW-TEMP': 'str',\n",
       " 'PRESSURE': 'str',\n",
       " 'PROCTYPE': 'str',\n",
       " 'PRODTYPE': 'str',\n",
       " 'PROGRAM': 'str',\n",
       " 'PROPID': 'str',\n",
       " 'PROPOSER': 'str',\n",
       " 'RA': 'str',\n",
       " 'RADESYS': 'str',\n",
       " 'RECNO': 'str',\n",
       " 'RMCOUNT': 'str',\n",
       " 'SB_ACCOU': 'str',\n",
       " 'SB_DIR1': 'str',\n",
       " 'SB_DIR2': 'str',\n",
       " 'SB_DIR3': 'str',\n",
       " 'SB_HOST': 'str',\n",
       " 'SB_ID': 'str',\n",
       " 'SB_LOCAL': 'str',\n",
       " 'SB_NAME': 'str',\n",
       " 'SB_RECNO': 'str',\n",
       " 'SB_RTNAM': 'str',\n",
       " 'SB_SITE': 'str',\n",
       " 'SEQID': 'str',\n",
       " 'SEQNUM': 'str',\n",
       " 'SEQTOT': 'str',\n",
       " 'SISPIVER': 'str',\n",
       " 'SKYSTAT': 'str',\n",
       " 'SKYUPDAT': 'str',\n",
       " 'TELDEC': 'str',\n",
       " 'TELEQUIN': 'str',\n",
       " 'TELESCOP': 'str',\n",
       " 'TELFOCUS': 'str',\n",
       " 'TELRA': 'str',\n",
       " 'TELSTAT': 'str',\n",
       " 'TILING': 'str',\n",
       " 'TIME-OBS': 'str',\n",
       " 'TIMESYS': 'str',\n",
       " 'UPTRTEMP': 'str',\n",
       " 'UTE-TEMP': 'str',\n",
       " 'UTN-TEMP': 'str',\n",
       " 'UTS-TEMP': 'str',\n",
       " 'UTW-TEMP': 'str',\n",
       " 'VSUB': 'str',\n",
       " 'WINDDIR': 'str',\n",
       " 'WINDSPD': 'str',\n",
       " 'ZD': 'str',\n",
       " 'ZPDELDEC': 'str',\n",
       " 'ZPDELRA': 'str'}"
      ]
     },
     "execution_count": 4,
     "metadata": {},
     "output_type": "execute_result"
    }
   ],
   "source": [
    "requests.get(f'{adsurl}/aux_file_fields/decam/raw/').json()"
   ]
  },
  {
   "cell_type": "markdown",
   "metadata": {},
   "source": [
    "## Advanced File Search of Core and Aux fields, results into Pandas <a id=\"file_search\" />"
   ]
  },
  {
   "cell_type": "markdown",
   "metadata": {},
   "source": [
    "### Search Files\n",
    "- Use Database derived field, \"ra_min\"\n",
    "- Use _AUX_ field in output and search\n",
    "- Limit maximum number of results (rows) returned\n",
    "- Load results into [Pandas DataFrame](https://pandas.pydata.org/pandas-docs/stable/reference/api/pandas.DataFrame.html#pandas.DataFrame)"
   ]
  },
  {
   "cell_type": "code",
   "execution_count": 12,
   "metadata": {
    "scrolled": true
   },
   "outputs": [
    {
     "name": "stdout",
     "output_type": "stream",
     "text": [
      "Using API url: https://marsnat1.stage.dm.noao.edu/api/adv_search/fasearch/?limit=10\n"
     ]
    },
    {
     "data": {
      "text/html": [
       "<div>\n",
       "<style scoped>\n",
       "    .dataframe tbody tr th:only-of-type {\n",
       "        vertical-align: middle;\n",
       "    }\n",
       "\n",
       "    .dataframe tbody tr th {\n",
       "        vertical-align: top;\n",
       "    }\n",
       "\n",
       "    .dataframe thead th {\n",
       "        text-align: right;\n",
       "    }\n",
       "</style>\n",
       "<table border=\"1\" class=\"dataframe\">\n",
       "  <thead>\n",
       "    <tr style=\"text-align: right;\">\n",
       "      <th></th>\n",
       "      <th>AIRMASS</th>\n",
       "      <th>EXPNUM</th>\n",
       "      <th>archive_filename</th>\n",
       "      <th>instrument</th>\n",
       "      <th>md5sum</th>\n",
       "      <th>obs_type</th>\n",
       "      <th>proc_type</th>\n",
       "      <th>proposal</th>\n",
       "      <th>ra_min</th>\n",
       "      <th>release_date</th>\n",
       "      <th>url</th>\n",
       "    </tr>\n",
       "  </thead>\n",
       "  <tbody>\n",
       "    <tr>\n",
       "      <th>0</th>\n",
       "      <td>1.40</td>\n",
       "      <td>667098</td>\n",
       "      <td>/net/archive/mtn/20170814/ct4m/2017B-0951/c4d_...</td>\n",
       "      <td>decam</td>\n",
       "      <td>10ca3658469336b34d836967b9df26c1</td>\n",
       "      <td>object</td>\n",
       "      <td>raw</td>\n",
       "      <td>2017B-0951</td>\n",
       "      <td>322.493042</td>\n",
       "      <td>2017-09-13</td>\n",
       "      <td>https://marsnat1.stage.dm.noao.edu/api/adv_sea...</td>\n",
       "    </tr>\n",
       "    <tr>\n",
       "      <th>1</th>\n",
       "      <td>1.41</td>\n",
       "      <td>667099</td>\n",
       "      <td>/net/archive/mtn/20170814/ct4m/2017B-0951/c4d_...</td>\n",
       "      <td>decam</td>\n",
       "      <td>40a3bc0e4812b336e93ef751eb273325</td>\n",
       "      <td>object</td>\n",
       "      <td>raw</td>\n",
       "      <td>2017B-0951</td>\n",
       "      <td>322.493042</td>\n",
       "      <td>2017-09-13</td>\n",
       "      <td>https://marsnat1.stage.dm.noao.edu/api/adv_sea...</td>\n",
       "    </tr>\n",
       "    <tr>\n",
       "      <th>2</th>\n",
       "      <td>1.44</td>\n",
       "      <td>667111</td>\n",
       "      <td>/net/archive/mtn/20170814/ct4m/2017B-0951/c4d_...</td>\n",
       "      <td>decam</td>\n",
       "      <td>5174181ec36de019f6ccb563a706fb48</td>\n",
       "      <td>object</td>\n",
       "      <td>raw</td>\n",
       "      <td>2017B-0951</td>\n",
       "      <td>322.493042</td>\n",
       "      <td>2017-09-13</td>\n",
       "      <td>https://marsnat1.stage.dm.noao.edu/api/adv_sea...</td>\n",
       "    </tr>\n",
       "    <tr>\n",
       "      <th>3</th>\n",
       "      <td>1.40</td>\n",
       "      <td>667095</td>\n",
       "      <td>/net/archive/mtn/20170814/ct4m/2017B-0951/c4d_...</td>\n",
       "      <td>decam</td>\n",
       "      <td>6b533d96e76490261f37cdf75cfae2db</td>\n",
       "      <td>object</td>\n",
       "      <td>raw</td>\n",
       "      <td>2017B-0951</td>\n",
       "      <td>322.493042</td>\n",
       "      <td>2017-09-13</td>\n",
       "      <td>https://marsnat1.stage.dm.noao.edu/api/adv_sea...</td>\n",
       "    </tr>\n",
       "    <tr>\n",
       "      <th>4</th>\n",
       "      <td>1.44</td>\n",
       "      <td>667110</td>\n",
       "      <td>/net/archive/mtn/20170814/ct4m/2017B-0951/c4d_...</td>\n",
       "      <td>decam</td>\n",
       "      <td>928d5dcee69f591aab9251b1b242386b</td>\n",
       "      <td>object</td>\n",
       "      <td>raw</td>\n",
       "      <td>2017B-0951</td>\n",
       "      <td>322.493042</td>\n",
       "      <td>2017-09-13</td>\n",
       "      <td>https://marsnat1.stage.dm.noao.edu/api/adv_sea...</td>\n",
       "    </tr>\n",
       "    <tr>\n",
       "      <th>5</th>\n",
       "      <td>1.44</td>\n",
       "      <td>667109</td>\n",
       "      <td>/net/archive/mtn/20170814/ct4m/2017B-0951/c4d_...</td>\n",
       "      <td>decam</td>\n",
       "      <td>a241d847f02ef71d9884173f0d33f851</td>\n",
       "      <td>object</td>\n",
       "      <td>raw</td>\n",
       "      <td>2017B-0951</td>\n",
       "      <td>322.493042</td>\n",
       "      <td>2017-09-13</td>\n",
       "      <td>https://marsnat1.stage.dm.noao.edu/api/adv_sea...</td>\n",
       "    </tr>\n",
       "    <tr>\n",
       "      <th>6</th>\n",
       "      <td>1.44</td>\n",
       "      <td>667108</td>\n",
       "      <td>/net/archive/mtn/20170814/ct4m/2017B-0951/c4d_...</td>\n",
       "      <td>decam</td>\n",
       "      <td>b098def5d197da8b6839fa28beff1c18</td>\n",
       "      <td>object</td>\n",
       "      <td>raw</td>\n",
       "      <td>2017B-0951</td>\n",
       "      <td>322.493042</td>\n",
       "      <td>2017-09-13</td>\n",
       "      <td>https://marsnat1.stage.dm.noao.edu/api/adv_sea...</td>\n",
       "    </tr>\n",
       "    <tr>\n",
       "      <th>7</th>\n",
       "      <td>1.41</td>\n",
       "      <td>667100</td>\n",
       "      <td>/net/archive/mtn/20170814/ct4m/2017B-0951/c4d_...</td>\n",
       "      <td>decam</td>\n",
       "      <td>c5519e510248cd702d6c46fc71d1b7f7</td>\n",
       "      <td>object</td>\n",
       "      <td>raw</td>\n",
       "      <td>2017B-0951</td>\n",
       "      <td>322.493042</td>\n",
       "      <td>2017-09-13</td>\n",
       "      <td>https://marsnat1.stage.dm.noao.edu/api/adv_sea...</td>\n",
       "    </tr>\n",
       "    <tr>\n",
       "      <th>8</th>\n",
       "      <td>1.44</td>\n",
       "      <td>667107</td>\n",
       "      <td>/net/archive/mtn/20170814/ct4m/2017B-0951/c4d_...</td>\n",
       "      <td>decam</td>\n",
       "      <td>cb6d686c7fe9764e01028d9a829c2689</td>\n",
       "      <td>object</td>\n",
       "      <td>raw</td>\n",
       "      <td>2017B-0951</td>\n",
       "      <td>322.493042</td>\n",
       "      <td>2017-09-13</td>\n",
       "      <td>https://marsnat1.stage.dm.noao.edu/api/adv_sea...</td>\n",
       "    </tr>\n",
       "    <tr>\n",
       "      <th>9</th>\n",
       "      <td>1.45</td>\n",
       "      <td>667112</td>\n",
       "      <td>/net/archive/mtn/20170814/ct4m/2017B-0951/c4d_...</td>\n",
       "      <td>decam</td>\n",
       "      <td>d8f62f14e40bf25f5f1f9af038927e1a</td>\n",
       "      <td>object</td>\n",
       "      <td>raw</td>\n",
       "      <td>2017B-0951</td>\n",
       "      <td>322.493042</td>\n",
       "      <td>2017-09-13</td>\n",
       "      <td>https://marsnat1.stage.dm.noao.edu/api/adv_sea...</td>\n",
       "    </tr>\n",
       "  </tbody>\n",
       "</table>\n",
       "</div>"
      ],
      "text/plain": [
       "   AIRMASS  EXPNUM                                   archive_filename  \\\n",
       "0     1.40  667098  /net/archive/mtn/20170814/ct4m/2017B-0951/c4d_...   \n",
       "1     1.41  667099  /net/archive/mtn/20170814/ct4m/2017B-0951/c4d_...   \n",
       "2     1.44  667111  /net/archive/mtn/20170814/ct4m/2017B-0951/c4d_...   \n",
       "3     1.40  667095  /net/archive/mtn/20170814/ct4m/2017B-0951/c4d_...   \n",
       "4     1.44  667110  /net/archive/mtn/20170814/ct4m/2017B-0951/c4d_...   \n",
       "5     1.44  667109  /net/archive/mtn/20170814/ct4m/2017B-0951/c4d_...   \n",
       "6     1.44  667108  /net/archive/mtn/20170814/ct4m/2017B-0951/c4d_...   \n",
       "7     1.41  667100  /net/archive/mtn/20170814/ct4m/2017B-0951/c4d_...   \n",
       "8     1.44  667107  /net/archive/mtn/20170814/ct4m/2017B-0951/c4d_...   \n",
       "9     1.45  667112  /net/archive/mtn/20170814/ct4m/2017B-0951/c4d_...   \n",
       "\n",
       "  instrument                            md5sum obs_type proc_type    proposal  \\\n",
       "0      decam  10ca3658469336b34d836967b9df26c1   object       raw  2017B-0951   \n",
       "1      decam  40a3bc0e4812b336e93ef751eb273325   object       raw  2017B-0951   \n",
       "2      decam  5174181ec36de019f6ccb563a706fb48   object       raw  2017B-0951   \n",
       "3      decam  6b533d96e76490261f37cdf75cfae2db   object       raw  2017B-0951   \n",
       "4      decam  928d5dcee69f591aab9251b1b242386b   object       raw  2017B-0951   \n",
       "5      decam  a241d847f02ef71d9884173f0d33f851   object       raw  2017B-0951   \n",
       "6      decam  b098def5d197da8b6839fa28beff1c18   object       raw  2017B-0951   \n",
       "7      decam  c5519e510248cd702d6c46fc71d1b7f7   object       raw  2017B-0951   \n",
       "8      decam  cb6d686c7fe9764e01028d9a829c2689   object       raw  2017B-0951   \n",
       "9      decam  d8f62f14e40bf25f5f1f9af038927e1a   object       raw  2017B-0951   \n",
       "\n",
       "       ra_min release_date                                                url  \n",
       "0  322.493042   2017-09-13  https://marsnat1.stage.dm.noao.edu/api/adv_sea...  \n",
       "1  322.493042   2017-09-13  https://marsnat1.stage.dm.noao.edu/api/adv_sea...  \n",
       "2  322.493042   2017-09-13  https://marsnat1.stage.dm.noao.edu/api/adv_sea...  \n",
       "3  322.493042   2017-09-13  https://marsnat1.stage.dm.noao.edu/api/adv_sea...  \n",
       "4  322.493042   2017-09-13  https://marsnat1.stage.dm.noao.edu/api/adv_sea...  \n",
       "5  322.493042   2017-09-13  https://marsnat1.stage.dm.noao.edu/api/adv_sea...  \n",
       "6  322.493042   2017-09-13  https://marsnat1.stage.dm.noao.edu/api/adv_sea...  \n",
       "7  322.493042   2017-09-13  https://marsnat1.stage.dm.noao.edu/api/adv_sea...  \n",
       "8  322.493042   2017-09-13  https://marsnat1.stage.dm.noao.edu/api/adv_sea...  \n",
       "9  322.493042   2017-09-13  https://marsnat1.stage.dm.noao.edu/api/adv_sea...  "
      ]
     },
     "execution_count": 12,
     "metadata": {},
     "output_type": "execute_result"
    }
   ],
   "source": [
    "jj = {\n",
    "    \"outfields\" : [\n",
    "        \"md5sum\",\n",
    "        \"ra_min\",  # \"ra\" is a \"range_field\" in Postgres, access either part of range\n",
    "        \"archive_filename\",\n",
    "        \"instrument\",\n",
    "        \"proc_type\",\n",
    "        \"obs_type\",\n",
    "        \"release_date\",\n",
    "        \"proposal\",\n",
    "        \"EXPNUM\",    # AUX field. Slows search\n",
    "        \"AIRMASS\",\n",
    "    ],\n",
    "    \"search\" : [\n",
    "        [\"instrument\", \"decam\"],\n",
    "        [\"proc_type\", \"raw\"],\n",
    "        [\"ra_min\",322,323],\n",
    "        [\"EXPNUM\", 667000, 669000],\n",
    "    ]\n",
    "}\n",
    "apiurl = f'{adsurl}/fasearch/?limit=10'\n",
    "print(f'Using API url: {apiurl}')\n",
    "pd.read_json(json.dumps(requests.post(apiurl,json=jj).json()))"
   ]
  },
  {
   "cell_type": "markdown",
   "metadata": {},
   "source": [
    "### Find files available for download\n",
    "You can comment one or the other of the \"release_date\" search lines to find either public files or proprietary files.\n",
    "You can retrieve the public files without authentication. But to retrieve the proprietary files you must be an authenticated PI of a proposal associated with the file. Metadata has no proprietary period."
   ]
  },
  {
   "cell_type": "code",
   "execution_count": 6,
   "metadata": {
    "scrolled": false
   },
   "outputs": [
    {
     "name": "stdout",
     "output_type": "stream",
     "text": [
      "Using API url: https://marsnat1.stage.dm.noao.edu/api/adv_search/fasearch/?limit=5\n"
     ]
    },
    {
     "data": {
      "text/html": [
       "<div>\n",
       "<style scoped>\n",
       "    .dataframe tbody tr th:only-of-type {\n",
       "        vertical-align: middle;\n",
       "    }\n",
       "\n",
       "    .dataframe tbody tr th {\n",
       "        vertical-align: top;\n",
       "    }\n",
       "\n",
       "    .dataframe thead th {\n",
       "        text-align: right;\n",
       "    }\n",
       "</style>\n",
       "<table border=\"1\" class=\"dataframe\">\n",
       "  <thead>\n",
       "    <tr style=\"text-align: right;\">\n",
       "      <th></th>\n",
       "      <th>archive_filename</th>\n",
       "      <th>instrument</th>\n",
       "      <th>md5sum</th>\n",
       "      <th>obs_type</th>\n",
       "      <th>proc_type</th>\n",
       "      <th>proposal</th>\n",
       "      <th>release_date</th>\n",
       "      <th>telescope</th>\n",
       "      <th>url</th>\n",
       "    </tr>\n",
       "  </thead>\n",
       "  <tbody>\n",
       "    <tr>\n",
       "      <th>0</th>\n",
       "      <td>/net/archive/pipeline/Q20110409/C4M11A/2011040...</td>\n",
       "      <td>mosaic_2</td>\n",
       "      <td>0000004ab27d9e427bb93c640b358633</td>\n",
       "      <td>object</td>\n",
       "      <td>instcal</td>\n",
       "      <td>2011A-0477</td>\n",
       "      <td>2012-09-28</td>\n",
       "      <td>ct4m</td>\n",
       "      <td>https://marsnat1.stage.dm.noao.edu/api/adv_sea...</td>\n",
       "    </tr>\n",
       "    <tr>\n",
       "      <th>1</th>\n",
       "      <td>/net/archive/pipeline/Q20150727/DEC15A/2015072...</td>\n",
       "      <td>decam</td>\n",
       "      <td>0000065ee227de201686b54706ba58e9</td>\n",
       "      <td>object</td>\n",
       "      <td>resampled</td>\n",
       "      <td>2015A-0618</td>\n",
       "      <td>2017-01-13</td>\n",
       "      <td>ct4m</td>\n",
       "      <td>https://marsnat1.stage.dm.noao.edu/api/adv_sea...</td>\n",
       "    </tr>\n",
       "    <tr>\n",
       "      <th>2</th>\n",
       "      <td>/net/archive/pipeline/Q20161102/K4N16B/2016101...</td>\n",
       "      <td>newfirm</td>\n",
       "      <td>0000079ed58542c36a059467cc748420</td>\n",
       "      <td>object</td>\n",
       "      <td>instcal</td>\n",
       "      <td>2013B-0236</td>\n",
       "      <td>2018-04-10</td>\n",
       "      <td>kp4m</td>\n",
       "      <td>https://marsnat1.stage.dm.noao.edu/api/adv_sea...</td>\n",
       "    </tr>\n",
       "    <tr>\n",
       "      <th>3</th>\n",
       "      <td>/net/archive/mtn/20140824/soar/2014B-0602/psg_...</td>\n",
       "      <td>goodman</td>\n",
       "      <td>0000088eabc78f332e82ccfe7f4c2f8e</td>\n",
       "      <td>object</td>\n",
       "      <td>raw</td>\n",
       "      <td>2014B-0602</td>\n",
       "      <td>2016-02-15</td>\n",
       "      <td>soar</td>\n",
       "      <td>https://marsnat1.stage.dm.noao.edu/api/adv_sea...</td>\n",
       "    </tr>\n",
       "    <tr>\n",
       "      <th>4</th>\n",
       "      <td>/net/archive/pipeline/Q20130905/DEC13B/2013081...</td>\n",
       "      <td>decam</td>\n",
       "      <td>00000987d6968004b925030189ad24b9</td>\n",
       "      <td>object</td>\n",
       "      <td>instcal</td>\n",
       "      <td>2013B-0325</td>\n",
       "      <td>2015-02-09</td>\n",
       "      <td>ct4m</td>\n",
       "      <td>https://marsnat1.stage.dm.noao.edu/api/adv_sea...</td>\n",
       "    </tr>\n",
       "  </tbody>\n",
       "</table>\n",
       "</div>"
      ],
      "text/plain": [
       "                                    archive_filename instrument  \\\n",
       "0  /net/archive/pipeline/Q20110409/C4M11A/2011040...   mosaic_2   \n",
       "1  /net/archive/pipeline/Q20150727/DEC15A/2015072...      decam   \n",
       "2  /net/archive/pipeline/Q20161102/K4N16B/2016101...    newfirm   \n",
       "3  /net/archive/mtn/20140824/soar/2014B-0602/psg_...    goodman   \n",
       "4  /net/archive/pipeline/Q20130905/DEC13B/2013081...      decam   \n",
       "\n",
       "                             md5sum obs_type  proc_type    proposal  \\\n",
       "0  0000004ab27d9e427bb93c640b358633   object    instcal  2011A-0477   \n",
       "1  0000065ee227de201686b54706ba58e9   object  resampled  2015A-0618   \n",
       "2  0000079ed58542c36a059467cc748420   object    instcal  2013B-0236   \n",
       "3  0000088eabc78f332e82ccfe7f4c2f8e   object        raw  2014B-0602   \n",
       "4  00000987d6968004b925030189ad24b9   object    instcal  2013B-0325   \n",
       "\n",
       "  release_date telescope                                                url  \n",
       "0   2012-09-28      ct4m  https://marsnat1.stage.dm.noao.edu/api/adv_sea...  \n",
       "1   2017-01-13      ct4m  https://marsnat1.stage.dm.noao.edu/api/adv_sea...  \n",
       "2   2018-04-10      kp4m  https://marsnat1.stage.dm.noao.edu/api/adv_sea...  \n",
       "3   2016-02-15      soar  https://marsnat1.stage.dm.noao.edu/api/adv_sea...  \n",
       "4   2015-02-09      ct4m  https://marsnat1.stage.dm.noao.edu/api/adv_sea...  "
      ]
     },
     "execution_count": 6,
     "metadata": {},
     "output_type": "execute_result"
    }
   ],
   "source": [
    "jj = {\n",
    "    \"outfields\" : [\n",
    "        \"md5sum\",\n",
    "        \"archive_filename\",\n",
    "        \"instrument\",\n",
    "        \"telescope\",\n",
    "        \"proc_type\",\n",
    "        \"obs_type\",\n",
    "        \"release_date\",\n",
    "        \"proposal\",\n",
    "    ],\n",
    "    \"search\" : [\n",
    "        [\"release_date\", '2005-02-18','2020-01-20'], # public\n",
    "        #[\"release_date\", '2020-02-18','2020-11-18'], # proprietary\n",
    "    ]\n",
    "}\n",
    "apiurl = f'{adsurl}/fasearch/?limit=5'\n",
    "print(f'Using API url: {apiurl}')\n",
    "ads_df = pd.read_json(json.dumps(requests.post(apiurl,json=jj).json()))\n",
    "ads_df"
   ]
  },
  {
   "cell_type": "markdown",
   "metadata": {},
   "source": [
    "#### Get a URL that can be used to retrieve a single public FITS file.  \n",
    "Pasting this in your browser will result in dialog box that lets you save the file locally."
   ]
  },
  {
   "cell_type": "code",
   "execution_count": 7,
   "metadata": {},
   "outputs": [
    {
     "data": {
      "text/plain": [
       "'https://marsnat1.stage.dm.noao.edu/api/adv_search/retrieve/0000004ab27d9e427bb93c640b358633/'"
      ]
     },
     "execution_count": 7,
     "metadata": {},
     "output_type": "execute_result"
    }
   ],
   "source": [
    "selectedRow=0\n",
    "ads_df['url'][selectedRow]"
   ]
  },
  {
   "cell_type": "markdown",
   "metadata": {},
   "source": [
    "# FIX!!! (the working equiv of above is .../api/natica/retrieve/...)\n",
    "Do we really want the URL column to be present no matter what user asks for?!? Takes up space and they may not want it."
   ]
  },
  {
   "cell_type": "markdown",
   "metadata": {},
   "source": [
    "#### This gets no results (no Archive filename ends with \"FOOBAR\")\n",
    "The \"archive_filename\" is a string type so there are many modifiers that can be used with it: \n",
    "_exact, iexact, startswith, istartswith, endswith, iendswith, contains, icontains, regex, iregex_\n"
   ]
  },
  {
   "cell_type": "code",
   "execution_count": 8,
   "metadata": {
    "scrolled": true
   },
   "outputs": [
    {
     "data": {
      "text/html": [
       "<div>\n",
       "<style scoped>\n",
       "    .dataframe tbody tr th:only-of-type {\n",
       "        vertical-align: middle;\n",
       "    }\n",
       "\n",
       "    .dataframe tbody tr th {\n",
       "        vertical-align: top;\n",
       "    }\n",
       "\n",
       "    .dataframe thead th {\n",
       "        text-align: right;\n",
       "    }\n",
       "</style>\n",
       "<table border=\"1\" class=\"dataframe\">\n",
       "  <thead>\n",
       "    <tr style=\"text-align: right;\">\n",
       "      <th></th>\n",
       "    </tr>\n",
       "  </thead>\n",
       "  <tbody>\n",
       "  </tbody>\n",
       "</table>\n",
       "</div>"
      ],
      "text/plain": [
       "Empty DataFrame\n",
       "Columns: []\n",
       "Index: []"
      ]
     },
     "execution_count": 8,
     "metadata": {},
     "output_type": "execute_result"
    }
   ],
   "source": [
    "jj = {\n",
    "    \"outfields\" : [\"archive_filename\", \"md5sum\"],\n",
    "    \"search\" : [\n",
    "        [\"archive_filename\", \"k4m_170308_045842_ori.fits.fz.FOOBAR\", 'endswith'],\n",
    "    ]\n",
    "}\n",
    "pd.read_json(json.dumps(requests.post(f'{adsurl}/fasearch/?limit=9',json=jj).json()))"
   ]
  },
  {
   "cell_type": "markdown",
   "metadata": {},
   "source": [
    "### Can we return something better for above when there are zero results? !!!"
   ]
  },
  {
   "cell_type": "markdown",
   "metadata": {},
   "source": [
    "### It is an error to search using AUX field without limiting to instrument\n",
    "An error is raised if an AUX field is in the search clause without also searching for and *instrument* and *proc_type*. Uncommenting the *instrument* line below will fix the problem."
   ]
  },
  {
   "cell_type": "code",
   "execution_count": 9,
   "metadata": {},
   "outputs": [
    {
     "data": {
      "text/plain": [
       "{'errorMessage': 'No \"instrument\" was provided when searching for AUX fields. For performance reasons you must also filter on \"instrument\" and \"proc_type\" that contain the AUX fields you are searching on (EXPNUM).',\n",
       " 'errorCode': 'NATERR'}"
      ]
     },
     "execution_count": 9,
     "metadata": {},
     "output_type": "execute_result"
    }
   ],
   "source": [
    "jj = {\n",
    "    \"outfields\" : [\n",
    "        \"md5sum\",\n",
    "        \"archive_filename\",\n",
    "        \"instrument\",\n",
    "        \"proc_type\",\n",
    "        \"EXPNUM\",    # AUX field. Slows search\n",
    "    ],\n",
    "    \"search\" : [\n",
    "        #[\"instrument\", \"decam\"],  # uncomment this to eliminate error\n",
    "        [\"proc_type\", \"raw\"],\n",
    "        [\"EXPNUM\", 667000, 669000],\n",
    "    ]\n",
    "}\n",
    "requests.post(f'{adsurl}/fasearch/?limit=9',json=jj).json()"
   ]
  },
  {
   "cell_type": "code",
   "execution_count": 10,
   "metadata": {},
   "outputs": [
    {
     "data": {
      "text/plain": [
       "'https://marsnat1.stage.dm.noao.edu/api/retrieve/0000004ab27d9e427bb93c640b358633'"
      ]
     },
     "execution_count": 10,
     "metadata": {},
     "output_type": "execute_result"
    }
   ],
   "source": [
    "fileid = ads_df['md5sum'][0]\n",
    "fileurl = f'{natroot}/api/retrieve/{fileid}'\n",
    "fileurl"
   ]
  },
  {
   "cell_type": "markdown",
   "metadata": {},
   "source": [
    "#### Attempt to get File\n",
    "There are several reasons attempt may fail, so check status!  Most reasons only apply to Proprietary files and include: \n",
    "1. There is no proposal associated with the File\n",
    "1. User is not authenticated\n",
    "1. User is not a PI or CoPI associated with the proposal\n",
    "\n",
    "For more details on retrieving proprietary files see the **api-authentication** notebook."
   ]
  },
  {
   "cell_type": "code",
   "execution_count": 11,
   "metadata": {},
   "outputs": [
    {
     "name": "stdout",
     "output_type": "stream",
     "text": [
      "content=b'<!DOCTYPE html>\\n<html lang=\"en\">\\n<head>\\n  <meta http-equiv=\"content-type\" content=\"text/html; charset=utf-8\">\\n  <title>Page not found at /api/retrieve/0000004ab27d9e427bb93c640b358633</title>\\n  <meta name=\"robots\" content=\"NONE,NOARCHIVE\">\\n  <style type=\"text/css\">\\n    html * { padding:0; margin:0; }\\n    body * { padding:10px 20px; }\\n    body * * { padding:0; }\\n    body { font:small sans-serif; background:#eee; color:#000; }\\n    body>div { border-bottom:1px solid #ddd; }\\n    h1 { font-weight:normal; margin-bottom:.4em; }\\n    h1 span { font-size:60%; color:#666; font-weight:normal; }\\n    table { border:none; border-collapse: collapse; width:100%; }\\n    td, th { vertical-align:top; padding:2px 3px; }\\n    th { width:12em; text-align:right; color:#666; padding-right:.5em; }\\n    #info { background:#f6f6f6; }\\n    #info ol { margin: 0.5em 4em; }\\n    #info ol li { font-family: monospace; }\\n    #summary { background: #ffc; }\\n    #explanation { background:#eee; border-bottom: 0px none; }\\n  </style>\\n</head>\\n<body>\\n  <div id=\"summary\">\\n    <h1>Page not found <span>(404)</span></h1>\\n    <table class=\"meta\">\\n      <tr>\\n        <th>Request Method:</th>\\n        <td>GET</td>\\n      </tr>\\n      <tr>\\n        <th>Request URL:</th>\\n        <td>https://marsnat1.stage.dm.noao.edu/api/retrieve/0000004ab27d9e427bb93c640b358633</td>\\n      </tr>\\n      \\n    </table>\\n  </div>\\n  <div id=\"info\">\\n    \\n      <p>\\n      Using the URLconf defined in <code>marssite.urls</code>,\\n      Django tried these URL patterns, in this order:\\n      </p>\\n      <ol>\\n        \\n          <li>\\n            \\n                __debug__/\\n                \\n            \\n          </li>\\n        \\n          <li>\\n            \\n                \\n                \\n            \\n                \\n                [name=\\'home\\']\\n            \\n          </li>\\n        \\n          <li>\\n            \\n                api/\\n                \\n            \\n                \\n                [name=\\'api_root\\']\\n            \\n          </li>\\n        \\n          <li>\\n            \\n                api/\\n                \\n            \\n                get_token/\\n                [name=\\'get_token\\']\\n            \\n          </li>\\n        \\n          <li>\\n            \\n                api/\\n                \\n            \\n                test_auth/\\n                [name=\\'test_auth\\']\\n            \\n          </li>\\n        \\n          <li>\\n            \\n                api/\\n                \\n            \\n                natica/retrieve/&lt;md5&gt;/\\n                [name=\\'retrieve\\']\\n            \\n          </li>\\n        \\n          <li>\\n            \\n                api/\\n                \\n            \\n                docs/\\n                [name=\\'documents\\']\\n            \\n          </li>\\n        \\n          <li>\\n            \\n                api/\\n                \\n            \\n                sia/voimg\\n                [name=\\'image_query\\']\\n            \\n          </li>\\n        \\n          <li>\\n            \\n                api/\\n                \\n            \\n                sia/voimg&lt;drf_format_suffix_votable_csv_json_xml:format&gt;\\n                [name=\\'image_query\\']\\n            \\n          </li>\\n        \\n          <li>\\n            \\n                api/\\n                \\n            \\n                sia/vohdu\\n                [name=\\'hdu_query\\']\\n            \\n          </li>\\n        \\n          <li>\\n            \\n                api/\\n                \\n            \\n                sia/vohdu&lt;drf_format_suffix_votable_csv_json_xml:format&gt;\\n                [name=\\'hdu_query\\']\\n            \\n          </li>\\n        \\n          <li>\\n            \\n                api/\\n                \\n            \\n                adv_search/core_file_fields/\\n                [name=\\'get_core_file_fields\\']\\n            \\n          </li>\\n        \\n          <li>\\n            \\n                api/\\n                \\n            \\n                adv_search/core_file_fields&lt;drf_format_suffix_votable_csv_json_xml:format&gt;\\n                [name=\\'get_core_file_fields\\']\\n            \\n          </li>\\n        \\n          <li>\\n            \\n                api/\\n                \\n            \\n                adv_search/core_hdu_fields/\\n                [name=\\'get_core_hdu_fields\\']\\n            \\n          </li>\\n        \\n          <li>\\n            \\n                api/\\n                \\n            \\n                adv_search/core_hdu_fields&lt;drf_format_suffix_votable_csv_json_xml:format&gt;\\n                [name=\\'get_core_hdu_fields\\']\\n            \\n          </li>\\n        \\n          <li>\\n            \\n                api/\\n                \\n            \\n                adv_search/aux_file_fields/&lt;instrument&gt;/&lt;proctype&gt;/\\n                [name=\\'get_aux_file_fields\\']\\n            \\n          </li>\\n        \\n          <li>\\n            \\n                api/\\n                \\n            \\n                adv_search/aux_file_fields/&lt;instrument&gt;/&lt;proctype&gt;&lt;drf_format_suffix_votable_csv_json_xml:format&gt;\\n                [name=\\'get_aux_file_fields\\']\\n            \\n          </li>\\n        \\n          <li>\\n            \\n                api/\\n                \\n            \\n                adv_search/aux_hdu_fields/&lt;instrument&gt;/&lt;proctype&gt;/\\n                [name=\\'get_aux_hdu_fields\\']\\n            \\n          </li>\\n        \\n          <li>\\n            \\n                api/\\n                \\n            \\n                adv_search/aux_hdu_fields/&lt;instrument&gt;/&lt;proctype&gt;&lt;drf_format_suffix_votable_csv_json_xml:format&gt;\\n                [name=\\'get_aux_hdu_fields\\']\\n            \\n          </li>\\n        \\n          <li>\\n            \\n                api/\\n                \\n            \\n                adv_search/fasearch/\\n                [name=\\'file_adv_search\\']\\n            \\n          </li>\\n        \\n          <li>\\n            \\n                api/\\n                \\n            \\n                adv_search/fasearch&lt;drf_format_suffix_votable_csv_json_xml:format&gt;\\n                [name=\\'file_adv_search\\']\\n            \\n          </li>\\n        \\n          <li>\\n            \\n                api/\\n                \\n            \\n                adv_search/hasearch/\\n                [name=\\'hdu_adv_search\\']\\n            \\n          </li>\\n        \\n          <li>\\n            \\n                api/\\n                \\n            \\n                adv_search/hasearch&lt;drf_format_suffix_votable_csv_json_xml:format&gt;\\n                [name=\\'hdu_adv_search\\']\\n            \\n          </li>\\n        \\n          <li>\\n            \\n                portal/\\n                \\n            \\n          </li>\\n        \\n          <li>\\n            \\n                ops/\\n                \\n            \\n          </li>\\n        \\n          <li>\\n            \\n                api-docs/\\n                \\n            \\n          </li>\\n        \\n          <li>\\n            \\n                docs/\\n                \\n            \\n          </li>\\n        \\n          <li>\\n            \\n                login/\\n                [name=\\'login\\']\\n            \\n          </li>\\n        \\n          <li>\\n            \\n                logout/\\n                [name=\\'logout\\']\\n            \\n          </li>\\n        \\n          <li>\\n            \\n                admin/doc/\\n                \\n            \\n          </li>\\n        \\n          <li>\\n            \\n                admin/\\n                \\n            \\n          </li>\\n        \\n          <li>\\n            \\n                ^static\\\\/(?P&lt;path&gt;.*)$\\n                \\n            \\n          </li>\\n        \\n      </ol>\\n      <p>\\n        \\n        The current path, <code>api/retrieve/0000004ab27d9e427bb93c640b358633</code>, didn\\'t match any of these.\\n      </p>\\n    \\n  </div>\\n\\n  <div id=\"explanation\">\\n    <p>\\n      You\\'re seeing this error because you have <code>DEBUG = True</code> in\\n      your Django settings file. Change that to <code>False</code>, and Django\\n      will display a standard 404 page.\\n    </p>\\n  </div>\\n</body>\\n</html>\\n'\n"
     ]
    },
    {
     "ename": "JSONDecodeError",
     "evalue": "Expecting value: line 1 column 1 (char 0)",
     "output_type": "error",
     "traceback": [
      "---------------------------------------------------------------------------",
      "JSONDecodeError                           Traceback (most recent call last)",
      "<ipython-input-11-dab020ec91d8> in <module>\n      8 else:\n      9     print(f'content={response.content}')\n---> 10     print(response.json()['errorMessage'])\n     11     print(response.json()['traceback'])  # for API developer use\n",
      "~/sandbox/nat-nb/venv/lib/python3.6/site-packages/requests/models.py in json(self, **kwargs)\n    895                     # used.\n    896                     pass\n--> 897         return complexjson.loads(self.text, **kwargs)\n    898 \n    899     @property\n",
      "/usr/lib/python3.6/json/__init__.py in loads(s, encoding, cls, object_hook, parse_float, parse_int, parse_constant, object_pairs_hook, **kw)\n    352             parse_int is None and parse_float is None and\n    353             parse_constant is None and object_pairs_hook is None and not kw):\n--> 354         return _default_decoder.decode(s)\n    355     if cls is None:\n    356         cls = JSONDecoder\n",
      "/usr/lib/python3.6/json/decoder.py in decode(self, s, _w)\n    337 \n    338         \"\"\"\n--> 339         obj, end = self.raw_decode(s, idx=_w(s, 0).end())\n    340         end = _w(s, end).end()\n    341         if end != len(s):\n",
      "/usr/lib/python3.6/json/decoder.py in raw_decode(self, s, idx)\n    355             obj, end = self.scan_once(s, idx)\n    356         except StopIteration as err:\n--> 357             raise JSONDecodeError(\"Expecting value\", s, err.value) from None\n    358         return obj, end\n",
      "JSONDecodeError: Expecting value: line 1 column 1 (char 0)"
     ]
    }
   ],
   "source": [
    "response = requests.get(fileurl)\n",
    "if response.status_code == 200:\n",
    "    print(f'HTTP-Status={response.status_code} File-size={len(response.content):,}')    \n",
    "    zimage = pyfits.getdata(autils.data.download_file(fileurl,cache=True,show_progress=False,timeout=120))\n",
    "    plt.rcParams[\"figure.figsize\"] = [16,9]\n",
    "    plt.imshow(zimage,cmap=matplotlib.cm.gray_r)\n",
    "    zimage.shape\n",
    "else:\n",
    "    print(f'content={response.content}')\n",
    "    print(response.json()['errorMessage'])\n",
    "    print(response.json()['traceback'])  # for API developer use\n"
   ]
  },
  {
   "cell_type": "markdown",
   "metadata": {},
   "source": [
    "### Get Core HDU field names and types <a id=\"core_hdu\" />\n",
    "These occur once per non-primary HDU and are optimized for fast search."
   ]
  },
  {
   "cell_type": "code",
   "execution_count": null,
   "metadata": {},
   "outputs": [],
   "source": [
    "requests.get(f'{adsurl}/core_hdu_fields').json()"
   ]
  },
  {
   "cell_type": "markdown",
   "metadata": {},
   "source": [
    "### Get Aux HDU field names and types <a id=\"aux_hdu\" />\n",
    "These occur once per non-primary HDU but will be slower to search.  All keywords from the non-primary HDUs (except those in Core HDU Fields) are included."
   ]
  },
  {
   "cell_type": "code",
   "execution_count": null,
   "metadata": {},
   "outputs": [],
   "source": [
    "requests.get(f'{adsurl}/aux_hdu_fields/decam/raw/').json()"
   ]
  },
  {
   "cell_type": "markdown",
   "metadata": {},
   "source": [
    "## Advanced HDU Search of Core and Aux fields, results into Pandas <a id=\"hdu_search\" />  "
   ]
  },
  {
   "cell_type": "markdown",
   "metadata": {},
   "source": [
    "# FIX!!!\n",
    "- Should protect against AUX field use unless both Instrument and Proc_type are given.\n",
    "- Need AUX field that can be found in both DEV and PAT"
   ]
  },
  {
   "cell_type": "code",
   "execution_count": null,
   "metadata": {},
   "outputs": [],
   "source": [
    "jj = {\n",
    "    \"outfields\" : [\n",
    "        \"fitsfile__archive_filename\",\n",
    "        \"fitsfile__caldat\",\n",
    "        \"fitsfile__instrument\",\n",
    "        \"fitsfile__proc_type\",\n",
    "        \"ra\",\n",
    "        \"dec\",\n",
    "        \"AIRMASS\"  # AUX field. Slows search\n",
    "    ],\n",
    "    \"search\" : [\n",
    "        [\"fitsfile__instrument\", \"decam\"],\n",
    "        #[\"fitsfile__proc_type\", \"raw\"],\n",
    "    ]\n",
    "}\n",
    "df = None # Pandas DataFrame\n",
    "apiurl=f'{adsurl}/hasearch/?limit=9'\n",
    "response = requests.post(apiurl,json=jj)\n",
    "\n",
    "if response.status_code == 200:\n",
    "    df = pd.read_json(json.dumps(response.json()))\n",
    "else:\n",
    "    print(response.json()['errorMessage'])\n",
    "    print(response.json()['traceback'])  # for API developer use\n",
    "df"
   ]
  },
  {
   "cell_type": "markdown",
   "metadata": {},
   "source": [
    "## Error Conditions <a id=\"errors\" />"
   ]
  },
  {
   "cell_type": "markdown",
   "metadata": {},
   "source": [
    "### Examples of bad search specification\n",
    "#### Attempt to search unknown field name"
   ]
  },
  {
   "cell_type": "code",
   "execution_count": null,
   "metadata": {
    "scrolled": true
   },
   "outputs": [],
   "source": [
    "jj={\n",
    "    \"outfields\" : [\n",
    "        \"ifilter\",\n",
    "        \"archive_filename\"\n",
    "    ],\n",
    "    \"search\" : [\n",
    "        [\"snafu\",\"wubba\"], # unknown field \"snafu\"\n",
    "        [\"instrument\", \"decam\"]\n",
    "    ]\n",
    "}\n",
    "df = None # Pandas DataFrame\n",
    "apiurl=f'{adsurl}/fasearch/?limit=9'\n",
    "response = requests.post(apiurl,json=jj)\n",
    "\n",
    "if response.status_code == 200:\n",
    "    df = pd.read_json(json.dumps(response.json()))\n",
    "else:\n",
    "    print(response.json()['errorMessage'])\n",
    "    #print(response.json()['traceback'])  # for API developer use\n",
    "df"
   ]
  },
  {
   "cell_type": "markdown",
   "metadata": {},
   "source": [
    "#### Attempt to retrieve field name not in known list"
   ]
  },
  {
   "cell_type": "code",
   "execution_count": null,
   "metadata": {
    "scrolled": true
   },
   "outputs": [],
   "source": [
    "jj={\n",
    "    \"outfields\" : [\n",
    "        \"baz\",  # unknown field\n",
    "        \"foo\",  # unknown field\n",
    "        \"ifilter\",\n",
    "        \"archive_filename\"\n",
    "    ],\n",
    "    \"search\" : [\n",
    "        [\"ifilter\", \"GG395 kGG395\"],\n",
    "    ]\n",
    "}\n",
    "df = None # Pandas DataFrame\n",
    "apiurl=f'{adsurl}/fasearch/?limit=9'\n",
    "response = requests.post(apiurl,json=jj)\n",
    "\n",
    "if response.status_code == 200:\n",
    "    df = pd.read_json(json.dumps(response.json()))\n",
    "else:\n",
    "    print(response.json()['errorMessage'])\n",
    "    #print(response.json()['traceback'])  # for API developer use\n",
    "df\n",
    "\n"
   ]
  },
  {
   "cell_type": "markdown",
   "metadata": {},
   "source": [
    "# HERE !!! <a id=\"here\">"
   ]
  },
  {
   "cell_type": "code",
   "execution_count": null,
   "metadata": {},
   "outputs": [],
   "source": [
    "import datetime\n",
    "elapsed = toc()  # Seconds since start of Notebook load (assuming fresh run)\n",
    "print(f'Elapsed seconds={elapsed}')\n",
    "str(datetime.datetime.now())"
   ]
  },
  {
   "cell_type": "markdown",
   "metadata": {},
   "source": [
    "# Resources and references <a id=\"doc\" />\n",
    "- [dal API](http://marsnat2.pat.dm.noao.edu:8000/api-docs/#/dal)\n",
    "We should look at fancy annotation to make this better. It would be better for programmers to have very clear documentation of the types and purposes of all parameters that can be passed to each service\n",
    "\n",
    "- [Data  Models](https://marsnat1.stage.dm.noao.edu/admin/doc/models/)\n",
    "\n",
    "- [NOAO Data Handbook](http://ast.noao.edu/sites/default/files/NOAO_DHB_v2.2.pdf) version 2.2, May 2015"
   ]
  },
  {
   "cell_type": "markdown",
   "metadata": {},
   "source": [
    "# Glossary <a id=\"glos\">\n",
    "    \n",
    "- Proc_type: Processing Type; pipeline process used to generate reduced FITS from raw FITS\n",
    "- Prod_type\n",
    "- Obs_type\n",
    "- Obs_mode\n",
    "    \n",
    "Term     | Definition\n",
    "---------|----------\n",
    "ProcType | Processing Type; pipeline process used to generate reduced FITS from raw FITS"
   ]
  },
  {
   "cell_type": "code",
   "execution_count": null,
   "metadata": {},
   "outputs": [],
   "source": []
  }
 ],
 "metadata": {
  "kernelspec": {
   "display_name": "Python 3",
   "language": "python",
   "name": "python3"
  },
  "language_info": {
   "codemirror_mode": {
    "name": "ipython",
    "version": 3
   },
   "file_extension": ".py",
   "mimetype": "text/x-python",
   "name": "python",
   "nbconvert_exporter": "python",
   "pygments_lexer": "ipython3",
   "version": "3.6.9"
  }
 },
 "nbformat": 4,
 "nbformat_minor": 2
}
